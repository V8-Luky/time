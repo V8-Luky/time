{
 "cells": [
  {
   "cell_type": "markdown",
   "source": [
    "# TIME Forecasting"
   ],
   "metadata": {},
   "id": "14f094eb1f0ab225"
  },
  {
   "cell_type": "code",
   "id": "initial_id",
   "metadata": {},
   "source": [
    "import numpy as np\n",
    "import matplotlib.pyplot as plt\n",
    "from matplotlib.patches import Patch\n",
    "from matplotlib.gridspec import GridSpec\n",
    "\n",
    "import statsmodels.api as sm\n",
    "from statsmodels.tsa.arima.model import ARIMA as sm_ARIMA\n",
    "\n",
    "from sklearn.model_selection import TimeSeriesSplit\n",
    "from sklearn.linear_model import LinearRegression\n",
    "from sklearn.preprocessing import PolynomialFeatures\n",
    "\n",
    "from sktime.utils.plotting import plot_interval, plot_series\n",
    "from sktime.forecasting.naive import NaiveForecaster\n",
    "from sktime.forecasting.arima import ARIMA, AutoARIMA\n",
    "\n",
    "from utils import time_plot, get_figure, baseline_forecasting, residual_analysis_plots, acf_plot, pacf_plot, stationarity_tests, split_time_series, evaluate_forecaster\n",
    "from data import get_apple_5y, get_switzerland_temperature"
   ],
   "outputs": [],
   "execution_count": null
  },
  {
   "cell_type": "markdown",
   "source": [
    "## Baselines"
   ],
   "metadata": {},
   "id": "858e706091921c6"
  },
  {
   "cell_type": "code",
   "source": [
    "data = get_apple_5y().resample('W').mean().ffill()['Close']\n",
    "train_size = int(len(data) * 0.8)\n",
    "fig, ax = time_plot(\n",
    "    x=data.index,\n",
    "    y=data,\n",
    "    label=\"Signal\",\n",
    "    title='Weekly Apple Inc. (AAPL) Closing Prices',\n",
    "    xlabel='Date',\n",
    "    ylabel='Closing Price (USD)',\n",
    "    return_fig=True,\n",
    ")\n",
    "ax.axvline(x=data.index[train_size], color='gray', linestyle='--', label='Train/Test Split')\n",
    "\n",
    "baselines = baseline_forecasting(data, train_size, period=52)\n",
    "for name, (_, pred, _) in baselines.items():\n",
    "    ax.plot(pred.index, pred, label=name, linestyle='--', alpha=0.75)\n",
    "ax.legend()"
   ],
   "metadata": {},
   "id": "2f1f45463cd85e37",
   "outputs": [],
   "execution_count": null
  },
  {
   "cell_type": "code",
   "source": [
    "fig, ax = time_plot(\n",
    "    x=data.index,\n",
    "    y=data,\n",
    "    label=\"Signal\",\n",
    "    title='Weekly Apple Inc. (AAPL) Closing Prices',\n",
    "    xlabel='Date',\n",
    "    ylabel='Closing Price (USD)',\n",
    "    return_fig=True,\n",
    ")\n",
    "ax.axvline(x=data.index[train_size], color='gray', linestyle='--', label='Train/Test Split')\n",
    "\n",
    "name = 'Naïve with drift'\n",
    "_, pred, pred_interval = baselines[name]\n",
    "ax.plot(pred.index, pred, label=name, linestyle='--', alpha=0.75)\n",
    "plot_interval(ax, pred_interval)\n",
    "ax.legend()"
   ],
   "metadata": {},
   "id": "ff3d17d33b3055d8",
   "outputs": [],
   "execution_count": null
  },
  {
   "cell_type": "code",
   "source": [
    "data = get_switzerland_temperature().set_index('dt').asfreq('ME')['AverageTemperature']\n",
    "train_size = int(len(data) * 0.8)\n",
    "fig, ax = time_plot(\n",
    "    x=data.index,\n",
    "    y=data,\n",
    "    label=\"Signal\",\n",
    "    title='Monthly Average Temperature in Switzerland',\n",
    "    xlabel='Year',\n",
    "    ylabel='Average Temperature (°C)',\n",
    "    return_fig=True,\n",
    ")\n",
    "ax.axvline(x=data.index[train_size], color='gray', linestyle='--', label='Train/Test Split')\n",
    "baselines = baseline_forecasting(data, train_size, period=12)\n",
    "for name, (_, pred, _) in baselines.items():\n",
    "    ax.plot(pred.index, pred, label=name, linestyle='--', alpha=0.75)\n",
    "ax.legend(loc='upper left')"
   ],
   "metadata": {},
   "id": "4b98f7ee2f10513d",
   "outputs": [],
   "execution_count": null
  },
  {
   "cell_type": "code",
   "source": [
    "fig, ax = time_plot(\n",
    "    x=data.index,\n",
    "    y=data,\n",
    "    label=\"Signal\",\n",
    "    title='Monthly Average Temperature in Switzerland',\n",
    "    xlabel='Year',\n",
    "    ylabel='Average Temperature (°C)',\n",
    "    return_fig=True,\n",
    ")\n",
    "ax.axvline(x=data.index[train_size], color='gray', linestyle='--', label='Train/Test Split')\n",
    "\n",
    "name = 'Seasonal naïve'\n",
    "_, pred, pred_interval = baselines[name]\n",
    "ax.plot(pred.index, pred, label=name, linestyle='--', alpha=0.75)\n",
    "plot_interval(ax, pred_interval)\n",
    "ax.legend(loc='upper left')"
   ],
   "metadata": {},
   "id": "912e56c2fe414d74",
   "outputs": [],
   "execution_count": null
  },
  {
   "cell_type": "markdown",
   "source": [
    "## Underfitting and overfitting"
   ],
   "metadata": {},
   "id": "c3dd4d3e58bcacbd"
  },
  {
   "cell_type": "code",
   "source": [
    "np.random.seed(42)\n",
    "n = 120\n",
    "t = np.arange(n)\n",
    "data = 10 + 0.5 * t + 20 * np.sin(2 * np.pi * t / 40) + np.random.normal(size=n)\n",
    "\n",
    "train_size = int(n * 0.8)\n",
    "x_train, y_train = t[:train_size], data[:train_size]\n",
    "x_test, y_test = t[train_size:], data[train_size:]\n",
    "\n",
    "linear_model = LinearRegression()\n",
    "linear_model.fit(x_train.reshape(-1, 1), y_train)\n",
    "y_pred_linear = linear_model.predict(t.reshape(-1, 1))\n",
    "\n",
    "poly_features = PolynomialFeatures(degree=10)\n",
    "x_poly_train = poly_features.fit_transform(x_train.reshape(-1, 1))\n",
    "x_poly = poly_features.transform(t.reshape(-1, 1))\n",
    "poly_model = LinearRegression()\n",
    "poly_model.fit(x_poly_train, y_train)\n",
    "y_pred_poly = poly_model.predict(x_poly)\n",
    "\n",
    "fig, [ax] = get_figure()\n",
    "time_plot(t, data, label='Signal', ax=ax, ylim=(0, 150))\n",
    "ax.axvline(x=t[train_size], color='gray', linestyle='--', label='Train/Test Split')\n",
    "ax.plot(t, y_pred_linear, label='Linear model', color='red', linestyle='--', alpha=0.75)\n",
    "ax.plot(t, y_pred_poly, label='Polynomial model', color='purple', linestyle='-.', alpha=0.75)\n",
    "ax.set_title('Underfitting vs overfitting in Time Series')\n",
    "ax.legend(loc='upper left')\n",
    "fig.tight_layout()"
   ],
   "metadata": {},
   "id": "752140361837dd01",
   "outputs": [],
   "execution_count": null
  },
  {
   "cell_type": "markdown",
   "source": [
    "## Rolling cross-validation"
   ],
   "metadata": {},
   "id": "7a622f33dda4e950"
  },
  {
   "cell_type": "code",
   "source": [
    "rng = np.random.RandomState(42)\n",
    "cmap_cv = plt.cm.coolwarm\n",
    "scatter_kwargs = {'lw': 14, 'marker': '|', 'cmap': cmap_cv, 'vmin': 0, 'vmax': 1}\n",
    "nsamples = 100\n",
    "train_size = int(nsamples * 0.8)\n",
    "sample_index = np.arange(nsamples)\n",
    "samples = rng.randn(100)\n",
    "n_splits = 4\n",
    "cv = TimeSeriesSplit(n_splits=n_splits)\n",
    "\n",
    "fig, [ax] = get_figure()\n",
    "for ii, (tr, tt) in enumerate(cv.split(X=samples[:train_size])):\n",
    "    # Fill in indices with the training/test groups\n",
    "    indices = np.array([np.nan] * train_size)\n",
    "    indices[tt] = .7\n",
    "    indices[tr] = 0.1\n",
    "    \n",
    "    # Visualize the results\n",
    "    ax.scatter(\n",
    "        range(len(indices)),\n",
    "        [ii + 0.5] * len(indices),\n",
    "        c=indices,\n",
    "        **scatter_kwargs,\n",
    "    )\n",
    "\n",
    "# Plot final train-test split\n",
    "indices = np.zeros_like(samples)+.1\n",
    "indices[train_size+1:] = .85\n",
    "ax.scatter(\n",
    "    range(len(indices)), \n",
    "    [ii + 2.5] * nsamples, \n",
    "    c=indices,\n",
    "    **scatter_kwargs,\n",
    ")\n",
    "\n",
    "# Formatting\n",
    "yticklabels = list(range(n_splits))\n",
    "ax.set(\n",
    "    yticks=np.arange(n_splits) + 0.5,\n",
    "    yticklabels=yticklabels,\n",
    "    xlabel=\"Sample index\",\n",
    "    ylim=[n_splits + 2.2, -0.2],\n",
    "    xlim=[0, nsamples],\n",
    ")\n",
    "ax.set_title(\"Splitting time series data\", fontsize=15)\n",
    "ax.axvline(x=sample_index[train_size], color='gray', linestyle='--')\n",
    "ax.axhline(y=ii+1.5, color='black', linestyle='-')\n",
    "ax.text(-2.5, 2, \"Cross-validation folds\", va='center', ha='right', rotation=90)\n",
    "ax.text(-2.5, 5.4, \"Final split\", va='center', ha='right', rotation=90)\n",
    "ax.grid(False)\n",
    "\n",
    "ax.legend(\n",
    "    [Patch(color=cmap_cv(.1)), Patch(color=cmap_cv(0.7)), Patch(color=cmap_cv(.85))],\n",
    "    [\"Training\", \"Validation\", \"Testing\"],\n",
    "    loc=(1.02, 0.4),\n",
    "    title=\"Data splits\"\n",
    ")\n",
    "fig.tight_layout()"
   ],
   "metadata": {},
   "id": "85967d068c46b17",
   "outputs": [],
   "execution_count": null
  },
  {
   "cell_type": "markdown",
   "source": [
    "## Residual analysis"
   ],
   "metadata": {},
   "id": "1620177d37bf6bfa"
  },
  {
   "cell_type": "code",
   "source": [
    "np.random.seed(42)\n",
    "n = 120\n",
    "t = np.arange(n)\n",
    "data = 10 + 0.5 * t + 10 * np.sin(2 * np.pi * t / 12) + np.random.normal(size=n)\n",
    "\n",
    "# Fit a simple linear regression model\n",
    "X = sm.add_constant(t)\n",
    "result_linear = sm.OLS(data, X).fit()\n",
    "data_pred_linear = result_linear.predict()\n",
    "residuals_linear = data - data_pred_linear\n",
    "residuals_linear /= np.std(residuals_linear)\n",
    "\n",
    "# Fit a Seasonal ARIMA model\n",
    "results_arima = sm_ARIMA(data, order=(1, 1, 1), seasonal_order=(1, 1, 1, 12)).fit()\n",
    "data_pred_arima = results_arima.predict()\n",
    "residuals_arima = results_arima.standardized_forecasts_error[0]\n",
    "\n",
    "# Plot the original data and fitted values from both models\n",
    "fig = plt.figure(figsize=(16, 10))\n",
    "gs = GridSpec(4, 4, figure=fig)\n",
    "ax1 = fig.add_subplot(gs[0, :])\n",
    "ax2 = fig.add_subplot(gs[1, :2])\n",
    "ax3 = fig.add_subplot(gs[1, 2:], sharey=ax2)\n",
    "linear_axs = [\n",
    "    fig.add_subplot(gs[2, 0]),\n",
    "    fig.add_subplot(gs[2, 1]),\n",
    "    fig.add_subplot(gs[3, 0]),\n",
    "    fig.add_subplot(gs[3, 1]),\n",
    "]\n",
    "arima_axs = [\n",
    "    fig.add_subplot(gs[2, 2]),\n",
    "    fig.add_subplot(gs[2, 3]),\n",
    "    fig.add_subplot(gs[3, 2]),\n",
    "    fig.add_subplot(gs[3, 3]),\n",
    "]\n",
    "\n",
    "ax1.plot(data, label='Original Data', color='blue')\n",
    "ax1.plot(data_pred_linear, label='Linear regression', color='red')\n",
    "ax1.plot(data_pred_arima, label='SARIMA', color='green')\n",
    "ax1.set_title('Original Data and Fitted Values')\n",
    "ax1.legend(loc=\"upper left\")\n",
    "ax1.grid(True)\n",
    "ax2.plot(residuals_linear, label='Residuals: Linear Regression', color='red')\n",
    "ax2.set_title('Standardized residuals of the linear model')\n",
    "ax2.grid(True)\n",
    "ax3.plot(residuals_arima, label='Residuals: Seasonal ARIMA', color='green')\n",
    "ax3.set_title('Standardized residuals of the SARIMA model')\n",
    "ax3.grid(True)\n",
    "residual_analysis_plots(residuals_linear, axs=linear_axs)\n",
    "residual_analysis_plots(residuals_arima, axs=arima_axs)\n",
    "fig.tight_layout()"
   ],
   "metadata": {},
   "id": "c42829c7d4ce3326",
   "outputs": [],
   "execution_count": null
  },
  {
   "cell_type": "markdown",
   "source": [
    "## Examples: Apple closing prices"
   ],
   "metadata": {},
   "id": "817e229c9e484b"
  },
  {
   "cell_type": "code",
   "source": [
    "data = get_apple_5y().resample('W').mean().ffill()['Close']\n",
    "full_train, (train, eval), test = split_time_series(data)\n",
    "plot_series(full_train, test, labels=['Train', 'Test'])\n",
    "fh = list(range(1, 5))  # 4 weeks forecasting horizon"
   ],
   "metadata": {},
   "id": "342d81246c8ac856",
   "outputs": [],
   "execution_count": null
  },
  {
   "cell_type": "markdown",
   "source": [
    "### Baselines"
   ],
   "metadata": {},
   "id": "ae53e5876f617985"
  },
  {
   "cell_type": "code",
   "source": [
    "naive = NaiveForecaster(strategy=\"last\")\n",
    "pred_naive = evaluate_forecaster(naive, train, eval, fh)\n",
    "\n",
    "naive_with_drift = NaiveForecaster(strategy=\"drift\")\n",
    "pred_naive_with_drift = evaluate_forecaster(naive_with_drift, train, eval, fh)\n",
    "\n",
    "plot_series(train, eval, pred_naive, pred_naive_with_drift, labels=['Training', 'Validation', 'Naïve', 'Naïve with drift'])"
   ],
   "metadata": {},
   "id": "8a570ade8670b1af",
   "outputs": [],
   "execution_count": null
  },
  {
   "cell_type": "code",
   "source": [
    "naive_with_drift_residuals = train - naive_with_drift.predict(train.index)\n",
    "residual_analysis_plots(naive_with_drift_residuals['AAPL']/np.std(naive_with_drift_residuals['AAPL']))"
   ],
   "metadata": {},
   "id": "60831d0768d353b9",
   "outputs": [],
   "execution_count": null
  },
  {
   "cell_type": "markdown",
   "source": [
    "### ARIMA"
   ],
   "metadata": {},
   "id": "b2316f6922a9096b"
  },
  {
   "cell_type": "code",
   "source": [
    "fig, [ax1, ax2] = get_figure(ncols=2, figsize=(16,4))\n",
    "time_plot(\n",
    "    x=train.index,\n",
    "    y=train,\n",
    "    title='Weekly average of Apple Closing Prices',\n",
    "    xlabel='Date',\n",
    "    ylabel='Closing Price (USD)',\n",
    "    ax=ax1,\n",
    ")\n",
    "differenced_data = train.diff().dropna()\n",
    "stationarity_tests(differenced_data)\n",
    "time_plot(\n",
    "    x=differenced_data.index,\n",
    "    y=differenced_data,\n",
    "    title='Differenced data',\n",
    "    ylabel='$\\\\nabla x_t$',\n",
    "    ax=ax2,\n",
    ")\n",
    "fig.tight_layout()\n",
    "fig, [ax1, ax2] = get_figure(ncols=2)\n",
    "acf_plot(differenced_data, 30, ax1, title=\"Differenced data\")\n",
    "pacf_plot(differenced_data, 30, ax2, title=\"Differenced data\")"
   ],
   "metadata": {},
   "id": "ea68b239eb4dd890",
   "outputs": [],
   "execution_count": null
  },
  {
   "cell_type": "code",
   "source": [
    "arima110 = ARIMA(order=(1,1,0))\n",
    "pred_arima110 = evaluate_forecaster(arima110, train, eval, fh)\n",
    "\n",
    "arima = AutoARIMA(d=1, seasonal=False, start_p=0, start_q=0, suppress_warnings=True)\n",
    "pred_arima = evaluate_forecaster(arima, train, eval, fh)\n",
    "print(arima.get_fitted_params())\n",
    "\n",
    "plot_series(train, eval, pred_arima110, pred_arima, labels=['Training', 'Validation', 'ARIMA(1,1,0)', 'AutoARIMA'])"
   ],
   "metadata": {},
   "id": "82ac0077091f9b82",
   "outputs": [],
   "execution_count": null
  },
  {
   "cell_type": "code",
   "source": [
    "arima110_residuals = (train - arima110.predict(train.index)).dropna()\n",
    "residual_analysis_plots(arima110_residuals['AAPL']/np.std(arima110_residuals['AAPL']))"
   ],
   "metadata": {},
   "id": "e8addff7440e597d",
   "outputs": [],
   "execution_count": null
  },
  {
   "cell_type": "markdown",
   "source": [
    "### Test results"
   ],
   "metadata": {},
   "id": "e309f0296319255e"
  },
  {
   "cell_type": "code",
   "source": [
    "naive_with_drift = NaiveForecaster(strategy=\"drift\")\n",
    "pred_naive_with_drift = evaluate_forecaster(naive_with_drift, full_train, test, fh, is_test=True)\n",
    "\n",
    "arima110 = ARIMA(order=(1,1,0))\n",
    "pred_arima110 = evaluate_forecaster(arima110, full_train, test, fh, is_test=True)\n",
    "\n",
    "plot_series(full_train, test, pred_naive_with_drift, pred_arima110, labels=['Training', 'Testing', 'Naïve with drift', 'ARIMA(1,1,0)'])"
   ],
   "metadata": {},
   "id": "b158c7c57a377cf5",
   "outputs": [],
   "execution_count": null
  },
  {
   "cell_type": "markdown",
   "source": [
    "## Examples: Swiss temperatures"
   ],
   "metadata": {},
   "id": "1f50a2a269f317cb"
  },
  {
   "cell_type": "code",
   "source": [
    "data = get_switzerland_temperature().set_index('dt').asfreq('ME')['AverageTemperature']\n",
    "full_train, (train, eval), test = split_time_series(data)\n",
    "plot_series(full_train, test, labels=['Train', 'Test'])\n",
    "fh = list(range(1, 5))  # 4 months forecasting horizon"
   ],
   "metadata": {},
   "id": "d271e52a6e225786",
   "outputs": [],
   "execution_count": null
  },
  {
   "cell_type": "markdown",
   "source": [
    "### Baselines"
   ],
   "metadata": {},
   "id": "f8374a94c3ece43c"
  },
  {
   "cell_type": "code",
   "source": [
    "naive = NaiveForecaster(strategy=\"last\")\n",
    "pred_naive = evaluate_forecaster(naive, train, eval, fh)\n",
    "\n",
    "seasonal_naive = NaiveForecaster(strategy=\"last\", sp=12)\n",
    "pred_seasonal_naive = evaluate_forecaster(seasonal_naive, train, eval, fh)\n",
    "\n",
    "plot_series(train, eval, pred_naive, pred_seasonal_naive, labels=['Training', 'Validation', 'Naïve', 'Seasonal naïve'])"
   ],
   "metadata": {},
   "id": "4ff408435d4f480d",
   "outputs": [],
   "execution_count": null
  },
  {
   "cell_type": "code",
   "source": [
    "seasonal_naive_residuals = train - seasonal_naive.predict(train.index)\n",
    "residual_analysis_plots(seasonal_naive_residuals/np.std(seasonal_naive_residuals))"
   ],
   "metadata": {},
   "id": "d64b25ddbb1da9f2",
   "outputs": [],
   "execution_count": null
  },
  {
   "cell_type": "markdown",
   "source": [
    "### ARIMA"
   ],
   "metadata": {},
   "id": "e350a67261ed921e"
  },
  {
   "cell_type": "code",
   "source": [
    "fig, [ax1, ax2] = get_figure(ncols=2)\n",
    "time_plot(\n",
    "    x=train.index,\n",
    "    y=train,\n",
    "    title='Monthly Average Temperature in Switzerland',\n",
    "    xlabel='Year',\n",
    "    ylabel='Average Temperature (°C)',\n",
    "    ax=ax1,\n",
    ")\n",
    "differenced_data = train.diff(12).dropna()\n",
    "stationarity_tests(differenced_data)\n",
    "time_plot(\n",
    "    x=differenced_data.index,\n",
    "    y=differenced_data,\n",
    "    title='Differenced data',\n",
    "    ylabel='$\\\\nabla x_t$',\n",
    "    ax=ax2,\n",
    ")\n",
    "fig, [ax1, ax2] = get_figure(ncols=2)\n",
    "acf_plot(differenced_data, 30, ax1, title=\"Differenced data\")\n",
    "pacf_plot(differenced_data, 30, ax2, title=\"Differenced data\")"
   ],
   "metadata": {},
   "id": "669a352605a931a",
   "outputs": [],
   "execution_count": null
  },
  {
   "cell_type": "code",
   "source": [
    "arima000110 = ARIMA(order=(0,0,0), seasonal_order=(1,1,0,12))\n",
    "pred_arima110 = evaluate_forecaster(arima000110, train, eval, fh)\n",
    "\n",
    "arima = AutoARIMA(d=0, D=1, seasonal=True, sp=12, suppress_warnings=True)\n",
    "pred_arima = evaluate_forecaster(arima, train, eval, fh)\n",
    "print(arima.get_fitted_params())\n",
    "\n",
    "plot_series(train, eval, pred_arima110, pred_arima, labels=['Training', 'Validation', \"ARIMA(0,0,0)(1,1,0)12\", 'AutoARIMA'])"
   ],
   "metadata": {},
   "id": "28d0e54dfb62564c",
   "outputs": [],
   "execution_count": null
  },
  {
   "cell_type": "code",
   "source": [
    "arima000211 = ARIMA(order=(0,0,0), seasonal_order=(2,1,1,12))\n",
    "pred_arima000211 = evaluate_forecaster(arima000211, train, eval, fh)\n",
    "\n",
    "arima000211_residuals = (train - arima000211.predict(train.index)).dropna()\n",
    "residual_analysis_plots(arima000211_residuals/np.std(arima000211_residuals))"
   ],
   "metadata": {},
   "id": "efd74d4e27553a6",
   "outputs": [],
   "execution_count": null
  },
  {
   "cell_type": "markdown",
   "source": [
    "### Test results"
   ],
   "metadata": {},
   "id": "7bcc88c43a70b540"
  },
  {
   "cell_type": "code",
   "source": [
    "seasonal_naive = NaiveForecaster(strategy=\"last\", sp=12)\n",
    "pred_seasonal_naive = evaluate_forecaster(seasonal_naive, full_train, test, fh, is_test=True)\n",
    "\n",
    "arima000211 = ARIMA(order=(0,0,0), seasonal_order=(2,1,1,12))\n",
    "pred_arima000211 = evaluate_forecaster(arima000211, full_train, test, fh, is_test=True)\n",
    "\n",
    "plot_series(full_train, test, pred_seasonal_naive, pred_arima000211, labels=['Training', 'Testing', 'Seasonal naïve', 'ARIMA(0,0,0)(2,1,1)12'])"
   ],
   "metadata": {},
   "id": "1fd9610af20e6de1",
   "outputs": [],
   "execution_count": null
  },
  {
   "metadata": {},
   "cell_type": "code",
   "source": "",
   "id": "74275daa977f8356",
   "outputs": [],
   "execution_count": null
  }
 ],
 "metadata": {
  "kernelspec": {
   "display_name": "Python 3",
   "language": "python",
   "name": "python3"
  },
  "language_info": {
   "codemirror_mode": {
    "name": "ipython",
    "version": 2
   },
   "file_extension": ".py",
   "mimetype": "text/x-python",
   "name": "python",
   "nbconvert_exporter": "python",
   "pygments_lexer": "ipython2",
   "version": "2.7.6"
  }
 },
 "nbformat": 4,
 "nbformat_minor": 5
}
