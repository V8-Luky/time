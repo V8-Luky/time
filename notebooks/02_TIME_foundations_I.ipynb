{
 "cells": [
  {
   "cell_type": "markdown",
   "source": [
    "# TIME Foundations I"
   ],
   "metadata": {},
   "id": "5bdbf6d7f65dab37"
  },
  {
   "cell_type": "code",
   "source": [
    "import numpy as np\n",
    "import pandas as pd\n",
    "import matplotlib.pyplot as plt\n",
    "import statsmodels.api as sm\n",
    "from statsmodels.tsa.seasonal import seasonal_decompose, STL, MSTL\n",
    "\n",
    "from utils import get_figure, time_plot, moving_average_smoothing\n",
    "from data import get_electrocardiogram, get_switzerland_temperature, get_mauna_loa_co2, get_random_walk"
   ],
   "metadata": {},
   "id": "7e19b6615f2acafc",
   "outputs": [],
   "execution_count": null
  },
  {
   "cell_type": "markdown",
   "source": [
    "## Realization of a stochastic process"
   ],
   "metadata": {},
   "id": "afca333a5de868a"
  },
  {
   "cell_type": "code",
   "source": [
    "data = get_electrocardiogram()\n",
    "time_plot(\n",
    "    x=data['time'],\n",
    "    y=data['ecg'],\n",
    "    title='Electrocardiogram (lead MLII) - 0.75 seconds',\n",
    "    xlabel='Time in s',\n",
    "    ylabel='ECG in mV',\n",
    "    xlim=(0,.75),\n",
    "    ylim=(-1,2),\n",
    ")\n",
    "\n",
    "fig, [ax] = get_figure()\n",
    "ax.scatter(data.index, data['ecg'], s=.5)\n",
    "ax.set_xlabel('Sample $t$')\n",
    "ax.set_ylabel('Value $x_t$')\n",
    "ax.set_title(\"Electrocardiogram (lead MLII) - 0.75 seconds\")\n",
    "ax.set_xlim(0, .75*360)\n",
    "ax.set_ylim(-1, 2)\n",
    "print(data['ecg'].iloc[:10])"
   ],
   "metadata": {},
   "id": "de4d251a045d6511",
   "outputs": [],
   "execution_count": null
  },
  {
   "cell_type": "markdown",
   "source": [
    "## Probability concepts"
   ],
   "metadata": {},
   "id": "30c3b85ffe95bba3"
  },
  {
   "cell_type": "code",
   "source": [
    "def generate_data(mean_X: float, mean_Y: float, var_X: float, var_Y: float, rho: float) -> tuple[np.ndarray, np.ndarray]:\n",
    "    cov_XY = rho * np.sqrt(var_X * var_Y)\n",
    "    mean = [mean_X, mean_Y]\n",
    "    cov = [[var_X, cov_XY], [cov_XY, var_Y]]\n",
    "    XY_data = np.random.multivariate_normal(mean, cov, 300)\n",
    "    return XY_data[:, 0], XY_data[:, 1]\n",
    "\n",
    "scenarios = [\n",
    "    (20, 10, 25, 100, 0),    # Different variance, no correlation\n",
    "    (-20, -50, 100, 25, 0),    # Different variance, no correlation, swapped\n",
    "    (30, -20, 50, 50, 0.8),  # Same variance, high correlation\n",
    "    (0, 0, 100, 100, -0.8),  # Same variance, high negative correlation\n",
    "    (50, 50, 100, 400, 0.5), # Different variance, moderate correlation\n",
    "    (-50, 50, 400, 100, -0.5) # Different variance, moderate negative correlation\n",
    "]\n",
    "\n",
    "titles = [\n",
    "    \"Low Var X, High Var Y, No Corr\",\n",
    "    \"High Var X, Low Var Y, No Corr\",\n",
    "    \"Same Var, High Corr\",\n",
    "    \"Same Var, High Neg Corr\",\n",
    "    \"High Var X, Higher Var Y, Moderate Corr\",\n",
    "    \"Higher Var X, High Var Y, Moderate Neg Corr\"\n",
    "]\n",
    "\n",
    "fig, axs = get_figure(nrows=2, ncols=3, figsize=(18, 12), sharey=True)\n",
    "np.random.seed(42)\n",
    "for ax, (mean_X, mean_Y, var_X, var_Y, rho), title in zip(axs, scenarios, titles):\n",
    "    X, Y = generate_data(mean_X, mean_Y, var_X, var_Y, rho)\n",
    "    covariance = np.cov(X, Y)[0, 1]\n",
    "    ax.scatter(X, Y, alpha=0.6, s=10)\n",
    "    ax.axvline(x=np.mean(X), color='r', linestyle='--', label=f'Mean X: {np.mean(X):.2f}')\n",
    "    ax.axhline(y=np.mean(Y), color='g', linestyle='--', label=f'Mean Y: {np.mean(Y):.2f}')\n",
    "    ax.set_title(f\"{title}\\nCovariance: {covariance:.2f}\")\n",
    "    ax.set_xlabel('X values')\n",
    "    ax.set_ylabel('Y values')\n",
    "    ax.legend()\n",
    "\n",
    "xlims = [min(ax.get_xlim()[0] for ax in axs), max(ax.get_xlim()[1] for ax in axs)]\n",
    "ylims = [min(ax.get_ylim()[0] for ax in axs), max(ax.get_ylim()[1] for ax in axs)]\n",
    "lim = [min(xlims[0], ylims[0]), max(xlims[1], ylims[1])]\n",
    "for ax in axs:\n",
    "    ax.set_xlim(lim)\n",
    "    ax.set_ylim(lim)\n",
    "fig.tight_layout()"
   ],
   "metadata": {},
   "id": "b493d06ef9ffcd92",
   "outputs": [],
   "execution_count": null
  },
  {
   "cell_type": "markdown",
   "source": [
    "### Normal distribution"
   ],
   "metadata": {},
   "id": "afd3630145bcff28"
  },
  {
   "cell_type": "code",
   "source": [
    "fig, [ax] = get_figure()\n",
    "parameters = [(0, 1), (0, 2), (-2, 1)]  # (mean, standard deviation)\n",
    "x = np.linspace(-10, 5, 1000)\n",
    "for mu, sigma in parameters:\n",
    "    y = (1 / (np.sqrt(2 * np.pi * sigma**2))) * np.exp(- (x - mu)**2 / (2 * sigma**2))\n",
    "    plt.plot(x, y, label=f'N({mu},{sigma})')\n",
    "ax.set_title('Normal Distributions with Different Means and Standard Deviations')\n",
    "ax.set_xlabel('X')\n",
    "ax.set_ylabel('Probability Density')\n",
    "ax.legend()"
   ],
   "metadata": {},
   "id": "e89e9a7a0daff7f1",
   "outputs": [],
   "execution_count": null
  },
  {
   "cell_type": "markdown",
   "source": [
    "### Autocorrelation"
   ],
   "metadata": {},
   "id": "d10c9427c3ad018a"
  },
  {
   "cell_type": "code",
   "source": [
    "data = get_switzerland_temperature()\n",
    "fig, (ax1, ax2) = get_figure(nrows=2, ncols=1, figsize=(12, 8))\n",
    "time_plot(\n",
    "    x=data['dt'],\n",
    "    y=data['AverageTemperature'],\n",
    "    title=f'Time Plot: Monthly Average Temperature in Switzerland',\n",
    "    xlabel='Year',\n",
    "    ylabel='Average Temperature (°C)',\n",
    "    ax=ax1,\n",
    ")\n",
    "sm.graphics.tsa.plot_acf(data['AverageTemperature'], lags=60, ax=ax2)\n",
    "ax2.set_title(f'Autocorrelation Plot: Monthly Average Temperature in Switzerland', y=1)\n",
    "ax2.set_xlabel('Lag')\n",
    "ax2.set_ylabel('Autocorrelation')\n",
    "ax2.grid(True)\n",
    "fig.tight_layout()"
   ],
   "metadata": {},
   "id": "a9b77d258d4bd576",
   "outputs": [],
   "execution_count": null
  },
  {
   "cell_type": "markdown",
   "source": [
    "## Stochastic process examples\n",
    "\n",
    "### White noise"
   ],
   "metadata": {},
   "id": "a09303746fb5685d"
  },
  {
   "cell_type": "code",
   "source": [
    "n = 1000\n",
    "std_devs = [1]\n",
    "np.random.seed(42)\n",
    "data = [np.random.normal(loc=0, scale=sd, size=n) for sd in std_devs]\n",
    "fig, axs = get_figure(nrows=1, ncols=len(std_devs)+1, figsize=(12, 4))\n",
    "\n",
    "for ax, series, sd in zip(axs, data, std_devs):\n",
    "    time_plot(\n",
    "        x=np.arange(n),\n",
    "        y=series,\n",
    "        title=f'Gaussian White Noise $\\sigma^2={sd}$',\n",
    "        ylabel='$w_t$',\n",
    "        ax=ax\n",
    "    )\n",
    "ax = axs[-1]\n",
    "sm.graphics.tsa.plot_acf(data[0], lags=60, ax=ax)\n",
    "ax.set_title(f'Autocorrelation of Gaussian White Noise $\\sigma^2={std_devs[0]}$')\n",
    "ax.set_xlabel('Lag')\n",
    "ax.set_ylabel('Autocorrelation')\n",
    "ax.grid(True)\n",
    "fig.tight_layout()"
   ],
   "metadata": {},
   "id": "4ef768d38b18e20a",
   "outputs": [],
   "execution_count": null
  },
  {
   "cell_type": "markdown",
   "source": [
    "### Random walk process"
   ],
   "metadata": {},
   "id": "d9602aa572558ecd"
  },
  {
   "cell_type": "code",
   "source": [
    "np.random.seed(42)\n",
    "n_steps = 100\n",
    "variances = [1, 9]\n",
    "seeds = np.random.randint(0, 100, (len(variances), 2))\n",
    "\n",
    "fig, [ax] = get_figure()\n",
    "for i, var in enumerate(variances):\n",
    "     for seed in seeds[i]:\n",
    "        rw = get_random_walk(seed, n_steps, var)\n",
    "        time_plot(\n",
    "            x=np.arange(n_steps),\n",
    "            y=rw,\n",
    "            label=f'$\\sigma^2 = {var}$, seed = {seed}',\n",
    "            title='Random Walks with Different Variance and Seeds',\n",
    "            ax=ax\n",
    "        )\n",
    "fig.tight_layout()"
   ],
   "metadata": {},
   "id": "7ed0f1e864779044",
   "outputs": [],
   "execution_count": null
  },
  {
   "cell_type": "markdown",
   "source": [
    "### Random walk with drift"
   ],
   "metadata": {},
   "id": "5beb92d5eb9beee2"
  },
  {
   "cell_type": "code",
   "source": [
    "np.random.seed(42)\n",
    "seeds = np.random.randint(0, 100, (2, 2))\n",
    "n_steps = 100\n",
    "drifts = [2, -0.1 * np.arange(n_steps)]\n",
    "\n",
    "fig, [ax] = get_figure()\n",
    "formulae = [f\"$u_t = {drifts[0]}$\", \"$u_t = -t/10$\"]\n",
    "for i, (drift, formula) in enumerate(zip(drifts, formulae)):\n",
    "    for seed in seeds[i]:\n",
    "        rw = get_random_walk(seed, n_steps, 9, drift)\n",
    "        time_plot(\n",
    "            x=np.arange(n_steps),\n",
    "            y=rw, \n",
    "            label=f'$\\sigma^2 = 9$, {formula}, seed = {seed}',\n",
    "            title='Random Walks with Drift',\n",
    "            ax=ax\n",
    "        )\n",
    "fig.tight_layout()"
   ],
   "metadata": {},
   "id": "564cf2cf5a1d7ef3",
   "outputs": [],
   "execution_count": null
  },
  {
   "cell_type": "markdown",
   "source": [
    "## Seasonal random walk"
   ],
   "metadata": {},
   "id": "fb38617ed7fb119"
  },
  {
   "cell_type": "code",
   "source": [
    "np.random.seed(42)\n",
    "seeds = np.random.randint(0, 100, (2, 2))\n",
    "n_steps = 100\n",
    "amplitudes = [20, 10]\n",
    "periods = [20, 50]\n",
    "\n",
    "fig, [ax] = get_figure()\n",
    "for i, (amp, period) in enumerate(zip(amplitudes, periods)):\n",
    "    for seed in seeds[i]:\n",
    "        samples = np.arange(n_steps)\n",
    "        seasonal = amp * np.sin(2 * np.pi * samples / period)\n",
    "        rw = get_random_walk(seed, n_steps, 9, seasonal=seasonal)\n",
    "        time_plot(\n",
    "            x=np.arange(n_steps),\n",
    "            y=rw, \n",
    "            label=f'$\\sigma^2 = 9$, A = {amp}, P = {period}, seed = {seed}',\n",
    "            title='Seasonal Random Walks',\n",
    "            ax=ax\n",
    "        )\n",
    "fig.tight_layout()"
   ],
   "metadata": {},
   "id": "97aa8c37b1d12198",
   "outputs": [],
   "execution_count": null
  },
  {
   "cell_type": "markdown",
   "source": [
    "## Seasonal random walk with drift"
   ],
   "metadata": {},
   "id": "2e515fccc2acc04a"
  },
  {
   "cell_type": "code",
   "source": [
    "np.random.seed(42)\n",
    "seeds = np.random.randint(0, 100, (2, 2))\n",
    "n_steps = 100\n",
    "\n",
    "amplitudes = [20, 10]\n",
    "periods = [20, 50]\n",
    "drifts = [2, -0.1 * np.arange(n_steps)]\n",
    "\n",
    "fig, [ax] = get_figure()\n",
    "formulae = [f\"$u_t = {drifts[0]}$\", \"$u_t = -t/10$\"]\n",
    "for i, (amp, period, drift, formula) in enumerate(\n",
    "        zip(amplitudes, periods, drifts, formulae)\n",
    "):\n",
    "    for seed in seeds[i]:\n",
    "        samples = np.arange(n_steps)\n",
    "        seasonal = amp * np.sin(2 * np.pi * samples / period)\n",
    "        rw = get_random_walk(seed, n_steps, 9, drift=drift, seasonal=seasonal)\n",
    "        time_plot(\n",
    "            x=np.arange(n_steps),\n",
    "            y=rw, \n",
    "            label=f'$\\sigma^2 = 9$, {formula}, A = {amp}, P = {period}, seed = {seed}',\n",
    "            title='Seasonal Random Walks with Drift',\n",
    "            ax=ax\n",
    "        )\n",
    "fig.tight_layout()"
   ],
   "metadata": {},
   "id": "b9f406273abc93ce",
   "outputs": [],
   "execution_count": null
  },
  {
   "cell_type": "markdown",
   "source": [
    "## Decomposed seasonal random walk with drift"
   ],
   "metadata": {},
   "id": "24169e35dbaa7daa"
  },
  {
   "cell_type": "code",
   "source": [
    "np.random.seed(42)\n",
    "seeds = np.random.randint(0, 100, (2, 2))\n",
    "n_steps = 100\n",
    "\n",
    "amplitudes = [20, 10]\n",
    "periods = [20, 50]\n",
    "drifts = [np.repeat(2, n_steps), -0.1 * np.arange(n_steps)]\n",
    "\n",
    "color_cycle = plt.rcParams['axes.prop_cycle'].by_key()['color']\n",
    "\n",
    "fig, axs = get_figure(4, 1, figsize=(12, 8))\n",
    "ax1, ax2, ax3, ax4 = axs\n",
    "formulae = [f\"$u_t = {drifts[0][0]}$\", \"$u_t = -t/10$\"]\n",
    "for i, (amp, period, drift, formula, color) in enumerate(zip(amplitudes, periods, drifts, formulae, [color_cycle[0], color_cycle[3]])):\n",
    "    seed = seeds[i][i]\n",
    "    np.random.seed(seed)\n",
    "    samples = np.arange(n_steps)\n",
    "    seasonal = amp * np.sin(2 * np.pi * samples / period)\n",
    "    rw = get_random_walk(seed, n_steps, 9, drift=drift, seasonal=seasonal)\n",
    "    drift = np.cumsum(drift)\n",
    "    seasonal = np.cumsum(seasonal)\n",
    "    ax1.plot(rw, label=f'seed = {seed}', color=color)\n",
    "    ax2.plot(drift, label=formula, color=color)\n",
    "    ax3.plot(seasonal, label=f'A = {amp}, P = {period}', color=color)\n",
    "    ax4.plot(rw - drift - seasonal, label='$\\sigma^2 = 9$', color=color)\n",
    "\n",
    "fig.suptitle('Decomposed Seasonal Random Walks with Drift', y=1)\n",
    "for ax, title, xlab, ylab in zip(\n",
    "    axs,\n",
    "    [\"Signal\", \"Trend\", \"Seasonality\", \"Remainder\"],\n",
    "    [\"$t$\"]*4,\n",
    "    [\"$x_t$\", \"$u_t$\", \"$s_t$\", \"$r_t$\"],\n",
    "): \n",
    "    ax.set_title(title)\n",
    "    ax.set_xlabel(xlab)\n",
    "    ax.set_ylabel(ylab)\n",
    "    ax.legend(loc=\"center right\")\n",
    "fig.tight_layout()"
   ],
   "metadata": {},
   "id": "1089edfca9b6707e",
   "outputs": [],
   "execution_count": null
  },
  {
   "cell_type": "markdown",
   "source": [
    "## Moving average smoothing"
   ],
   "metadata": {},
   "id": "4e5cc72acccdfde1"
  },
  {
   "cell_type": "code",
   "source": [
    "np.random.seed(42)\n",
    "m_orders = [2, 5, 20]\n",
    "n_points = 1000\n",
    "std_dev = 1\n",
    "white_noise = np.random.normal(loc=0, scale=std_dev, size=n_points)\n",
    "\n",
    "fig, [ax] = get_figure()\n",
    "for m in m_orders:\n",
    "    formula, samples, ma_series = moving_average_smoothing(white_noise, m)\n",
    "    time_plot(\n",
    "            x=samples,\n",
    "            y=ma_series, \n",
    "            label=f\"{m}-MA: {formula}\",\n",
    "            title='Moving Average of White Noise $W_t \\sim \\mathcal{N}(0, 1)$',\n",
    "            ylabel='$y_t$',\n",
    "            ax=ax\n",
    "        )\n",
    "fig.tight_layout()"
   ],
   "metadata": {},
   "id": "683735b535ed8a77",
   "outputs": [],
   "execution_count": null
  },
  {
   "cell_type": "code",
   "source": [
    "np.random.seed(42)\n",
    "samples = np.arange(0, 100)\n",
    "trend = 0.01 * samples\n",
    "noise = np.random.normal(scale=0.5, size=len(samples))\n",
    "signal_trend = trend + noise  # Noisy signal\n",
    "\n",
    "seasonal_period = 12\n",
    "seasonality = np.sin(2 * np.pi * samples / seasonal_period)\n",
    "signal_seasonal = trend + seasonality + noise  # Signal with trend, seasonality and noise\n",
    "\n",
    "fig, [ax1, ax2] = get_figure(2, 1, figsize=(10, 8))\n",
    "time_plot(\n",
    "    x=samples,\n",
    "    y=signal_trend, \n",
    "    label=\"Noisy Signal\",\n",
    "    ax=ax1\n",
    ")\n",
    "_, ma_samples, ma = moving_average_smoothing(signal_trend, 10)\n",
    "time_plot(\n",
    "    x=ma_samples,\n",
    "    y=ma, \n",
    "    label=\"10-MA\",\n",
    "    ax=ax1\n",
    ")\n",
    "\n",
    "time_plot(\n",
    "    x=samples,\n",
    "    y=signal_seasonal, \n",
    "    label=\"Noisy Signal with Seasonality\",\n",
    "    ax=ax2\n",
    ")\n",
    "_, ma_samples, ma = moving_average_smoothing(signal_seasonal, 8)\n",
    "time_plot(\n",
    "    x=ma_samples,\n",
    "    y=ma, \n",
    "    label=\"8-MA\",\n",
    "    ax=ax2\n",
    ")\n",
    "_, ma_samples, ma = moving_average_smoothing(signal_seasonal, 12)\n",
    "time_plot(\n",
    "    x=ma_samples,\n",
    "    y=ma, \n",
    "    label=\"12-MA\",\n",
    "    ax=ax2\n",
    ")\n",
    "ax1.set_title(\"Trend Estimation with Moving Average\")\n",
    "ax2.set_title(\"\")\n",
    "fig.tight_layout()"
   ],
   "metadata": {},
   "id": "12b20b3076c3fb59",
   "outputs": [],
   "execution_count": null
  },
  {
   "cell_type": "markdown",
   "source": [
    "## Classical decomposition"
   ],
   "metadata": {},
   "id": "3c409edba1e0bb41"
  },
  {
   "cell_type": "markdown",
   "source": [
    "### statsmodels.tsa.seasonal.seasonal_decompose"
   ],
   "metadata": {},
   "id": "86f77d237e0680bd"
  },
  {
   "cell_type": "code",
   "source": [
    "data = get_mauna_loa_co2()\n",
    "data = data.resample('ME').mean().ffill()\n",
    "res = seasonal_decompose(data)\n",
    "fig = res.plot()\n",
    "fig.set_size_inches(12, 8)\n",
    "fig.suptitle(\"Classical decomposition: Mauna Loa Monthly Atmospheric CO2 Data\", y=1)\n",
    "fig.tight_layout()"
   ],
   "metadata": {},
   "id": "3e3d8187b0f83a0a",
   "outputs": [],
   "execution_count": null
  },
  {
   "cell_type": "markdown",
   "source": [
    "### Re-implementation"
   ],
   "metadata": {},
   "id": "11535df072dfa074"
  },
  {
   "cell_type": "code",
   "source": [
    "np.random.seed(42)\n",
    "n_periods = 12\n",
    "n_years = 5\n",
    "n_steps = n_periods * n_years\n",
    "\n",
    "trend = np.linspace(10, 20, n_steps)\n",
    "seasonality = 5 * np.sin(2 * np.pi * np.arange(n_steps) / n_periods)\n",
    "noise = np.random.normal(0, 2, n_steps)\n",
    "signal = trend + seasonality + noise\n",
    "\n",
    "df = pd.DataFrame({'Sales': signal})\n",
    "df.index = pd.date_range(start='2018-01-01', periods=n_steps, freq='ME')\n",
    "\n",
    "# Detrend series\n",
    "df['Trend'] = df['Sales'].rolling(window=12, center=True, min_periods=1).mean()\n",
    "df['Detrended'] = df['Sales'] - df['Trend']\n",
    "# Calculate the seasonal components using period adjusted averages\n",
    "df['Month'] = df.index.month\n",
    "seasonal_avg = df.groupby('Month')['Detrended'].mean()\n",
    "# Adjust seasonal components\n",
    "seasonal_avg_adjusted = seasonal_avg - seasonal_avg.mean()\n",
    "# Repeat the seasonal component values for each period\n",
    "df['Seasonal'] = df['Month'].map(seasonal_avg_adjusted)\n",
    "# Deseasonalize detrended series\n",
    "df['Remainder'] = df['Detrended'] - df['Seasonal']\n",
    "\n",
    "fig, [ax1, ax2, ax3, ax4] = get_figure(4, 1, figsize=(12, 8))\n",
    "time_plot(\n",
    "    x=df.index,\n",
    "    y=df['Sales'], \n",
    "    title='Original Series',\n",
    "    ax=ax1\n",
    ")\n",
    "time_plot(\n",
    "    x=df.index,\n",
    "    y=df['Trend'], \n",
    "    title='Trend',\n",
    "    ax=ax2,\n",
    "    ylabel='$u_t$',\n",
    ")\n",
    "time_plot(\n",
    "    x=df.index,\n",
    "    y=df['Seasonal'], \n",
    "    title='Seasonal',\n",
    "    ax=ax3,\n",
    "    ylabel='$s_t$',\n",
    ")\n",
    "time_plot(\n",
    "    x=df.index,\n",
    "    y=df['Remainder'], \n",
    "    title='Remainder',\n",
    "    ax=ax4,\n",
    "    ylabel='$r_t$',\n",
    ")\n",
    "fig.tight_layout()"
   ],
   "metadata": {},
   "id": "4e0262e0b8722c35",
   "outputs": [],
   "execution_count": null
  },
  {
   "cell_type": "markdown",
   "source": [
    "## STL decomposition"
   ],
   "metadata": {},
   "id": "a2677e7cbfbe9098"
  },
  {
   "cell_type": "code",
   "source": [
    "data = get_mauna_loa_co2()\n",
    "data = data.resample('ME').mean().ffill()\n",
    "res = STL(data).fit()\n",
    "fig = res.plot()\n",
    "fig.axes[0].set_title(\"\")\n",
    "fig.set_size_inches(12, 8)\n",
    "fig.suptitle(\"STL decomposition: Mauna Loa Monthly Atmospheric CO2 Data\", y=1)\n",
    "fig.tight_layout()"
   ],
   "metadata": {},
   "id": "a201d2da7742cd91",
   "outputs": [],
   "execution_count": null
  },
  {
   "cell_type": "markdown",
   "source": [
    "## Multiple seasonalities"
   ],
   "metadata": {},
   "id": "dab9032eacbaf2f"
  },
  {
   "cell_type": "code",
   "source": [
    "np.random.seed(42)\n",
    "t = np.arange(1, 1000)\n",
    "trend = 0.0001 * t ** 2 + 100\n",
    "daily_seasonality = 5 * np.sin(2 * np.pi * t / 24)\n",
    "weekly_seasonality = 10 * np.sin(2 * np.pi * t / (24 * 7))\n",
    "noise = np.random.randn(len(t))\n",
    "y = trend + daily_seasonality + weekly_seasonality + noise\n",
    "index = pd.date_range(start='2000-01-01', periods=len(t), freq='h')\n",
    "data = pd.DataFrame(data=y, index=index)\n",
    "res = MSTL(data, periods=(24, 24*7)).fit()\n",
    "fig = res.plot()\n",
    "fig.axes[0].set_title(\"\")\n",
    "fig.set_size_inches(12, 8)\n",
    "fig.suptitle(\"Multiple Seasonal-Trend decomposition using LOESS\", y=1)\n",
    "fig.tight_layout()"
   ],
   "metadata": {},
   "id": "6decf06859610180",
   "outputs": [],
   "execution_count": null
  },
  {
   "cell_type": "code",
   "source": [],
   "metadata": {},
   "id": "1be51b1825db1850",
   "outputs": [],
   "execution_count": null
  }
 ],
 "metadata": {
  "kernelspec": {
   "display_name": "Python 3",
   "language": "python",
   "name": "python3"
  },
  "language_info": {
   "codemirror_mode": {
    "name": "ipython",
    "version": 2
   },
   "file_extension": ".py",
   "mimetype": "text/x-python",
   "name": "python",
   "nbconvert_exporter": "python",
   "pygments_lexer": "ipython2",
   "version": "2.7.6"
  }
 },
 "nbformat": 4,
 "nbformat_minor": 5
}
