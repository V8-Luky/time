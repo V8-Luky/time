{
 "cells": [
  {
   "cell_type": "markdown",
   "id": "5bdbf6d7f65dab37",
   "metadata": {},
   "source": [
    "# TIME introduction"
   ]
  },
  {
   "cell_type": "markdown",
   "id": "fc151ef08ef20c62",
   "metadata": {},
   "source": [
    "## Getting started\n",
    "\n",
    "- Reproduce file structure from Ilias (remember to unzip data):\n",
    "```text\n",
    "TIME\n",
    "|-- data\n",
    "    |-- condition-monitoring-of-hydraulic-systems\n",
    "    |-- GlobalLandTemperaturesByCountry.csv\n",
    "    |-- victoria_electricity_demand.csv\n",
    "|-- notebooks\n",
    "    |-- 01_TIME_introduction.ipynb\n",
    "    |-- data.py\n",
    "    |-- utils.py\n",
    "|-- requirements.txt\n",
    "```\n",
    "- Setup and activate virtual environment ([tutorial](https://realpython.com/python-virtual-environments-a-primer/))\n",
    "- Install requirements: `pip install -r requirements.txt`\n",
    "- Within the `TIME` directory, start the jupyter server: `jupyter notebook`\n",
    "- Run notebook"
   ]
  },
  {
   "cell_type": "code",
   "execution_count": null,
   "id": "d384daeae936625e",
   "metadata": {},
   "outputs": [],
   "source": [
    "from typing import List\n",
    "\n",
    "import numpy as np\n",
    "import pandas as pd\n",
    "import seaborn as sns\n",
    "import matplotlib.pyplot as plt\n",
    "import statsmodels.api as sm\n",
    "from statsmodels.tsa.arima.model import ARIMA\n",
    "\n",
    "from utils import get_figure, time_plot\n",
    "from data import get_electrocardiogram, get_apple_5y, get_france_death_rate_20y, get_switzerland_temperature, get_sensor_data"
   ]
  },
  {
   "cell_type": "markdown",
   "id": "b202167365e46f78",
   "metadata": {},
   "source": [
    "## Time series exemples\n",
    "\n",
    "### Time series in healthcare"
   ]
  },
  {
   "cell_type": "code",
   "execution_count": null,
   "id": "fbad5ff0c60a9bf5",
   "metadata": {},
   "outputs": [],
   "source": [
    "data = get_electrocardiogram()\n",
    "time_plot(\n",
    "    x=data['time'],\n",
    "    y=data['ecg'],\n",
    "    title='Electrocardiogram (lead MLII) - 3 seconds',\n",
    "    xlabel='Time in s',\n",
    "    ylabel='ECG in mV',\n",
    "    xlim=(0,3),\n",
    "    ylim=(-1,2),\n",
    ")"
   ]
  },
  {
   "cell_type": "markdown",
   "id": "c460783854427370",
   "metadata": {},
   "source": [
    "### Time series in finance"
   ]
  },
  {
   "cell_type": "code",
   "execution_count": null,
   "id": "1a63a539ef3479ec",
   "metadata": {},
   "outputs": [],
   "source": [
    "data = get_apple_5y()\n",
    "time_plot(\n",
    "    x=data.index,\n",
    "    y=data['Close'],\n",
    "    title='Apple Inc. (AAPL) Closing Prices - Last 5 Years',\n",
    "    xlabel='Date',\n",
    "    ylabel='Closing Price (USD)',\n",
    ")\n",
    "\n",
    "time_plot(\n",
    "    x=data.index,\n",
    "    y=data['Close'],\n",
    "    title='Apple Inc. (AAPL) Closing Prices - Last 5 Years',\n",
    "    xlabel='Date',\n",
    "    ylabel='Closing Price (USD)',\n",
    "    show_trend=True\n",
    ")"
   ]
  },
  {
   "cell_type": "markdown",
   "id": "e1d3d75977f0591b",
   "metadata": {},
   "source": [
    "### Time series in demographics"
   ]
  },
  {
   "cell_type": "code",
   "execution_count": null,
   "id": "ce6c5c895f8980aa",
   "metadata": {},
   "outputs": [],
   "source": [
    "data = get_france_death_rate_20y()\n",
    "time_plot(\n",
    "    x=data['time'],\n",
    "    y=data['value'],\n",
    "    title='Monthly Death Rates Over the Last 20 Years in France',\n",
    "    xlabel='Year',\n",
    "    ylabel='Monthly Death Rate',\n",
    ")\n",
    "time_plot(\n",
    "    x=data['time'],\n",
    "    y=data['value'],\n",
    "    title='Monthly Death Rates Over the Last 20 Years in France',\n",
    "    xlabel='Year',\n",
    "    ylabel='Monthly Death Rate',\n",
    "    show_trend=True\n",
    ")"
   ]
  },
  {
   "cell_type": "markdown",
   "id": "48e9c13677197a77",
   "metadata": {},
   "source": [
    "### Time series in meteorology"
   ]
  },
  {
   "cell_type": "code",
   "execution_count": null,
   "id": "e1a5247ca669f261",
   "metadata": {},
   "outputs": [],
   "source": [
    "data = get_switzerland_temperature()\n",
    "time_plot(\n",
    "    x=data['dt'],\n",
    "    y=data['AverageTemperature'],\n",
    "    title='Monthly Average Temperature in Switzerland',\n",
    "    xlabel='Year',\n",
    "    ylabel='Average Temperature (°C)',\n",
    ")"
   ]
  },
  {
   "cell_type": "markdown",
   "id": "df9e213b5ba9691a",
   "metadata": {},
   "source": [
    "### Time series in industry"
   ]
  },
  {
   "cell_type": "code",
   "execution_count": null,
   "id": "ad1b525866074b09",
   "metadata": {},
   "outputs": [],
   "source": [
    "def plot_profile(df: pd.DataFrame, profile_id: int, features: List[str] = []):\n",
    "    filtered_df = df[features][df.profile_id == profile_id].reset_index()\n",
    "    with sns.axes_style(\"whitegrid\"):\n",
    "        fig, axs = get_figure(nrows=len(features), ncols=1, figsize=(12, len(features)*2), sharex=True)\n",
    "        plt.xlabel(\"sample\")\n",
    "        for ax, feature_name in zip(axs, features):\n",
    "            ax.plot(filtered_df[feature_name])\n",
    "            ax.set_ylabel(feature_name)\n",
    "\n",
    "data = get_sensor_data()\n",
    "data = data[[c for c in data.columns if c not in [\"CE\", \"PS4\", \"PS6\"]]]\n",
    "plot_profile(data, profile_id=1, features=data.columns[:5])\n",
    "plot_profile(data, profile_id=1, features=data.columns[5:10])"
   ]
  },
  {
   "cell_type": "markdown",
   "id": "aa348b3988afa9c2",
   "metadata": {},
   "source": [
    "## Challenge of time dependence"
   ]
  },
  {
   "cell_type": "code",
   "execution_count": null,
   "id": "d1dc3843907c5c66",
   "metadata": {},
   "outputs": [],
   "source": [
    "np.random.seed(42)\n",
    "n = 120\n",
    "t = np.arange(n)\n",
    "data = 10 + 0.5 * t + 10 * np.sin(2 * np.pi * t / 12) + np.random.normal(size=n)\n",
    "\n",
    "X = sm.add_constant(t)\n",
    "model_simple = sm.OLS(data, X).fit()\n",
    "data_pred_simple = model_simple.predict(X)\n",
    "residuals_simple = data - data_pred_simple\n",
    "\n",
    "model_arima = ARIMA(data, order=(1, 1, 1), seasonal_order=(1, 1, 1, 12))\n",
    "results_arima = model_arima.fit()\n",
    "data_pred_arima = results_arima.predict()\n",
    "residuals_arima = data - data_pred_arima\n",
    "\n",
    "fig, [ax1, ax2, ax3] = get_figure(nrows=3, ncols=1, figsize=(12, 12))\n",
    "ax1.plot(data, label='Original Data', color='blue')\n",
    "ax1.plot(data_pred_simple, label='Fit: Linear Regression', color='red')\n",
    "ax1.plot(data_pred_arima, label='Fit: Seasonal ARIMA', color='green')\n",
    "ax1.set_title('Original Data and Fitted Values')\n",
    "ax1.legend(loc=\"upper left\")\n",
    "\n",
    "ax2.plot(residuals_simple, label='Residuals: Linear Regression', color='red')\n",
    "ax2.set_title('Residuals from Linear Regression')\n",
    "ax2.legend(loc=\"upper left\")\n",
    "\n",
    "ax3.plot(residuals_arima, label='Residuals: Seasonal ARIMA', color='green')\n",
    "ax3.set_title('Residuals from Seasonal ARIMA')\n",
    "ax3.legend(loc=\"upper left\")\n",
    "\n",
    "fig.tight_layout()"
   ]
  },
  {
   "cell_type": "markdown",
   "id": "7cfce7bd112e4058",
   "metadata": {},
   "source": [
    "## Visualization of time series\n",
    "\n",
    "### Seasonal Plot"
   ]
  },
  {
   "cell_type": "code",
   "execution_count": null,
   "id": "7eb73fc6a1dd7db6",
   "metadata": {},
   "outputs": [],
   "source": [
    "df = get_switzerland_temperature()\n",
    "months = ['Jan', 'Feb', 'Mar', 'Apr', 'May', 'Jun', 'Jul', 'Aug', 'Sep', 'Oct', 'Nov', 'Dec']\n",
    "df['Month'] = df['dt'].dt.month\n",
    "df['Year'] = df['dt'].dt.year\n",
    "pivot_df = df.pivot(index='Month', columns='Year', values='AverageTemperature')\n",
    "fig, [ax] = get_figure()\n",
    "for year in pivot_df.columns:\n",
    "    ax.plot(pivot_df.index, pivot_df[year], label=year)\n",
    "\n",
    "ax.set_title('Seasonal Plot: Monthly Average Temperature in Switzerland')\n",
    "ax.set_xlabel('Month')\n",
    "ax.set_ylabel('Average Temperature (°C)')\n",
    "ax.legend(title='Year', loc='lower center', ncol=5)\n",
    "fig.tight_layout()"
   ]
  },
  {
   "cell_type": "markdown",
   "id": "6b55e58f1cea5385",
   "metadata": {},
   "source": [
    "### Seasonal Boxplot"
   ]
  },
  {
   "cell_type": "code",
   "execution_count": null,
   "id": "1758264fddb30c8",
   "metadata": {},
   "outputs": [],
   "source": [
    "boxplot_df = df.pivot(index='Year', columns='Month', values='AverageTemperature')\n",
    "fig, [ax] = get_figure()\n",
    "boxplot_df.boxplot(ax=ax)\n",
    "ax.set_title('Seasonal Boxplot: Monthly Average Temperature in Switzerland')\n",
    "ax.set_xlabel('Month')\n",
    "ax.set_ylabel('Average Temperature (°C)')\n",
    "ax.set_xticks(ticks=range(1, 13), labels=months)\n",
    "fig.tight_layout()"
   ]
  },
  {
   "cell_type": "markdown",
   "id": "6d56714b2509699f",
   "metadata": {},
   "source": [
    "### Calendar Heatmap"
   ]
  },
  {
   "cell_type": "code",
   "execution_count": null,
   "id": "910832a277f429c7",
   "metadata": {},
   "outputs": [],
   "source": [
    "fig, [ax] = get_figure(figsize=(12, 6))\n",
    "sns.heatmap(boxplot_df, ax=ax, cmap=\"coolwarm\", annot=False, cbar=True, xticklabels=months)\n",
    "ax.set_title('Calendar Heatmap: Monthly Average Temperature in Switzerland')\n",
    "ax.set_xlabel('Month')\n",
    "ax.set_ylabel('Year')\n",
    "fig.tight_layout()"
   ]
  },
  {
   "cell_type": "markdown",
   "id": "50f0f72388362eca",
   "metadata": {},
   "source": [
    "### Seasonal Subseries Plot"
   ]
  },
  {
   "cell_type": "code",
   "execution_count": null,
   "id": "27e8375353a34726",
   "metadata": {},
   "outputs": [],
   "source": [
    "fig = plt.figure(figsize=(12, 6))\n",
    "g = sns.relplot(data=df, x='Year', y='AverageTemperature', kind='line', col='Month', col_wrap=6, facet_kws={'sharey': True}, height=3)\n",
    "for month_idx, (ax, month_name) in enumerate(zip(g.axes.flat, months)):\n",
    "    mean_value = df.loc[df['Month']==month_idx+1, 'AverageTemperature'].mean()\n",
    "    ax.axhline(mean_value, color='red', linestyle='--', linewidth=1.5, label='Mean')\n",
    "    ax.set_title(month_name)\n",
    "    if month_idx == 5:\n",
    "        ax.legend(loc='lower right')\n",
    "fig.suptitle('Seasonal Subseries Plot: Monthly Average Temperature in Switzerland', y=1)\n",
    "g.tight_layout()"
   ]
  },
  {
   "cell_type": "markdown",
   "id": "4d305bb2618267f5",
   "metadata": {},
   "source": [
    "### Lag Plot"
   ]
  },
  {
   "cell_type": "code",
   "execution_count": null,
   "id": "910ac53b0ce26b7b",
   "metadata": {},
   "outputs": [],
   "source": [
    "fig, axs = get_figure(nrows=2, ncols=6)\n",
    "for ax, lag in zip(axs, range(1, 13)):\n",
    "    ax.scatter(df['AverageTemperature'][:-lag], df['AverageTemperature'][lag:], s=10)\n",
    "    ax.set_title(f'Lag {lag}')\n",
    "    ax.set_xlabel('$x_t$')\n",
    "    ax.set_ylabel(f'$x_{{t+{lag}}}$')\n",
    "fig.suptitle('Lag Plot: Monthly Average Temperature in Switzerland', y=1)\n",
    "fig.tight_layout()"
   ]
  },
  {
   "cell_type": "code",
   "execution_count": null,
   "id": "f6b23eebb63e3d8b",
   "metadata": {},
   "outputs": [],
   "source": []
  }
 ],
 "metadata": {
  "kernelspec": {
   "display_name": ".venv",
   "language": "python",
   "name": "python3"
  },
  "language_info": {
   "codemirror_mode": {
    "name": "ipython",
    "version": 2
   },
   "file_extension": ".py",
   "mimetype": "text/x-python",
   "name": "python",
   "nbconvert_exporter": "python",
   "pygments_lexer": "ipython2",
   "version": "3.12.3"
  }
 },
 "nbformat": 4,
 "nbformat_minor": 5
}
