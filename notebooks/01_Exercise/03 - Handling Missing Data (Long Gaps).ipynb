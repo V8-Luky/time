{
 "cells": [
  {
   "cell_type": "code",
   "execution_count": 27,
   "id": "5dc23032-d6c5-475c-bd1f-65d231057b9b",
   "metadata": {},
   "outputs": [],
   "source": [
    "import numpy as np\n",
    "import matplotlib.pyplot as plt\n",
    "import plotly.express as px\n",
    "import os\n",
    "import plotly.io as pio\n",
    "pio.templates.default = \"plotly_white\"\n",
    "import pandas as pd\n",
    "from pathlib import Path\n",
    "from tqdm.autonotebook import tqdm\n",
    "import missingno as msno\n",
    "from itertools import cycle\n",
    "from sklearn.metrics import mean_absolute_error\n",
    "from IPython.display import display, HTML\n",
    "# %load_ext autoreload\n",
    "# %autoreload 2\n",
    "np.random.seed()\n",
    "tqdm.pandas()"
   ]
  },
  {
   "cell_type": "code",
   "execution_count": 28,
   "id": "d9c2bb44-4318-4eeb-af25-bfde1c261c76",
   "metadata": {},
   "outputs": [],
   "source": [
    "os.makedirs(\"imgs/chapter_2\", exist_ok=True)\n",
    "preprocessed = Path(\"data/london_smart_meters/preprocessed\")"
   ]
  },
  {
   "cell_type": "code",
   "execution_count": 29,
   "id": "b047b9b0-e1c9-4881-8e58-bf258933143a",
   "metadata": {},
   "outputs": [],
   "source": [
    "assert preprocessed.is_dir(), \"You have to run 02 - Preprocessing London Smart Meter Dataset.ipynb in Chapter02 before running this notebook\""
   ]
  },
  {
   "cell_type": "code",
   "execution_count": 30,
   "id": "8a31da60-3c70-41f0-b6fb-d48f5b4bd3ab",
   "metadata": {},
   "outputs": [],
   "source": [
    "from itertools import cycle\n",
    "\n",
    "def format_plot(fig, legends=None, font_size=15, title_font_size=20):\n",
    "    if legends:\n",
    "        names = cycle(legends)\n",
    "        fig.for_each_trace(lambda t: t.update(name=next(names)))\n",
    "    \n",
    "    fig.update_layout(\n",
    "        autosize=False,\n",
    "        width=900,\n",
    "        height=500,\n",
    "        title=dict(\n",
    "            text=fig.layout.title.text,\n",
    "            x=0.5,\n",
    "            xanchor='center',\n",
    "            yanchor='top',\n",
    "            font=dict(size=title_font_size)\n",
    "        ),\n",
    "        legend_title=None,\n",
    "        legend=dict(\n",
    "            font=dict(size=font_size),\n",
    "            orientation=\"h\",\n",
    "            yanchor=\"bottom\",\n",
    "            y=0.98,\n",
    "            xanchor=\"right\",\n",
    "            x=1,\n",
    "        ),\n",
    "        yaxis=dict(\n",
    "            title=dict(text=\"Value\", font=dict(size=font_size)),\n",
    "            tickfont=dict(size=font_size),\n",
    "        ),\n",
    "        xaxis=dict(\n",
    "            title=dict(text=\"Day\", font=dict(size=font_size)),\n",
    "            tickfont=dict(size=font_size),\n",
    "        )\n",
    "    )\n",
    "    return fig\n"
   ]
  },
  {
   "cell_type": "markdown",
   "id": "702cc04c-9d53-40b0-92bc-6a1e46b288ce",
   "metadata": {
    "tags": []
   },
   "source": [
    "# Reading Blocks 0-7"
   ]
  },
  {
   "cell_type": "code",
   "execution_count": 31,
   "id": "58858f9f-adea-4904-8e0f-56b83b75a8c6",
   "metadata": {},
   "outputs": [],
   "source": [
    "from src.utils.data_utils import compact_to_expanded"
   ]
  },
  {
   "cell_type": "code",
   "execution_count": 32,
   "id": "20927ffd-ad57-4a11-ae11-0f77d94894b9",
   "metadata": {},
   "outputs": [
    {
     "data": {
      "text/html": [
       "<div>\n",
       "<style scoped>\n",
       "    .dataframe tbody tr th:only-of-type {\n",
       "        vertical-align: middle;\n",
       "    }\n",
       "\n",
       "    .dataframe tbody tr th {\n",
       "        vertical-align: top;\n",
       "    }\n",
       "\n",
       "    .dataframe thead th {\n",
       "        text-align: right;\n",
       "    }\n",
       "</style>\n",
       "<table border=\"1\" class=\"dataframe\">\n",
       "  <thead>\n",
       "    <tr style=\"text-align: right;\">\n",
       "      <th></th>\n",
       "      <th>LCLid</th>\n",
       "      <th>start_timestamp</th>\n",
       "      <th>frequency</th>\n",
       "      <th>energy_consumption</th>\n",
       "      <th>series_length</th>\n",
       "      <th>stdorToU</th>\n",
       "      <th>Acorn</th>\n",
       "      <th>Acorn_grouped</th>\n",
       "      <th>file</th>\n",
       "      <th>holidays</th>\n",
       "      <th>...</th>\n",
       "      <th>windBearing</th>\n",
       "      <th>temperature</th>\n",
       "      <th>dewPoint</th>\n",
       "      <th>pressure</th>\n",
       "      <th>apparentTemperature</th>\n",
       "      <th>windSpeed</th>\n",
       "      <th>precipType</th>\n",
       "      <th>icon</th>\n",
       "      <th>humidity</th>\n",
       "      <th>summary</th>\n",
       "    </tr>\n",
       "  </thead>\n",
       "  <tbody>\n",
       "    <tr>\n",
       "      <th>0</th>\n",
       "      <td>MAC000002</td>\n",
       "      <td>2012-10-13</td>\n",
       "      <td>30min</td>\n",
       "      <td>[0.263, 0.2689999999999999, 0.275, 0.256, 0.21...</td>\n",
       "      <td>24144</td>\n",
       "      <td>Std</td>\n",
       "      <td>ACORN-A</td>\n",
       "      <td>Affluent</td>\n",
       "      <td>block_0</td>\n",
       "      <td>[NO_HOLIDAY, NO_HOLIDAY, NO_HOLIDAY, NO_HOLIDA...</td>\n",
       "      <td>...</td>\n",
       "      <td>[186, 186, 188, 188, 190, 190, 203, 203, 206, ...</td>\n",
       "      <td>[8.78, 8.78, 8.27, 8.27, 7.87, 7.87, 7.89, 7.8...</td>\n",
       "      <td>[6.28, 6.28, 6.21, 6.21, 6.22, 6.22, 6.76, 6.7...</td>\n",
       "      <td>[1007.7, 1007.7, 1007.36, 1007.36, 1006.73, 10...</td>\n",
       "      <td>[7.55, 7.55, 7.34, 7.34, 6.75, 6.75, 6.89, 6.8...</td>\n",
       "      <td>[2.28, 2.28, 1.81, 1.81, 1.95, 1.95, 1.83, 1.8...</td>\n",
       "      <td>[rain, rain, rain, rain, rain, rain, rain, rai...</td>\n",
       "      <td>[clear-night, clear-night, clear-night, clear-...</td>\n",
       "      <td>[0.84, 0.84, 0.87, 0.87, 0.89, 0.89, 0.93, 0.9...</td>\n",
       "      <td>[Clear, Clear, Clear, Clear, Partly Cloudy, Pa...</td>\n",
       "    </tr>\n",
       "    <tr>\n",
       "      <th>1</th>\n",
       "      <td>MAC000246</td>\n",
       "      <td>2012-01-01</td>\n",
       "      <td>30min</td>\n",
       "      <td>[0.509, 0.317, 0.253, 0.249, 0.93, 0.607, 0.10...</td>\n",
       "      <td>37872</td>\n",
       "      <td>Std</td>\n",
       "      <td>ACORN-A</td>\n",
       "      <td>Affluent</td>\n",
       "      <td>block_0</td>\n",
       "      <td>[NO_HOLIDAY, NO_HOLIDAY, NO_HOLIDAY, NO_HOLIDA...</td>\n",
       "      <td>...</td>\n",
       "      <td>[229, 229, 238, 238, 229, 229, 231, 231, 227, ...</td>\n",
       "      <td>[12.12, 12.12, 12.59, 12.59, 12.45, 12.45, 12....</td>\n",
       "      <td>[10.97, 10.97, 11.02, 11.02, 11.04, 11.04, 10....</td>\n",
       "      <td>[1008.1, 1008.1, 1007.88, 1007.88, 1007.95, 10...</td>\n",
       "      <td>[12.12, 12.12, 12.59, 12.59, 12.45, 12.45, 12....</td>\n",
       "      <td>[5.9, 5.9, 6.06, 6.06, 5.31, 5.31, 4.68, 4.68,...</td>\n",
       "      <td>[rain, rain, rain, rain, rain, rain, rain, rai...</td>\n",
       "      <td>[partly-cloudy-night, partly-cloudy-night, clo...</td>\n",
       "      <td>[0.93, 0.93, 0.9, 0.9, 0.91, 0.91, 0.93, 0.93,...</td>\n",
       "      <td>[Mostly Cloudy, Mostly Cloudy, Overcast, Overc...</td>\n",
       "    </tr>\n",
       "    <tr>\n",
       "      <th>2</th>\n",
       "      <td>MAC000450</td>\n",
       "      <td>2012-03-23</td>\n",
       "      <td>30min</td>\n",
       "      <td>[1.337, 1.426, 0.996, 0.971, 0.994, 0.952, 0.8...</td>\n",
       "      <td>33936</td>\n",
       "      <td>Std</td>\n",
       "      <td>ACORN-A</td>\n",
       "      <td>Affluent</td>\n",
       "      <td>block_0</td>\n",
       "      <td>[NO_HOLIDAY, NO_HOLIDAY, NO_HOLIDAY, NO_HOLIDA...</td>\n",
       "      <td>...</td>\n",
       "      <td>[78, 78, 73, 73, 81, 81, 80, 80, 75, 75, 71, 7...</td>\n",
       "      <td>[8.76, 8.76, 8.54, 8.54, 8.09, 8.09, 7.34, 7.3...</td>\n",
       "      <td>[7.25, 7.25, 7.12, 7.12, 7.17, 7.17, 6.68, 6.6...</td>\n",
       "      <td>[1027.41, 1027.41, 1026.91, 1026.91, 1026.54, ...</td>\n",
       "      <td>[7.59, 7.59, 7.43, 7.43, 7.24, 7.24, 7.34, 7.3...</td>\n",
       "      <td>[2.18, 2.18, 2.07, 2.07, 1.72, 1.72, 1.34, 1.3...</td>\n",
       "      <td>[rain, rain, rain, rain, rain, rain, rain, rai...</td>\n",
       "      <td>[fog, fog, fog, fog, fog, fog, fog, fog, fog, ...</td>\n",
       "      <td>[0.9, 0.9, 0.91, 0.91, 0.94, 0.94, 0.96, 0.96,...</td>\n",
       "      <td>[Foggy, Foggy, Foggy, Foggy, Foggy, Foggy, Fog...</td>\n",
       "    </tr>\n",
       "    <tr>\n",
       "      <th>3</th>\n",
       "      <td>MAC001074</td>\n",
       "      <td>2012-05-09</td>\n",
       "      <td>30min</td>\n",
       "      <td>[0.18, 0.086, 0.106, 0.173, 0.146, 0.223, 0.21...</td>\n",
       "      <td>31680</td>\n",
       "      <td>ToU</td>\n",
       "      <td>ACORN-</td>\n",
       "      <td>ACORN-</td>\n",
       "      <td>block_0</td>\n",
       "      <td>[NO_HOLIDAY, NO_HOLIDAY, NO_HOLIDAY, NO_HOLIDA...</td>\n",
       "      <td>...</td>\n",
       "      <td>[215, 215, 207, 207, 215, 215, 216, 216, 126, ...</td>\n",
       "      <td>[11.46, 11.46, 11.38, 11.38, 11.38, 11.38, 10....</td>\n",
       "      <td>[10.23, 10.23, 10.17, 10.17, 10.24, 10.24, 10....</td>\n",
       "      <td>[1007.39, 1007.39, 1007.21, 1007.21, 1007.06, ...</td>\n",
       "      <td>[11.46, 11.46, 11.38, 11.38, 11.38, 11.38, 10....</td>\n",
       "      <td>[2.35, 2.35, 2.15, 2.15, 1.84, 1.84, 1.22, 1.2...</td>\n",
       "      <td>[rain, rain, rain, rain, rain, rain, rain, rai...</td>\n",
       "      <td>[partly-cloudy-night, partly-cloudy-night, par...</td>\n",
       "      <td>[0.92, 0.92, 0.92, 0.92, 0.93, 0.93, 0.95, 0.9...</td>\n",
       "      <td>[Partly Cloudy, Partly Cloudy, Mostly Cloudy, ...</td>\n",
       "    </tr>\n",
       "    <tr>\n",
       "      <th>4</th>\n",
       "      <td>MAC003223</td>\n",
       "      <td>2012-09-18</td>\n",
       "      <td>30min</td>\n",
       "      <td>[0.076, 0.079, 0.123, 0.109, 0.051, 0.069, 0.0...</td>\n",
       "      <td>25344</td>\n",
       "      <td>Std</td>\n",
       "      <td>ACORN-A</td>\n",
       "      <td>Affluent</td>\n",
       "      <td>block_0</td>\n",
       "      <td>[NO_HOLIDAY, NO_HOLIDAY, NO_HOLIDAY, NO_HOLIDA...</td>\n",
       "      <td>...</td>\n",
       "      <td>[236, 236, 240, 240, 242, 242, 244, 244, 248, ...</td>\n",
       "      <td>[14.06, 14.06, 13.12, 13.12, 12.53, 12.53, 12....</td>\n",
       "      <td>[10.82, 10.82, 10.29, 10.29, 9.86, 9.86, 9.83,...</td>\n",
       "      <td>[1011.09, 1011.09, 1010.82, 1010.82, 1010.65, ...</td>\n",
       "      <td>[14.06, 14.06, 13.12, 13.12, 12.53, 12.53, 12....</td>\n",
       "      <td>[3.86, 3.86, 3.81, 3.81, 4.27, 4.27, 4.12, 4.1...</td>\n",
       "      <td>[rain, rain, rain, rain, rain, rain, rain, rai...</td>\n",
       "      <td>[clear-night, clear-night, clear-night, clear-...</td>\n",
       "      <td>[0.81, 0.81, 0.83, 0.83, 0.84, 0.84, 0.86, 0.8...</td>\n",
       "      <td>[Clear, Clear, Clear, Clear, Clear, Clear, Par...</td>\n",
       "    </tr>\n",
       "  </tbody>\n",
       "</table>\n",
       "<p>5 rows × 21 columns</p>\n",
       "</div>"
      ],
      "text/plain": [
       "       LCLid start_timestamp frequency  \\\n",
       "0  MAC000002      2012-10-13     30min   \n",
       "1  MAC000246      2012-01-01     30min   \n",
       "2  MAC000450      2012-03-23     30min   \n",
       "3  MAC001074      2012-05-09     30min   \n",
       "4  MAC003223      2012-09-18     30min   \n",
       "\n",
       "                                  energy_consumption  series_length stdorToU  \\\n",
       "0  [0.263, 0.2689999999999999, 0.275, 0.256, 0.21...          24144      Std   \n",
       "1  [0.509, 0.317, 0.253, 0.249, 0.93, 0.607, 0.10...          37872      Std   \n",
       "2  [1.337, 1.426, 0.996, 0.971, 0.994, 0.952, 0.8...          33936      Std   \n",
       "3  [0.18, 0.086, 0.106, 0.173, 0.146, 0.223, 0.21...          31680      ToU   \n",
       "4  [0.076, 0.079, 0.123, 0.109, 0.051, 0.069, 0.0...          25344      Std   \n",
       "\n",
       "     Acorn Acorn_grouped     file  \\\n",
       "0  ACORN-A      Affluent  block_0   \n",
       "1  ACORN-A      Affluent  block_0   \n",
       "2  ACORN-A      Affluent  block_0   \n",
       "3   ACORN-        ACORN-  block_0   \n",
       "4  ACORN-A      Affluent  block_0   \n",
       "\n",
       "                                            holidays  ...  \\\n",
       "0  [NO_HOLIDAY, NO_HOLIDAY, NO_HOLIDAY, NO_HOLIDA...  ...   \n",
       "1  [NO_HOLIDAY, NO_HOLIDAY, NO_HOLIDAY, NO_HOLIDA...  ...   \n",
       "2  [NO_HOLIDAY, NO_HOLIDAY, NO_HOLIDAY, NO_HOLIDA...  ...   \n",
       "3  [NO_HOLIDAY, NO_HOLIDAY, NO_HOLIDAY, NO_HOLIDA...  ...   \n",
       "4  [NO_HOLIDAY, NO_HOLIDAY, NO_HOLIDAY, NO_HOLIDA...  ...   \n",
       "\n",
       "                                         windBearing  \\\n",
       "0  [186, 186, 188, 188, 190, 190, 203, 203, 206, ...   \n",
       "1  [229, 229, 238, 238, 229, 229, 231, 231, 227, ...   \n",
       "2  [78, 78, 73, 73, 81, 81, 80, 80, 75, 75, 71, 7...   \n",
       "3  [215, 215, 207, 207, 215, 215, 216, 216, 126, ...   \n",
       "4  [236, 236, 240, 240, 242, 242, 244, 244, 248, ...   \n",
       "\n",
       "                                         temperature  \\\n",
       "0  [8.78, 8.78, 8.27, 8.27, 7.87, 7.87, 7.89, 7.8...   \n",
       "1  [12.12, 12.12, 12.59, 12.59, 12.45, 12.45, 12....   \n",
       "2  [8.76, 8.76, 8.54, 8.54, 8.09, 8.09, 7.34, 7.3...   \n",
       "3  [11.46, 11.46, 11.38, 11.38, 11.38, 11.38, 10....   \n",
       "4  [14.06, 14.06, 13.12, 13.12, 12.53, 12.53, 12....   \n",
       "\n",
       "                                            dewPoint  \\\n",
       "0  [6.28, 6.28, 6.21, 6.21, 6.22, 6.22, 6.76, 6.7...   \n",
       "1  [10.97, 10.97, 11.02, 11.02, 11.04, 11.04, 10....   \n",
       "2  [7.25, 7.25, 7.12, 7.12, 7.17, 7.17, 6.68, 6.6...   \n",
       "3  [10.23, 10.23, 10.17, 10.17, 10.24, 10.24, 10....   \n",
       "4  [10.82, 10.82, 10.29, 10.29, 9.86, 9.86, 9.83,...   \n",
       "\n",
       "                                            pressure  \\\n",
       "0  [1007.7, 1007.7, 1007.36, 1007.36, 1006.73, 10...   \n",
       "1  [1008.1, 1008.1, 1007.88, 1007.88, 1007.95, 10...   \n",
       "2  [1027.41, 1027.41, 1026.91, 1026.91, 1026.54, ...   \n",
       "3  [1007.39, 1007.39, 1007.21, 1007.21, 1007.06, ...   \n",
       "4  [1011.09, 1011.09, 1010.82, 1010.82, 1010.65, ...   \n",
       "\n",
       "                                 apparentTemperature  \\\n",
       "0  [7.55, 7.55, 7.34, 7.34, 6.75, 6.75, 6.89, 6.8...   \n",
       "1  [12.12, 12.12, 12.59, 12.59, 12.45, 12.45, 12....   \n",
       "2  [7.59, 7.59, 7.43, 7.43, 7.24, 7.24, 7.34, 7.3...   \n",
       "3  [11.46, 11.46, 11.38, 11.38, 11.38, 11.38, 10....   \n",
       "4  [14.06, 14.06, 13.12, 13.12, 12.53, 12.53, 12....   \n",
       "\n",
       "                                           windSpeed  \\\n",
       "0  [2.28, 2.28, 1.81, 1.81, 1.95, 1.95, 1.83, 1.8...   \n",
       "1  [5.9, 5.9, 6.06, 6.06, 5.31, 5.31, 4.68, 4.68,...   \n",
       "2  [2.18, 2.18, 2.07, 2.07, 1.72, 1.72, 1.34, 1.3...   \n",
       "3  [2.35, 2.35, 2.15, 2.15, 1.84, 1.84, 1.22, 1.2...   \n",
       "4  [3.86, 3.86, 3.81, 3.81, 4.27, 4.27, 4.12, 4.1...   \n",
       "\n",
       "                                          precipType  \\\n",
       "0  [rain, rain, rain, rain, rain, rain, rain, rai...   \n",
       "1  [rain, rain, rain, rain, rain, rain, rain, rai...   \n",
       "2  [rain, rain, rain, rain, rain, rain, rain, rai...   \n",
       "3  [rain, rain, rain, rain, rain, rain, rain, rai...   \n",
       "4  [rain, rain, rain, rain, rain, rain, rain, rai...   \n",
       "\n",
       "                                                icon  \\\n",
       "0  [clear-night, clear-night, clear-night, clear-...   \n",
       "1  [partly-cloudy-night, partly-cloudy-night, clo...   \n",
       "2  [fog, fog, fog, fog, fog, fog, fog, fog, fog, ...   \n",
       "3  [partly-cloudy-night, partly-cloudy-night, par...   \n",
       "4  [clear-night, clear-night, clear-night, clear-...   \n",
       "\n",
       "                                            humidity  \\\n",
       "0  [0.84, 0.84, 0.87, 0.87, 0.89, 0.89, 0.93, 0.9...   \n",
       "1  [0.93, 0.93, 0.9, 0.9, 0.91, 0.91, 0.93, 0.93,...   \n",
       "2  [0.9, 0.9, 0.91, 0.91, 0.94, 0.94, 0.96, 0.96,...   \n",
       "3  [0.92, 0.92, 0.92, 0.92, 0.93, 0.93, 0.95, 0.9...   \n",
       "4  [0.81, 0.81, 0.83, 0.83, 0.84, 0.84, 0.86, 0.8...   \n",
       "\n",
       "                                             summary  \n",
       "0  [Clear, Clear, Clear, Clear, Partly Cloudy, Pa...  \n",
       "1  [Mostly Cloudy, Mostly Cloudy, Overcast, Overc...  \n",
       "2  [Foggy, Foggy, Foggy, Foggy, Foggy, Foggy, Fog...  \n",
       "3  [Partly Cloudy, Partly Cloudy, Mostly Cloudy, ...  \n",
       "4  [Clear, Clear, Clear, Clear, Clear, Clear, Par...  \n",
       "\n",
       "[5 rows x 21 columns]"
      ]
     },
     "metadata": {},
     "output_type": "display_data"
    }
   ],
   "source": [
    "try:\n",
    "    block_df = pd.read_parquet(preprocessed/\"london_smart_meters_merged_block_0-7.parquet\")\n",
    "    display(block_df.head())\n",
    "except FileNotFoundError:\n",
    "    display(HTML(\"\"\"\n",
    "    <div class=\"alert alert-block alert-warning\">\n",
    "    <b>Warning!</b> File not found. Please make sure you have run 02 - Preprocessing London Smart Meter Dataset.ipynb in Chapter02\n",
    "    </div>\n",
    "    \"\"\"))"
   ]
  },
  {
   "cell_type": "markdown",
   "id": "c29f9470-de35-4f9b-9099-7133ff614bc8",
   "metadata": {},
   "source": [
    "Let's take all the consumers in one block for our exercise. Keep in mind, you can do the same with more number of blocks as long as it fits in your RAM"
   ]
  },
  {
   "cell_type": "code",
   "execution_count": 33,
   "id": "4340772b-7d34-4250-8e6e-ba4cf0f8fb85",
   "metadata": {},
   "outputs": [
    {
     "name": "stderr",
     "output_type": "stream",
     "text": [
      "100%|██████████| 50/50 [00:00<00:00, 111.71it/s]\n"
     ]
    },
    {
     "data": {
      "text/html": [
       "<div>\n",
       "<style scoped>\n",
       "    .dataframe tbody tr th:only-of-type {\n",
       "        vertical-align: middle;\n",
       "    }\n",
       "\n",
       "    .dataframe tbody tr th {\n",
       "        vertical-align: top;\n",
       "    }\n",
       "\n",
       "    .dataframe thead th {\n",
       "        text-align: right;\n",
       "    }\n",
       "</style>\n",
       "<table border=\"1\" class=\"dataframe\">\n",
       "  <thead>\n",
       "    <tr style=\"text-align: right;\">\n",
       "      <th></th>\n",
       "      <th>timestamp</th>\n",
       "      <th>LCLid</th>\n",
       "      <th>energy_consumption</th>\n",
       "      <th>frequency</th>\n",
       "      <th>series_length</th>\n",
       "      <th>stdorToU</th>\n",
       "      <th>Acorn</th>\n",
       "      <th>Acorn_grouped</th>\n",
       "      <th>file</th>\n",
       "      <th>holidays</th>\n",
       "      <th>...</th>\n",
       "      <th>windBearing</th>\n",
       "      <th>temperature</th>\n",
       "      <th>dewPoint</th>\n",
       "      <th>pressure</th>\n",
       "      <th>apparentTemperature</th>\n",
       "      <th>windSpeed</th>\n",
       "      <th>precipType</th>\n",
       "      <th>icon</th>\n",
       "      <th>humidity</th>\n",
       "      <th>summary</th>\n",
       "    </tr>\n",
       "  </thead>\n",
       "  <tbody>\n",
       "    <tr>\n",
       "      <th>0</th>\n",
       "      <td>2012-01-01 00:00:00</td>\n",
       "      <td>MAC000050</td>\n",
       "      <td>0.175</td>\n",
       "      <td>30min</td>\n",
       "      <td>37872</td>\n",
       "      <td>Std</td>\n",
       "      <td>ACORN-D</td>\n",
       "      <td>Affluent</td>\n",
       "      <td>block_7</td>\n",
       "      <td>NO_HOLIDAY</td>\n",
       "      <td>...</td>\n",
       "      <td>229</td>\n",
       "      <td>12.12</td>\n",
       "      <td>10.97</td>\n",
       "      <td>1008.10</td>\n",
       "      <td>12.12</td>\n",
       "      <td>5.90</td>\n",
       "      <td>rain</td>\n",
       "      <td>partly-cloudy-night</td>\n",
       "      <td>0.93</td>\n",
       "      <td>Mostly Cloudy</td>\n",
       "    </tr>\n",
       "    <tr>\n",
       "      <th>1</th>\n",
       "      <td>2012-01-01 00:30:00</td>\n",
       "      <td>MAC000050</td>\n",
       "      <td>0.212</td>\n",
       "      <td>30min</td>\n",
       "      <td>37872</td>\n",
       "      <td>Std</td>\n",
       "      <td>ACORN-D</td>\n",
       "      <td>Affluent</td>\n",
       "      <td>block_7</td>\n",
       "      <td>NO_HOLIDAY</td>\n",
       "      <td>...</td>\n",
       "      <td>229</td>\n",
       "      <td>12.12</td>\n",
       "      <td>10.97</td>\n",
       "      <td>1008.10</td>\n",
       "      <td>12.12</td>\n",
       "      <td>5.90</td>\n",
       "      <td>rain</td>\n",
       "      <td>partly-cloudy-night</td>\n",
       "      <td>0.93</td>\n",
       "      <td>Mostly Cloudy</td>\n",
       "    </tr>\n",
       "    <tr>\n",
       "      <th>2</th>\n",
       "      <td>2012-01-01 01:00:00</td>\n",
       "      <td>MAC000050</td>\n",
       "      <td>0.313</td>\n",
       "      <td>30min</td>\n",
       "      <td>37872</td>\n",
       "      <td>Std</td>\n",
       "      <td>ACORN-D</td>\n",
       "      <td>Affluent</td>\n",
       "      <td>block_7</td>\n",
       "      <td>NO_HOLIDAY</td>\n",
       "      <td>...</td>\n",
       "      <td>238</td>\n",
       "      <td>12.59</td>\n",
       "      <td>11.02</td>\n",
       "      <td>1007.88</td>\n",
       "      <td>12.59</td>\n",
       "      <td>6.06</td>\n",
       "      <td>rain</td>\n",
       "      <td>cloudy</td>\n",
       "      <td>0.90</td>\n",
       "      <td>Overcast</td>\n",
       "    </tr>\n",
       "    <tr>\n",
       "      <th>3</th>\n",
       "      <td>2012-01-01 01:30:00</td>\n",
       "      <td>MAC000050</td>\n",
       "      <td>0.302</td>\n",
       "      <td>30min</td>\n",
       "      <td>37872</td>\n",
       "      <td>Std</td>\n",
       "      <td>ACORN-D</td>\n",
       "      <td>Affluent</td>\n",
       "      <td>block_7</td>\n",
       "      <td>NO_HOLIDAY</td>\n",
       "      <td>...</td>\n",
       "      <td>238</td>\n",
       "      <td>12.59</td>\n",
       "      <td>11.02</td>\n",
       "      <td>1007.88</td>\n",
       "      <td>12.59</td>\n",
       "      <td>6.06</td>\n",
       "      <td>rain</td>\n",
       "      <td>cloudy</td>\n",
       "      <td>0.90</td>\n",
       "      <td>Overcast</td>\n",
       "    </tr>\n",
       "    <tr>\n",
       "      <th>4</th>\n",
       "      <td>2012-01-01 02:00:00</td>\n",
       "      <td>MAC000050</td>\n",
       "      <td>0.257</td>\n",
       "      <td>30min</td>\n",
       "      <td>37872</td>\n",
       "      <td>Std</td>\n",
       "      <td>ACORN-D</td>\n",
       "      <td>Affluent</td>\n",
       "      <td>block_7</td>\n",
       "      <td>NO_HOLIDAY</td>\n",
       "      <td>...</td>\n",
       "      <td>229</td>\n",
       "      <td>12.45</td>\n",
       "      <td>11.04</td>\n",
       "      <td>1007.95</td>\n",
       "      <td>12.45</td>\n",
       "      <td>5.31</td>\n",
       "      <td>rain</td>\n",
       "      <td>partly-cloudy-night</td>\n",
       "      <td>0.91</td>\n",
       "      <td>Mostly Cloudy</td>\n",
       "    </tr>\n",
       "  </tbody>\n",
       "</table>\n",
       "<p>5 rows × 21 columns</p>\n",
       "</div>"
      ],
      "text/plain": [
       "            timestamp      LCLid  energy_consumption frequency  series_length  \\\n",
       "0 2012-01-01 00:00:00  MAC000050               0.175     30min          37872   \n",
       "1 2012-01-01 00:30:00  MAC000050               0.212     30min          37872   \n",
       "2 2012-01-01 01:00:00  MAC000050               0.313     30min          37872   \n",
       "3 2012-01-01 01:30:00  MAC000050               0.302     30min          37872   \n",
       "4 2012-01-01 02:00:00  MAC000050               0.257     30min          37872   \n",
       "\n",
       "  stdorToU    Acorn Acorn_grouped     file    holidays  ...  windBearing  \\\n",
       "0      Std  ACORN-D      Affluent  block_7  NO_HOLIDAY  ...          229   \n",
       "1      Std  ACORN-D      Affluent  block_7  NO_HOLIDAY  ...          229   \n",
       "2      Std  ACORN-D      Affluent  block_7  NO_HOLIDAY  ...          238   \n",
       "3      Std  ACORN-D      Affluent  block_7  NO_HOLIDAY  ...          238   \n",
       "4      Std  ACORN-D      Affluent  block_7  NO_HOLIDAY  ...          229   \n",
       "\n",
       "   temperature  dewPoint  pressure  apparentTemperature  windSpeed  \\\n",
       "0        12.12     10.97   1008.10                12.12       5.90   \n",
       "1        12.12     10.97   1008.10                12.12       5.90   \n",
       "2        12.59     11.02   1007.88                12.59       6.06   \n",
       "3        12.59     11.02   1007.88                12.59       6.06   \n",
       "4        12.45     11.04   1007.95                12.45       5.31   \n",
       "\n",
       "   precipType                 icon humidity        summary  \n",
       "0        rain  partly-cloudy-night     0.93  Mostly Cloudy  \n",
       "1        rain  partly-cloudy-night     0.93  Mostly Cloudy  \n",
       "2        rain               cloudy     0.90       Overcast  \n",
       "3        rain               cloudy     0.90       Overcast  \n",
       "4        rain  partly-cloudy-night     0.91  Mostly Cloudy  \n",
       "\n",
       "[5 rows x 21 columns]"
      ]
     },
     "execution_count": 33,
     "metadata": {},
     "output_type": "execute_result"
    }
   ],
   "source": [
    "#Converting to expanded form\n",
    "exp_block_df = compact_to_expanded(block_df[block_df.file==\"block_7\"], timeseries_col = 'energy_consumption',\n",
    "static_cols = [\"frequency\", \"series_length\", \"stdorToU\", \"Acorn\", \"Acorn_grouped\", \"file\"],\n",
    "time_varying_cols = ['holidays', 'visibility', 'windBearing', 'temperature', 'dewPoint',\n",
    "       'pressure', 'apparentTemperature', 'windSpeed', 'precipType', 'icon',\n",
    "       'humidity', 'summary'],\n",
    "ts_identifier = \"LCLid\")\n",
    "\n",
    "exp_block_df.head()"
   ]
  },
  {
   "cell_type": "markdown",
   "id": "46332cf7-ecf0-419d-a0a6-d0b6978aaec9",
   "metadata": {},
   "source": [
    "# Missing Data and Advanced Imputation Techniques"
   ]
  },
  {
   "cell_type": "code",
   "execution_count": 34,
   "id": "0fa454eb-6882-450b-8c79-cc0c7106130e",
   "metadata": {},
   "outputs": [
    {
     "name": "stderr",
     "output_type": "stream",
     "text": [
      "/Users/sofiahorlacher/VisualStudio/time/.venv/lib/python3.9/site-packages/missingno/missingno.py:106: FutureWarning:\n",
      "\n",
      "'M' is deprecated and will be removed in a future version, please use 'ME' instead.\n",
      "\n",
      "/Users/sofiahorlacher/VisualStudio/time/.venv/lib/python3.9/site-packages/missingno/missingno.py:109: FutureWarning:\n",
      "\n",
      "'M' is deprecated and will be removed in a future version, please use 'ME' instead.\n",
      "\n"
     ]
    },
    {
     "data": {
      "image/png": "[encoded data removed]",
      "text/plain": [
       "<Figure size 2500x1000 with 2 Axes>"
      ]
     },
     "metadata": {},
     "output_type": "display_data"
    }
   ],
   "source": [
    "# Pivot the data to set the index as the datetime and the different time series along the columns\n",
    "plot_df = pd.pivot_table(exp_block_df, index=\"timestamp\", columns=\"LCLid\", values=\"energy_consumption\")\n",
    "# Generate Plot. Since we have a datetime index, we can mention the frequency to decide what do we want on the X axis\n",
    "msno.matrix(plot_df, freq=\"M\", fontsize=20)\n",
    "plt.savefig('imgs/chapter_2/missing_no_full.png', bbox_inches='tight')\n",
    "plt.show()"
   ]
  },
  {
   "cell_type": "code",
   "execution_count": 35,
   "id": "f1affe10-f579-4a40-846f-c13f5b037f44",
   "metadata": {},
   "outputs": [],
   "source": [
    "# Taking a single time series from the block\n",
    "ts_df = exp_block_df[exp_block_df.LCLid==\"MAC000193\"].set_index(\"timestamp\")"
   ]
  },
  {
   "cell_type": "markdown",
   "id": "09cf5054-c279-4bc9-8d0b-63f710d95f46",
   "metadata": {},
   "source": [
    "We know that there is some missing data between 2012-09-30 and 2012-10-31. But instead of picking a window where there is an actual missing data, let's pick a window where data is present, but we artificially remove it and then look at techniques to fill it. This way, we can have some way to see how well a particular method is working."
   ]
  },
  {
   "cell_type": "code",
   "execution_count": 36,
   "id": "44efa318-d79c-458b-8812-845667dc806b",
   "metadata": {},
   "outputs": [
    {
     "data": {
      "image/png": "[encoded data removed]",
      "text/plain": [
       "<Figure size 2500x1000 with 2 Axes>"
      ]
     },
     "metadata": {},
     "output_type": "display_data"
    }
   ],
   "source": [
    "msno.matrix(ts_df[\"2012-10-13\": \"2012-10-24\"], freq=\"D\", fontsize=20)\n",
    "plt.savefig('imgs/chapter_2/missing_no_mac000193.png', bbox_inches='tight')\n",
    "plt.show()"
   ]
  },
  {
   "cell_type": "markdown",
   "id": "e5ed6d53-455c-4d8d-bf63-b13ce2b5c98a",
   "metadata": {},
   "source": [
    "We see that there are two days of information and normally would preceed to fill in the gaps using some of the techniques we will be revieweing. But just to see how effective the different techniques we are reviewing, we will artificially create a missing section and see how well we are able to impute it."
   ]
  },
  {
   "cell_type": "code",
   "execution_count": 37,
   "id": "f7fa9b2c-5e1f-4db2-b754-4c23f44bb989",
   "metadata": {},
   "outputs": [],
   "source": [
    "# The dates between which we are nulling out the time series\n",
    "window = slice(\"2012-10-07\", \"2012-10-08\")\n",
    "# Creating a new column and artificially creating missing values\n",
    "ts_df['energy_consumption_missing'] = ts_df.energy_consumption\n",
    "ts_df.loc[window, \"energy_consumption_missing\"] = np.nan\n",
    "# Creating a new window with a few dats added on either side for visualization purposes\n",
    "vis_window = slice(pd.to_datetime(window.start) - pd.Timedelta(days=2), pd.to_datetime(window.stop) + pd.Timedelta(days=2))"
   ]
  },
  {
   "cell_type": "code",
   "execution_count": 38,
   "id": "7020ffd4-59fd-47a1-adf0-060e9138ce85",
   "metadata": {},
   "outputs": [
    {
     "data": {
      "application/vnd.plotly.v1+json": {
       "config": {
        "plotlyServerURL": "https://plot.ly"
       },
       "data": [
        {
         "hovertemplate": "timestamp=%{x}<br>energy_consumption_missing=%{y}<extra></extra>",
         "legendgroup": "",
         "line": {
          "color": "#636efa",
          "dash": "solid"
         },
         "marker": {
          "symbol": "circle"
         },
         "mode": "lines",
         "name": "",
         "orientation": "v",
         "showlegend": false,
         "type": "scatter",
         "x": [
          "2012-10-05T00:00:00",
          "2012-10-05T00:30:00",
          "2012-10-05T01:00:00",
          "2012-10-05T01:30:00",
          "2012-10-05T02:00:00",
          "2012-10-05T02:30:00",
          "2012-10-05T03:00:00",
          "2012-10-05T03:30:00",
          "2012-10-05T04:00:00",
          "2012-10-05T04:30:00",
          "2012-10-05T05:00:00",
          "2012-10-05T05:30:00",
          "2012-10-05T06:00:00",
          "2012-10-05T06:30:00",
          "2012-10-05T07:00:00",
          "2012-10-05T07:30:00",
          "2012-10-05T08:00:00",
          "2012-10-05T08:30:00",
          "2012-10-05T09:00:00",
          "2012-10-05T09:30:00",
          "2012-10-05T10:00:00",
          "2012-10-05T10:30:00",
          "2012-10-05T11:00:00",
          "2012-10-05T11:30:00",
          "2012-10-05T12:00:00",
          "2012-10-05T12:30:00",
          "2012-10-05T13:00:00",
          "2012-10-05T13:30:00",
          "2012-10-05T14:00:00",
          "2012-10-05T14:30:00",
          "2012-10-05T15:00:00",
          "2012-10-05T15:30:00",
          "2012-10-05T16:00:00",
          "2012-10-05T16:30:00",
          "2012-10-05T17:00:00",
          "2012-10-05T17:30:00",
          "2012-10-05T18:00:00",
          "2012-10-05T18:30:00",
          "2012-10-05T19:00:00",
          "2012-10-05T19:30:00",
          "2012-10-05T20:00:00",
          "2012-10-05T20:30:00",
          "2012-10-05T21:00:00",
          "2012-10-05T21:30:00",
          "2012-10-05T22:00:00",
          "2012-10-05T22:30:00",
          "2012-10-05T23:00:00",
          "2012-10-05T23:30:00",
          "2012-10-06T00:00:00",
          "2012-10-06T00:30:00",
          "2012-10-06T01:00:00",
          "2012-10-06T01:30:00",
          "2012-10-06T02:00:00",
          "2012-10-06T02:30:00",
          "2012-10-06T03:00:00",
          "2012-10-06T03:30:00",
          "2012-10-06T04:00:00",
          "2012-10-06T04:30:00",
          "2012-10-06T05:00:00",
          "2012-10-06T05:30:00",
          "2012-10-06T06:00:00",
          "2012-10-06T06:30:00",
          "2012-10-06T07:00:00",
          "2012-10-06T07:30:00",
          "2012-10-06T08:00:00",
          "2012-10-06T08:30:00",
          "2012-10-06T09:00:00",
          "2012-10-06T09:30:00",
          "2012-10-06T10:00:00",
          "2012-10-06T10:30:00",
          "2012-10-06T11:00:00",
          "2012-10-06T11:30:00",
          "2012-10-06T12:00:00",
          "2012-10-06T12:30:00",
          "2012-10-06T13:00:00",
          "2012-10-06T13:30:00",
          "2012-10-06T14:00:00",
          "2012-10-06T14:30:00",
          "2012-10-06T15:00:00",
          "2012-10-06T15:30:00",
          "2012-10-06T16:00:00",
          "2012-10-06T16:30:00",
          "2012-10-06T17:00:00",
          "2012-10-06T17:30:00",
          "2012-10-06T18:00:00",
          "2012-10-06T18:30:00",
          "2012-10-06T19:00:00",
          "2012-10-06T19:30:00",
          "2012-10-06T20:00:00",
          "2012-10-06T20:30:00",
          "2012-10-06T21:00:00",
          "2012-10-06T21:30:00",
          "2012-10-06T22:00:00",
          "2012-10-06T22:30:00",
          "2012-10-06T23:00:00",
          "2012-10-06T23:30:00",
          "2012-10-07T00:00:00",
          "2012-10-07T00:30:00",
          "2012-10-07T01:00:00",
          "2012-10-07T01:30:00",
          "2012-10-07T02:00:00",
          "2012-10-07T02:30:00",
          "2012-10-07T03:00:00",
          "2012-10-07T03:30:00",
          "2012-10-07T04:00:00",
          "2012-10-07T04:30:00",
          "2012-10-07T05:00:00",
          "2012-10-07T05:30:00",
          "2012-10-07T06:00:00",
          "2012-10-07T06:30:00",
          "2012-10-07T07:00:00",
          "2012-10-07T07:30:00",
          "2012-10-07T08:00:00",
          "2012-10-07T08:30:00",
          "2012-10-07T09:00:00",
          "2012-10-07T09:30:00",
          "2012-10-07T10:00:00",
          "2012-10-07T10:30:00",
          "2012-10-07T11:00:00",
          "2012-10-07T11:30:00",
          "2012-10-07T12:00:00",
          "2012-10-07T12:30:00",
          "2012-10-07T13:00:00",
          "2012-10-07T13:30:00",
          "2012-10-07T14:00:00",
          "2012-10-07T14:30:00",
          "2012-10-07T15:00:00",
          "2012-10-07T15:30:00",
          "2012-10-07T16:00:00",
          "2012-10-07T16:30:00",
          "2012-10-07T17:00:00",
          "2012-10-07T17:30:00",
          "2012-10-07T18:00:00",
          "2012-10-07T18:30:00",
          "2012-10-07T19:00:00",
          "2012-10-07T19:30:00",
          "2012-10-07T20:00:00",
          "2012-10-07T20:30:00",
          "2012-10-07T21:00:00",
          "2012-10-07T21:30:00",
          "2012-10-07T22:00:00",
          "2012-10-07T22:30:00",
          "2012-10-07T23:00:00",
          "2012-10-07T23:30:00",
          "2012-10-08T00:00:00",
          "2012-10-08T00:30:00",
          "2012-10-08T01:00:00",
          "2012-10-08T01:30:00",
          "2012-10-08T02:00:00",
          "2012-10-08T02:30:00",
          "2012-10-08T03:00:00",
          "2012-10-08T03:30:00",
          "2012-10-08T04:00:00",
          "2012-10-08T04:30:00",
          "2012-10-08T05:00:00",
          "2012-10-08T05:30:00",
          "2012-10-08T06:00:00",
          "2012-10-08T06:30:00",
          "2012-10-08T07:00:00",
          "2012-10-08T07:30:00",
          "2012-10-08T08:00:00",
          "2012-10-08T08:30:00",
          "2012-10-08T09:00:00",
          "2012-10-08T09:30:00",
          "2012-10-08T10:00:00",
          "2012-10-08T10:30:00",
          "2012-10-08T11:00:00",
          "2012-10-08T11:30:00",
          "2012-10-08T12:00:00",
          "2012-10-08T12:30:00",
          "2012-10-08T13:00:00",
          "2012-10-08T13:30:00",
          "2012-10-08T14:00:00",
          "2012-10-08T14:30:00",
          "2012-10-08T15:00:00",
          "2012-10-08T15:30:00",
          "2012-10-08T16:00:00",
          "2012-10-08T16:30:00",
          "2012-10-08T17:00:00",
          "2012-10-08T17:30:00",
          "2012-10-08T18:00:00",
          "2012-10-08T18:30:00",
          "2012-10-08T19:00:00",
          "2012-10-08T19:30:00",
          "2012-10-08T20:00:00",
          "2012-10-08T20:30:00",
          "2012-10-08T21:00:00",
          "2012-10-08T21:30:00",
          "2012-10-08T22:00:00",
          "2012-10-08T22:30:00",
          "2012-10-08T23:00:00",
          "2012-10-08T23:30:00",
          "2012-10-09T00:00:00",
          "2012-10-09T00:30:00",
          "2012-10-09T01:00:00",
          "2012-10-09T01:30:00",
          "2012-10-09T02:00:00",
          "2012-10-09T02:30:00",
          "2012-10-09T03:00:00",
          "2012-10-09T03:30:00",
          "2012-10-09T04:00:00",
          "2012-10-09T04:30:00",
          "2012-10-09T05:00:00",
          "2012-10-09T05:30:00",
          "2012-10-09T06:00:00",
          "2012-10-09T06:30:00",
          "2012-10-09T07:00:00",
          "2012-10-09T07:30:00",
          "2012-10-09T08:00:00",
          "2012-10-09T08:30:00",
          "2012-10-09T09:00:00",
          "2012-10-09T09:30:00",
          "2012-10-09T10:00:00",
          "2012-10-09T10:30:00",
          "2012-10-09T11:00:00",
          "2012-10-09T11:30:00",
          "2012-10-09T12:00:00",
          "2012-10-09T12:30:00",
          "2012-10-09T13:00:00",
          "2012-10-09T13:30:00",
          "2012-10-09T14:00:00",
          "2012-10-09T14:30:00",
          "2012-10-09T15:00:00",
          "2012-10-09T15:30:00",
          "2012-10-09T16:00:00",
          "2012-10-09T16:30:00",
          "2012-10-09T17:00:00",
          "2012-10-09T17:30:00",
          "2012-10-09T18:00:00",
          "2012-10-09T18:30:00",
          "2012-10-09T19:00:00",
          "2012-10-09T19:30:00",
          "2012-10-09T20:00:00",
          "2012-10-09T20:30:00",
          "2012-10-09T21:00:00",
          "2012-10-09T21:30:00",
          "2012-10-09T22:00:00",
          "2012-10-09T22:30:00",
          "2012-10-09T23:00:00",
          "2012-10-09T23:30:00",
          "2012-10-10T00:00:00"
         ],
         "xaxis": "x",
         "y": {
          "bdata": "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",
          "dtype": "f8"
         },
         "yaxis": "y"
        }
       ],
       "layout": {
        "autosize": false,
        "height": 500,
        "legend": {
         "font": {
          "size": 15
         },
         "orientation": "h",
         "title": {},
         "tracegroupgap": 0,
         "x": 1,
         "xanchor": "right",
         "y": 0.98,
         "yanchor": "bottom"
        },
        "template": {
         "data": {
          "bar": [
           {
            "error_x": {
             "color": "#2a3f5f"
            },
            "error_y": {
             "color": "#2a3f5f"
            },
            "marker": {
             "line": {
              "color": "white",
              "width": 0.5
             },
             "pattern": {
              "fillmode": "overlay",
              "size": 10,
              "solidity": 0.2
             }
            },
            "type": "bar"
           }
          ],
          "barpolar": [
           {
            "marker": {
             "line": {
              "color": "white",
              "width": 0.5
             },
             "pattern": {
              "fillmode": "overlay",
              "size": 10,
              "solidity": 0.2
             }
            },
            "type": "barpolar"
           }
          ],
          "carpet": [
           {
            "aaxis": {
             "endlinecolor": "#2a3f5f",
             "gridcolor": "#C8D4E3",
             "linecolor": "#C8D4E3",
             "minorgridcolor": "#C8D4E3",
             "startlinecolor": "#2a3f5f"
            },
            "baxis": {
             "endlinecolor": "#2a3f5f",
             "gridcolor": "#C8D4E3",
             "linecolor": "#C8D4E3",
             "minorgridcolor": "#C8D4E3",
             "startlinecolor": "#2a3f5f"
            },
            "type": "carpet"
           }
          ],
          "choropleth": [
           {
            "colorbar": {
             "outlinewidth": 0,
             "ticks": ""
            },
            "type": "choropleth"
           }
          ],
          "contour": [
           {
            "colorbar": {
             "outlinewidth": 0,
             "ticks": ""
            },
            "colorscale": [
             [
              0,
              "#0d0887"
             ],
             [
              0.1111111111111111,
              "#46039f"
             ],
             [
              0.2222222222222222,
              "#7201a8"
             ],
             [
              0.3333333333333333,
              "#9c179e"
             ],
             [
              0.4444444444444444,
              "#bd3786"
             ],
             [
              0.5555555555555556,
              "#d8576b"
             ],
             [
              0.6666666666666666,
              "#ed7953"
             ],
             [
              0.7777777777777778,
              "#fb9f3a"
             ],
             [
              0.8888888888888888,
              "#fdca26"
             ],
             [
              1,
              "#f0f921"
             ]
            ],
            "type": "contour"
           }
          ],
          "contourcarpet": [
           {
            "colorbar": {
             "outlinewidth": 0,
             "ticks": ""
            },
            "type": "contourcarpet"
           }
          ],
          "heatmap": [
           {
            "colorbar": {
             "outlinewidth": 0,
             "ticks": ""
            },
            "colorscale": [
             [
              0,
              "#0d0887"
             ],
             [
              0.1111111111111111,
              "#46039f"
             ],
             [
              0.2222222222222222,
              "#7201a8"
             ],
             [
              0.3333333333333333,
              "#9c179e"
             ],
             [
              0.4444444444444444,
              "#bd3786"
             ],
             [
              0.5555555555555556,
              "#d8576b"
             ],
             [
              0.6666666666666666,
              "#ed7953"
             ],
             [
              0.7777777777777778,
              "#fb9f3a"
             ],
             [
              0.8888888888888888,
              "#fdca26"
             ],
             [
              1,
              "#f0f921"
             ]
            ],
            "type": "heatmap"
           }
          ],
          "histogram": [
           {
            "marker": {
             "pattern": {
              "fillmode": "overlay",
              "size": 10,
              "solidity": 0.2
             }
            },
            "type": "histogram"
           }
          ],
          "histogram2d": [
           {
            "colorbar": {
             "outlinewidth": 0,
             "ticks": ""
            },
            "colorscale": [
             [
              0,
              "#0d0887"
             ],
             [
              0.1111111111111111,
              "#46039f"
             ],
             [
              0.2222222222222222,
              "#7201a8"
             ],
             [
              0.3333333333333333,
              "#9c179e"
             ],
             [
              0.4444444444444444,
              "#bd3786"
             ],
             [
              0.5555555555555556,
              "#d8576b"
             ],
             [
              0.6666666666666666,
              "#ed7953"
             ],
             [
              0.7777777777777778,
              "#fb9f3a"
             ],
             [
              0.8888888888888888,
              "#fdca26"
             ],
             [
              1,
              "#f0f921"
             ]
            ],
            "type": "histogram2d"
           }
          ],
          "histogram2dcontour": [
           {
            "colorbar": {
             "outlinewidth": 0,
             "ticks": ""
            },
            "colorscale": [
             [
              0,
              "#0d0887"
             ],
             [
              0.1111111111111111,
              "#46039f"
             ],
             [
              0.2222222222222222,
              "#7201a8"
             ],
             [
              0.3333333333333333,
              "#9c179e"
             ],
             [
              0.4444444444444444,
              "#bd3786"
             ],
             [
              0.5555555555555556,
              "#d8576b"
             ],
             [
              0.6666666666666666,
              "#ed7953"
             ],
             [
              0.7777777777777778,
              "#fb9f3a"
             ],
             [
              0.8888888888888888,
              "#fdca26"
             ],
             [
              1,
              "#f0f921"
             ]
            ],
            "type": "histogram2dcontour"
           }
          ],
          "mesh3d": [
           {
            "colorbar": {
             "outlinewidth": 0,
             "ticks": ""
            },
            "type": "mesh3d"
           }
          ],
          "parcoords": [
           {
            "line": {
             "colorbar": {
              "outlinewidth": 0,
              "ticks": ""
             }
            },
            "type": "parcoords"
           }
          ],
          "pie": [
           {
            "automargin": true,
            "type": "pie"
           }
          ],
          "scatter": [
           {
            "fillpattern": {
             "fillmode": "overlay",
             "size": 10,
             "solidity": 0.2
            },
            "type": "scatter"
           }
          ],
          "scatter3d": [
           {
            "line": {
             "colorbar": {
              "outlinewidth": 0,
              "ticks": ""
             }
            },
            "marker": {
             "colorbar": {
              "outlinewidth": 0,
              "ticks": ""
             }
            },
            "type": "scatter3d"
           }
          ],
          "scattercarpet": [
           {
            "marker": {
             "colorbar": {
              "outlinewidth": 0,
              "ticks": ""
             }
            },
            "type": "scattercarpet"
           }
          ],
          "scattergeo": [
           {
            "marker": {
             "colorbar": {
              "outlinewidth": 0,
              "ticks": ""
             }
            },
            "type": "scattergeo"
           }
          ],
          "scattergl": [
           {
            "marker": {
             "colorbar": {
              "outlinewidth": 0,
              "ticks": ""
             }
            },
            "type": "scattergl"
           }
          ],
          "scattermap": [
           {
            "marker": {
             "colorbar": {
              "outlinewidth": 0,
              "ticks": ""
             }
            },
            "type": "scattermap"
           }
          ],
          "scattermapbox": [
           {
            "marker": {
             "colorbar": {
              "outlinewidth": 0,
              "ticks": ""
             }
            },
            "type": "scattermapbox"
           }
          ],
          "scatterpolar": [
           {
            "marker": {
             "colorbar": {
              "outlinewidth": 0,
              "ticks": ""
             }
            },
            "type": "scatterpolar"
           }
          ],
          "scatterpolargl": [
           {
            "marker": {
             "colorbar": {
              "outlinewidth": 0,
              "ticks": ""
             }
            },
            "type": "scatterpolargl"
           }
          ],
          "scatterternary": [
           {
            "marker": {
             "colorbar": {
              "outlinewidth": 0,
              "ticks": ""
             }
            },
            "type": "scatterternary"
           }
          ],
          "surface": [
           {
            "colorbar": {
             "outlinewidth": 0,
             "ticks": ""
            },
            "colorscale": [
             [
              0,
              "#0d0887"
             ],
             [
              0.1111111111111111,
              "#46039f"
             ],
             [
              0.2222222222222222,
              "#7201a8"
             ],
             [
              0.3333333333333333,
              "#9c179e"
             ],
             [
              0.4444444444444444,
              "#bd3786"
             ],
             [
              0.5555555555555556,
              "#d8576b"
             ],
             [
              0.6666666666666666,
              "#ed7953"
             ],
             [
              0.7777777777777778,
              "#fb9f3a"
             ],
             [
              0.8888888888888888,
              "#fdca26"
             ],
             [
              1,
              "#f0f921"
             ]
            ],
            "type": "surface"
           }
          ],
          "table": [
           {
            "cells": {
             "fill": {
              "color": "#EBF0F8"
             },
             "line": {
              "color": "white"
             }
            },
            "header": {
             "fill": {
              "color": "#C8D4E3"
             },
             "line": {
              "color": "white"
             }
            },
            "type": "table"
           }
          ]
         },
         "layout": {
          "annotationdefaults": {
           "arrowcolor": "#2a3f5f",
           "arrowhead": 0,
           "arrowwidth": 1
          },
          "autotypenumbers": "strict",
          "coloraxis": {
           "colorbar": {
            "outlinewidth": 0,
            "ticks": ""
           }
          },
          "colorscale": {
           "diverging": [
            [
             0,
             "#8e0152"
            ],
            [
             0.1,
             "#c51b7d"
            ],
            [
             0.2,
             "#de77ae"
            ],
            [
             0.3,
             "#f1b6da"
            ],
            [
             0.4,
             "#fde0ef"
            ],
            [
             0.5,
             "#f7f7f7"
            ],
            [
             0.6,
             "#e6f5d0"
            ],
            [
             0.7,
             "#b8e186"
            ],
            [
             0.8,
             "#7fbc41"
            ],
            [
             0.9,
             "#4d9221"
            ],
            [
             1,
             "#276419"
            ]
           ],
           "sequential": [
            [
             0,
             "#0d0887"
            ],
            [
             0.1111111111111111,
             "#46039f"
            ],
            [
             0.2222222222222222,
             "#7201a8"
            ],
            [
             0.3333333333333333,
             "#9c179e"
            ],
            [
             0.4444444444444444,
             "#bd3786"
            ],
            [
             0.5555555555555556,
             "#d8576b"
            ],
            [
             0.6666666666666666,
             "#ed7953"
            ],
            [
             0.7777777777777778,
             "#fb9f3a"
            ],
            [
             0.8888888888888888,
             "#fdca26"
            ],
            [
             1,
             "#f0f921"
            ]
           ],
           "sequentialminus": [
            [
             0,
             "#0d0887"
            ],
            [
             0.1111111111111111,
             "#46039f"
            ],
            [
             0.2222222222222222,
             "#7201a8"
            ],
            [
             0.3333333333333333,
             "#9c179e"
            ],
            [
             0.4444444444444444,
             "#bd3786"
            ],
            [
             0.5555555555555556,
             "#d8576b"
            ],
            [
             0.6666666666666666,
             "#ed7953"
            ],
            [
             0.7777777777777778,
             "#fb9f3a"
            ],
            [
             0.8888888888888888,
             "#fdca26"
            ],
            [
             1,
             "#f0f921"
            ]
           ]
          },
          "colorway": [
           "#636efa",
           "#EF553B",
           "#00cc96",
           "#ab63fa",
           "#FFA15A",
           "#19d3f3",
           "#FF6692",
           "#B6E880",
           "#FF97FF",
           "#FECB52"
          ],
          "font": {
           "color": "#2a3f5f"
          },
          "geo": {
           "bgcolor": "white",
           "lakecolor": "white",
           "landcolor": "white",
           "showlakes": true,
           "showland": true,
           "subunitcolor": "#C8D4E3"
          },
          "hoverlabel": {
           "align": "left"
          },
          "hovermode": "closest",
          "mapbox": {
           "style": "light"
          },
          "paper_bgcolor": "white",
          "plot_bgcolor": "white",
          "polar": {
           "angularaxis": {
            "gridcolor": "#EBF0F8",
            "linecolor": "#EBF0F8",
            "ticks": ""
           },
           "bgcolor": "white",
           "radialaxis": {
            "gridcolor": "#EBF0F8",
            "linecolor": "#EBF0F8",
            "ticks": ""
           }
          },
          "scene": {
           "xaxis": {
            "backgroundcolor": "white",
            "gridcolor": "#DFE8F3",
            "gridwidth": 2,
            "linecolor": "#EBF0F8",
            "showbackground": true,
            "ticks": "",
            "zerolinecolor": "#EBF0F8"
           },
           "yaxis": {
            "backgroundcolor": "white",
            "gridcolor": "#DFE8F3",
            "gridwidth": 2,
            "linecolor": "#EBF0F8",
            "showbackground": true,
            "ticks": "",
            "zerolinecolor": "#EBF0F8"
           },
           "zaxis": {
            "backgroundcolor": "white",
            "gridcolor": "#DFE8F3",
            "gridwidth": 2,
            "linecolor": "#EBF0F8",
            "showbackground": true,
            "ticks": "",
            "zerolinecolor": "#EBF0F8"
           }
          },
          "shapedefaults": {
           "line": {
            "color": "#2a3f5f"
           }
          },
          "ternary": {
           "aaxis": {
            "gridcolor": "#DFE8F3",
            "linecolor": "#A2B1C6",
            "ticks": ""
           },
           "baxis": {
            "gridcolor": "#DFE8F3",
            "linecolor": "#A2B1C6",
            "ticks": ""
           },
           "bgcolor": "white",
           "caxis": {
            "gridcolor": "#DFE8F3",
            "linecolor": "#A2B1C6",
            "ticks": ""
           }
          },
          "title": {
           "x": 0.05
          },
          "xaxis": {
           "automargin": true,
           "gridcolor": "#EBF0F8",
           "linecolor": "#EBF0F8",
           "ticks": "",
           "title": {
            "standoff": 15
           },
           "zerolinecolor": "#EBF0F8",
           "zerolinewidth": 2
          },
          "yaxis": {
           "automargin": true,
           "gridcolor": "#EBF0F8",
           "linecolor": "#EBF0F8",
           "ticks": "",
           "title": {
            "standoff": 15
           },
           "zerolinecolor": "#EBF0F8",
           "zerolinewidth": 2
          }
         }
        },
        "title": {
         "font": {
          "size": 20
         },
         "text": "MAC000193 Energy Consumption between 2012-10-05 and 2012-10-10",
         "x": 0.5,
         "xanchor": "center",
         "yanchor": "top"
        },
        "width": 900,
        "xaxis": {
         "anchor": "y",
         "domain": [
          0,
          1
         ],
         "tickfont": {
          "size": 15
         },
         "title": {
          "font": {
           "size": 15
          },
          "text": "Day"
         }
        },
        "yaxis": {
         "anchor": "x",
         "domain": [
          0,
          1
         ],
         "tickfont": {
          "size": 15
         },
         "title": {
          "font": {
           "size": 15
          },
          "text": "Value"
         }
        }
       }
      }
     },
     "metadata": {},
     "output_type": "display_data"
    }
   ],
   "source": [
    "fig = px.line(ts_df[vis_window], y=\"energy_consumption_missing\", title=f\"MAC000193 Energy Consumption between {vis_window.start.strftime('%Y-%m-%d')} and {vis_window.stop.strftime('%Y-%m-%d')}\")\n",
    "fig = format_plot(fig)\n",
    "fig.write_image(\"imgs/chapter_2/mac000193_missing.png\")\n",
    "fig.show()"
   ]
  },
  {
   "cell_type": "markdown",
   "id": "3c98ae69-c902-4bf1-a063-b41b1480be54",
   "metadata": {},
   "source": [
    "## Missing Data Imputation"
   ]
  },
  {
   "cell_type": "code",
   "execution_count": 39,
   "id": "57e5586e-6be8-4beb-85d6-9000cd946227",
   "metadata": {},
   "outputs": [],
   "source": [
    "null_mask = ts_df.energy_consumption_missing.isnull()"
   ]
  },
  {
   "cell_type": "markdown",
   "id": "e2526511-8cd9-4d9c-a377-05545c1156b2",
   "metadata": {
    "tags": []
   },
   "source": [
    "### Repeating Patterns"
   ]
  },
  {
   "cell_type": "markdown",
   "id": "af405720-a331-48f0-858b-31d1fa18697f",
   "metadata": {
    "tags": []
   },
   "source": [
    "#### Last Day"
   ]
  },
  {
   "cell_type": "code",
   "execution_count": 40,
   "id": "6ac6d56b-2c2a-465c-84b0-dd9201b5edc8",
   "metadata": {},
   "outputs": [],
   "source": [
    "#Shifting 48 steps to get previous day\n",
    "ts_df[\"prev_day\"] = ts_df['energy_consumption'].shift(48)\n",
    "#Using the shifted column to fill missing\n",
    "ts_df['prev_day_imputed'] =  ts_df['energy_consumption_missing']\n",
    "ts_df.loc[null_mask,\"prev_day_imputed\"] = ts_df.loc[null_mask,\"prev_day\"]\n",
    "mae = mean_absolute_error(ts_df.loc[window, \"prev_day_imputed\"], ts_df.loc[window, \"energy_consumption\"])"
   ]
  },
  {
   "cell_type": "code",
   "execution_count": 41,
   "id": "4bba80b2-0e4c-46e1-bccb-99c831baf89f",
   "metadata": {},
   "outputs": [
    {
     "data": {
      "application/vnd.plotly.v1+json": {
       "config": {
        "plotlyServerURL": "https://plot.ly"
       },
       "data": [
        {
         "hovertemplate": "variable=value<br>series=energy_consumption<br>timestamp=%{x}<br>_value=%{y}<extra></extra>",
         "legendgroup": "value, energy_consumption",
         "line": {
          "color": "#636efa",
          "dash": "solid"
         },
         "marker": {
          "symbol": "circle"
         },
         "mode": "lines",
         "name": "Original",
         "orientation": "v",
         "showlegend": true,
         "type": "scatter",
         "x": [
          "2012-10-07T00:00:00",
          "2012-10-07T00:30:00",
          "2012-10-07T01:00:00",
          "2012-10-07T01:30:00",
          "2012-10-07T02:00:00",
          "2012-10-07T02:30:00",
          "2012-10-07T03:00:00",
          "2012-10-07T03:30:00",
          "2012-10-07T04:00:00",
          "2012-10-07T04:30:00",
          "2012-10-07T05:00:00",
          "2012-10-07T05:30:00",
          "2012-10-07T06:00:00",
          "2012-10-07T06:30:00",
          "2012-10-07T07:00:00",
          "2012-10-07T07:30:00",
          "2012-10-07T08:00:00",
          "2012-10-07T08:30:00",
          "2012-10-07T09:00:00",
          "2012-10-07T09:30:00",
          "2012-10-07T10:00:00",
          "2012-10-07T10:30:00",
          "2012-10-07T11:00:00",
          "2012-10-07T11:30:00",
          "2012-10-07T12:00:00",
          "2012-10-07T12:30:00",
          "2012-10-07T13:00:00",
          "2012-10-07T13:30:00",
          "2012-10-07T14:00:00",
          "2012-10-07T14:30:00",
          "2012-10-07T15:00:00",
          "2012-10-07T15:30:00",
          "2012-10-07T16:00:00",
          "2012-10-07T16:30:00",
          "2012-10-07T17:00:00",
          "2012-10-07T17:30:00",
          "2012-10-07T18:00:00",
          "2012-10-07T18:30:00",
          "2012-10-07T19:00:00",
          "2012-10-07T19:30:00",
          "2012-10-07T20:00:00",
          "2012-10-07T20:30:00",
          "2012-10-07T21:00:00",
          "2012-10-07T21:30:00",
          "2012-10-07T22:00:00",
          "2012-10-07T22:30:00",
          "2012-10-07T23:00:00",
          "2012-10-07T23:30:00",
          "2012-10-08T00:00:00",
          "2012-10-08T00:30:00",
          "2012-10-08T01:00:00",
          "2012-10-08T01:30:00",
          "2012-10-08T02:00:00",
          "2012-10-08T02:30:00",
          "2012-10-08T03:00:00",
          "2012-10-08T03:30:00",
          "2012-10-08T04:00:00",
          "2012-10-08T04:30:00",
          "2012-10-08T05:00:00",
          "2012-10-08T05:30:00",
          "2012-10-08T06:00:00",
          "2012-10-08T06:30:00",
          "2012-10-08T07:00:00",
          "2012-10-08T07:30:00",
          "2012-10-08T08:00:00",
          "2012-10-08T08:30:00",
          "2012-10-08T09:00:00",
          "2012-10-08T09:30:00",
          "2012-10-08T10:00:00",
          "2012-10-08T10:30:00",
          "2012-10-08T11:00:00",
          "2012-10-08T11:30:00",
          "2012-10-08T12:00:00",
          "2012-10-08T12:30:00",
          "2012-10-08T13:00:00",
          "2012-10-08T13:30:00",
          "2012-10-08T14:00:00",
          "2012-10-08T14:30:00",
          "2012-10-08T15:00:00",
          "2012-10-08T15:30:00",
          "2012-10-08T16:00:00",
          "2012-10-08T16:30:00",
          "2012-10-08T17:00:00",
          "2012-10-08T17:30:00",
          "2012-10-08T18:00:00",
          "2012-10-08T18:30:00",
          "2012-10-08T19:00:00",
          "2012-10-08T19:30:00",
          "2012-10-08T20:00:00",
          "2012-10-08T20:30:00",
          "2012-10-08T21:00:00",
          "2012-10-08T21:30:00",
          "2012-10-08T22:00:00",
          "2012-10-08T22:30:00",
          "2012-10-08T23:00:00",
          "2012-10-08T23:30:00"
         ],
         "xaxis": "x",
         "y": {
          "bdata": "WmQ730+Nlz9q6SYxCKysPz/pJjEIrIw/WDm0yHa+nz97FK5H4XqkP7pJDAIrh5Y/yXa+nxovrT/6fmq8dJNoPxsv3SQGgaU/exSuR+F6pD8bL90kBoGVPwrXo3A9Cqc/uB6F61G4jj8rhxbZzvejP9Ei2/l+arw/YhBYObTItj8IrBxaZDuvP1pkO99Pjac/ObTIdr6fqj+0yHa+nxrPP8dLN4lBYPM/j8L1KFyP8D+amZmZmZnRP4LugQzTTfI/XI/C9Shc1z9mZmZmZmbmP6wcWmQ7388/TmIQWDm00D8730+Nl27SP2ZmZmZmZuI/iUFg5dAiyz8/NV66SQzSP/LSTWIQWNk/EFg5tMh2vj+q8dJNYhCoPzm0yHa+n9I/ppvEILBy0D83iUFg5dDSPz0K16NwPdI/7FG4HoXr0T8xCKwcWmTTP6AaL90kBtE/hetRuB6F0z81XrpJDALTP5HtfD81Xto/0XjpJjEIzD9q6SYxCKysPzvfT42XbqI/nMQgsHJooT/b+X5qvHSjP7pJDAIrh4Y/6SYxCKwcqj9aZDvfT42XPylcj8L1KKw/O99PjZdugj+LbOf7qfGiP+xRuB6F66E/O99PjZduoj+LbOf7qfGiP3sUrkfheoQ/iUFg5dAiqz9aZDvfT42XP0jhehSuR9E/0XjpJjEIzD9QjZduEoPQPylcj8L1KOw/jGzn+6nx5j8AAAAAAADQPyPb+X5qvNQ/H4XrUbge4T/sUbgehevRP9NNYhBYOdQ/kxgEVg4t6j+amZmZmZnlP9Ei2/l+atQ/CgRWDi2yrT9oke18PzWuP/p+arx0k9A/xSCwcmiR1T+JQWDl0CLLPxBYObTIds4/jZduEoPAyj+4HoXrUbjOP8P1KFyPwsU/LbKd76fG5z9pke18PzXqPxsv3SQGgdU/kxgEVg4t0j83iUFg5dDSP0Bg5dAi29E//tR46SYx0D+BlUOLbOfTPwwCK4cW2dY/cukmMQisvD/8qfHSTWKQPzm0yHa+n5o/",
          "dtype": "f8"
         },
         "yaxis": "y"
        },
        {
         "hovertemplate": "variable=value<br>series=prev_day_imputed<br>timestamp=%{x}<br>_value=%{y}<extra></extra>",
         "legendgroup": "value, prev_day_imputed",
         "line": {
          "color": "#636efa",
          "dash": "dot"
         },
         "marker": {
          "symbol": "circle"
         },
         "mode": "lines",
         "name": "Previous Day Imputed",
         "orientation": "v",
         "showlegend": true,
         "type": "scatter",
         "x": [
          "2012-10-07T00:00:00",
          "2012-10-07T00:30:00",
          "2012-10-07T01:00:00",
          "2012-10-07T01:30:00",
          "2012-10-07T02:00:00",
          "2012-10-07T02:30:00",
          "2012-10-07T03:00:00",
          "2012-10-07T03:30:00",
          "2012-10-07T04:00:00",
          "2012-10-07T04:30:00",
          "2012-10-07T05:00:00",
          "2012-10-07T05:30:00",
          "2012-10-07T06:00:00",
          "2012-10-07T06:30:00",
          "2012-10-07T07:00:00",
          "2012-10-07T07:30:00",
          "2012-10-07T08:00:00",
          "2012-10-07T08:30:00",
          "2012-10-07T09:00:00",
          "2012-10-07T09:30:00",
          "2012-10-07T10:00:00",
          "2012-10-07T10:30:00",
          "2012-10-07T11:00:00",
          "2012-10-07T11:30:00",
          "2012-10-07T12:00:00",
          "2012-10-07T12:30:00",
          "2012-10-07T13:00:00",
          "2012-10-07T13:30:00",
          "2012-10-07T14:00:00",
          "2012-10-07T14:30:00",
          "2012-10-07T15:00:00",
          "2012-10-07T15:30:00",
          "2012-10-07T16:00:00",
          "2012-10-07T16:30:00",
          "2012-10-07T17:00:00",
          "2012-10-07T17:30:00",
          "2012-10-07T18:00:00",
          "2012-10-07T18:30:00",
          "2012-10-07T19:00:00",
          "2012-10-07T19:30:00",
          "2012-10-07T20:00:00",
          "2012-10-07T20:30:00",
          "2012-10-07T21:00:00",
          "2012-10-07T21:30:00",
          "2012-10-07T22:00:00",
          "2012-10-07T22:30:00",
          "2012-10-07T23:00:00",
          "2012-10-07T23:30:00",
          "2012-10-08T00:00:00",
          "2012-10-08T00:30:00",
          "2012-10-08T01:00:00",
          "2012-10-08T01:30:00",
          "2012-10-08T02:00:00",
          "2012-10-08T02:30:00",
          "2012-10-08T03:00:00",
          "2012-10-08T03:30:00",
          "2012-10-08T04:00:00",
          "2012-10-08T04:30:00",
          "2012-10-08T05:00:00",
          "2012-10-08T05:30:00",
          "2012-10-08T06:00:00",
          "2012-10-08T06:30:00",
          "2012-10-08T07:00:00",
          "2012-10-08T07:30:00",
          "2012-10-08T08:00:00",
          "2012-10-08T08:30:00",
          "2012-10-08T09:00:00",
          "2012-10-08T09:30:00",
          "2012-10-08T10:00:00",
          "2012-10-08T10:30:00",
          "2012-10-08T11:00:00",
          "2012-10-08T11:30:00",
          "2012-10-08T12:00:00",
          "2012-10-08T12:30:00",
          "2012-10-08T13:00:00",
          "2012-10-08T13:30:00",
          "2012-10-08T14:00:00",
          "2012-10-08T14:30:00",
          "2012-10-08T15:00:00",
          "2012-10-08T15:30:00",
          "2012-10-08T16:00:00",
          "2012-10-08T16:30:00",
          "2012-10-08T17:00:00",
          "2012-10-08T17:30:00",
          "2012-10-08T18:00:00",
          "2012-10-08T18:30:00",
          "2012-10-08T19:00:00",
          "2012-10-08T19:30:00",
          "2012-10-08T20:00:00",
          "2012-10-08T20:30:00",
          "2012-10-08T21:00:00",
          "2012-10-08T21:30:00",
          "2012-10-08T22:00:00",
          "2012-10-08T22:30:00",
          "2012-10-08T23:00:00",
          "2012-10-08T23:30:00"
         ],
         "xaxis": "x",
         "y": {
          "bdata": "7FG4HoXroT97FK5H4XqkPxsv3SQGgZU/yXa+nxovrT9MN4lBYOWgP3sUrkfheqQ/WDm0yHa+nz9aZDvfT42XP1g5tMh2vq8/2c73U+Olmz97FK5H4XqkP1zpJjEIrJw/+n5qvHSTmD8IrBxaZDuvPy/dJAaBlcM/46WbxCCwsj/FILByaJHpP8uhRbbz/ew/TDeJQWDl0D8pXI/C9SjgPzm0yHa+n9I/5/up8dJN0j9OYhBYObTQP5zEILByaNE/FwRWDi2y1T/n+6nx0k3SP8l2vp8aL90/OrTIdr6f4j/hehSuR+G6P5tFtvP91Lg/UrgehetRuD/pJjEIrBzSP5zEILByaNE/TDeJQWDl0D/n+6nx0k3SP1yPwvUoXNc/MzMzMzMz0z8830+Nl27iP6AaL90kBuE/hxbZzvdT0z/sfD81XrrRP/hT46WbxNA/g8DKoUW20z9I4XoUrkfRP83MzMzMzNQ/kxgEVg4tsj+cxCCwcmiRP0oMAiuHFqk/WmQ730+Nlz9q6SYxCKysPz/pJjEIrIw/WDm0yHa+nz97FK5H4XqkP7pJDAIrh5Y/yXa+nxovrT/6fmq8dJNoPxsv3SQGgaU/exSuR+F6pD8bL90kBoGVPwrXo3A9Cqc/uB6F61G4jj8rhxbZzvejP9Ei2/l+arw/YhBYObTItj8IrBxaZDuvP1pkO99Pjac/ObTIdr6fqj+0yHa+nxrPP8dLN4lBYPM/j8L1KFyP8D+amZmZmZnRP4LugQzTTfI/XI/C9Shc1z9mZmZmZmbmP6wcWmQ7388/TmIQWDm00D8730+Nl27SP2ZmZmZmZuI/iUFg5dAiyz8/NV66SQzSP/LSTWIQWNk/EFg5tMh2vj+q8dJNYhCoPzm0yHa+n9I/ppvEILBy0D83iUFg5dDSPz0K16NwPdI/7FG4HoXr0T8xCKwcWmTTP6AaL90kBtE/hetRuB6F0z81XrpJDALTP5HtfD81Xto/0XjpJjEIzD9q6SYxCKysPzvfT42XbqI/",
          "dtype": "f8"
         },
         "yaxis": "y"
        }
       ],
       "layout": {
        "autosize": false,
        "height": 500,
        "legend": {
         "font": {
          "size": 15
         },
         "orientation": "h",
         "title": {},
         "tracegroupgap": 0,
         "x": 1,
         "xanchor": "right",
         "y": 0.98,
         "yanchor": "bottom"
        },
        "template": {
         "data": {
          "bar": [
           {
            "error_x": {
             "color": "#2a3f5f"
            },
            "error_y": {
             "color": "#2a3f5f"
            },
            "marker": {
             "line": {
              "color": "white",
              "width": 0.5
             },
             "pattern": {
              "fillmode": "overlay",
              "size": 10,
              "solidity": 0.2
             }
            },
            "type": "bar"
           }
          ],
          "barpolar": [
           {
            "marker": {
             "line": {
              "color": "white",
              "width": 0.5
             },
             "pattern": {
              "fillmode": "overlay",
              "size": 10,
              "solidity": 0.2
             }
            },
            "type": "barpolar"
           }
          ],
          "carpet": [
           {
            "aaxis": {
             "endlinecolor": "#2a3f5f",
             "gridcolor": "#C8D4E3",
             "linecolor": "#C8D4E3",
             "minorgridcolor": "#C8D4E3",
             "startlinecolor": "#2a3f5f"
            },
            "baxis": {
             "endlinecolor": "#2a3f5f",
             "gridcolor": "#C8D4E3",
             "linecolor": "#C8D4E3",
             "minorgridcolor": "#C8D4E3",
             "startlinecolor": "#2a3f5f"
            },
            "type": "carpet"
           }
          ],
          "choropleth": [
           {
            "colorbar": {
             "outlinewidth": 0,
             "ticks": ""
            },
            "type": "choropleth"
           }
          ],
          "contour": [
           {
            "colorbar": {
             "outlinewidth": 0,
             "ticks": ""
            },
            "colorscale": [
             [
              0,
              "#0d0887"
             ],
             [
              0.1111111111111111,
              "#46039f"
             ],
             [
              0.2222222222222222,
              "#7201a8"
             ],
             [
              0.3333333333333333,
              "#9c179e"
             ],
             [
              0.4444444444444444,
              "#bd3786"
             ],
             [
              0.5555555555555556,
              "#d8576b"
             ],
             [
              0.6666666666666666,
              "#ed7953"
             ],
             [
              0.7777777777777778,
              "#fb9f3a"
             ],
             [
              0.8888888888888888,
              "#fdca26"
             ],
             [
              1,
              "#f0f921"
             ]
            ],
            "type": "contour"
           }
          ],
          "contourcarpet": [
           {
            "colorbar": {
             "outlinewidth": 0,
             "ticks": ""
            },
            "type": "contourcarpet"
           }
          ],
          "heatmap": [
           {
            "colorbar": {
             "outlinewidth": 0,
             "ticks": ""
            },
            "colorscale": [
             [
              0,
              "#0d0887"
             ],
             [
              0.1111111111111111,
              "#46039f"
             ],
             [
              0.2222222222222222,
              "#7201a8"
             ],
             [
              0.3333333333333333,
              "#9c179e"
             ],
             [
              0.4444444444444444,
              "#bd3786"
             ],
             [
              0.5555555555555556,
              "#d8576b"
             ],
             [
              0.6666666666666666,
              "#ed7953"
             ],
             [
              0.7777777777777778,
              "#fb9f3a"
             ],
             [
              0.8888888888888888,
              "#fdca26"
             ],
             [
              1,
              "#f0f921"
             ]
            ],
            "type": "heatmap"
           }
          ],
          "histogram": [
           {
            "marker": {
             "pattern": {
              "fillmode": "overlay",
              "size": 10,
              "solidity": 0.2
             }
            },
            "type": "histogram"
           }
          ],
          "histogram2d": [
           {
            "colorbar": {
             "outlinewidth": 0,
             "ticks": ""
            },
            "colorscale": [
             [
              0,
              "#0d0887"
             ],
             [
              0.1111111111111111,
              "#46039f"
             ],
             [
              0.2222222222222222,
              "#7201a8"
             ],
             [
              0.3333333333333333,
              "#9c179e"
             ],
             [
              0.4444444444444444,
              "#bd3786"
             ],
             [
              0.5555555555555556,
              "#d8576b"
             ],
             [
              0.6666666666666666,
              "#ed7953"
             ],
             [
              0.7777777777777778,
              "#fb9f3a"
             ],
             [
              0.8888888888888888,
              "#fdca26"
             ],
             [
              1,
              "#f0f921"
             ]
            ],
            "type": "histogram2d"
           }
          ],
          "histogram2dcontour": [
           {
            "colorbar": {
             "outlinewidth": 0,
             "ticks": ""
            },
            "colorscale": [
             [
              0,
              "#0d0887"
             ],
             [
              0.1111111111111111,
              "#46039f"
             ],
             [
              0.2222222222222222,
              "#7201a8"
             ],
             [
              0.3333333333333333,
              "#9c179e"
             ],
             [
              0.4444444444444444,
              "#bd3786"
             ],
             [
              0.5555555555555556,
              "#d8576b"
             ],
             [
              0.6666666666666666,
              "#ed7953"
             ],
             [
              0.7777777777777778,
              "#fb9f3a"
             ],
             [
              0.8888888888888888,
              "#fdca26"
             ],
             [
              1,
              "#f0f921"
             ]
            ],
            "type": "histogram2dcontour"
           }
          ],
          "mesh3d": [
           {
            "colorbar": {
             "outlinewidth": 0,
             "ticks": ""
            },
            "type": "mesh3d"
           }
          ],
          "parcoords": [
           {
            "line": {
             "colorbar": {
              "outlinewidth": 0,
              "ticks": ""
             }
            },
            "type": "parcoords"
           }
          ],
          "pie": [
           {
            "automargin": true,
            "type": "pie"
           }
          ],
          "scatter": [
           {
            "fillpattern": {
             "fillmode": "overlay",
             "size": 10,
             "solidity": 0.2
            },
            "type": "scatter"
           }
          ],
          "scatter3d": [
           {
            "line": {
             "colorbar": {
              "outlinewidth": 0,
              "ticks": ""
             }
            },
            "marker": {
             "colorbar": {
              "outlinewidth": 0,
              "ticks": ""
             }
            },
            "type": "scatter3d"
           }
          ],
          "scattercarpet": [
           {
            "marker": {
             "colorbar": {
              "outlinewidth": 0,
              "ticks": ""
             }
            },
            "type": "scattercarpet"
           }
          ],
          "scattergeo": [
           {
            "marker": {
             "colorbar": {
              "outlinewidth": 0,
              "ticks": ""
             }
            },
            "type": "scattergeo"
           }
          ],
          "scattergl": [
           {
            "marker": {
             "colorbar": {
              "outlinewidth": 0,
              "ticks": ""
             }
            },
            "type": "scattergl"
           }
          ],
          "scattermap": [
           {
            "marker": {
             "colorbar": {
              "outlinewidth": 0,
              "ticks": ""
             }
            },
            "type": "scattermap"
           }
          ],
          "scattermapbox": [
           {
            "marker": {
             "colorbar": {
              "outlinewidth": 0,
              "ticks": ""
             }
            },
            "type": "scattermapbox"
           }
          ],
          "scatterpolar": [
           {
            "marker": {
             "colorbar": {
              "outlinewidth": 0,
              "ticks": ""
             }
            },
            "type": "scatterpolar"
           }
          ],
          "scatterpolargl": [
           {
            "marker": {
             "colorbar": {
              "outlinewidth": 0,
              "ticks": ""
             }
            },
            "type": "scatterpolargl"
           }
          ],
          "scatterternary": [
           {
            "marker": {
             "colorbar": {
              "outlinewidth": 0,
              "ticks": ""
             }
            },
            "type": "scatterternary"
           }
          ],
          "surface": [
           {
            "colorbar": {
             "outlinewidth": 0,
             "ticks": ""
            },
            "colorscale": [
             [
              0,
              "#0d0887"
             ],
             [
              0.1111111111111111,
              "#46039f"
             ],
             [
              0.2222222222222222,
              "#7201a8"
             ],
             [
              0.3333333333333333,
              "#9c179e"
             ],
             [
              0.4444444444444444,
              "#bd3786"
             ],
             [
              0.5555555555555556,
              "#d8576b"
             ],
             [
              0.6666666666666666,
              "#ed7953"
             ],
             [
              0.7777777777777778,
              "#fb9f3a"
             ],
             [
              0.8888888888888888,
              "#fdca26"
             ],
             [
              1,
              "#f0f921"
             ]
            ],
            "type": "surface"
           }
          ],
          "table": [
           {
            "cells": {
             "fill": {
              "color": "#EBF0F8"
             },
             "line": {
              "color": "white"
             }
            },
            "header": {
             "fill": {
              "color": "#C8D4E3"
             },
             "line": {
              "color": "white"
             }
            },
            "type": "table"
           }
          ]
         },
         "layout": {
          "annotationdefaults": {
           "arrowcolor": "#2a3f5f",
           "arrowhead": 0,
           "arrowwidth": 1
          },
          "autotypenumbers": "strict",
          "coloraxis": {
           "colorbar": {
            "outlinewidth": 0,
            "ticks": ""
           }
          },
          "colorscale": {
           "diverging": [
            [
             0,
             "#8e0152"
            ],
            [
             0.1,
             "#c51b7d"
            ],
            [
             0.2,
             "#de77ae"
            ],
            [
             0.3,
             "#f1b6da"
            ],
            [
             0.4,
             "#fde0ef"
            ],
            [
             0.5,
             "#f7f7f7"
            ],
            [
             0.6,
             "#e6f5d0"
            ],
            [
             0.7,
             "#b8e186"
            ],
            [
             0.8,
             "#7fbc41"
            ],
            [
             0.9,
             "#4d9221"
            ],
            [
             1,
             "#276419"
            ]
           ],
           "sequential": [
            [
             0,
             "#0d0887"
            ],
            [
             0.1111111111111111,
             "#46039f"
            ],
            [
             0.2222222222222222,
             "#7201a8"
            ],
            [
             0.3333333333333333,
             "#9c179e"
            ],
            [
             0.4444444444444444,
             "#bd3786"
            ],
            [
             0.5555555555555556,
             "#d8576b"
            ],
            [
             0.6666666666666666,
             "#ed7953"
            ],
            [
             0.7777777777777778,
             "#fb9f3a"
            ],
            [
             0.8888888888888888,
             "#fdca26"
            ],
            [
             1,
             "#f0f921"
            ]
           ],
           "sequentialminus": [
            [
             0,
             "#0d0887"
            ],
            [
             0.1111111111111111,
             "#46039f"
            ],
            [
             0.2222222222222222,
             "#7201a8"
            ],
            [
             0.3333333333333333,
             "#9c179e"
            ],
            [
             0.4444444444444444,
             "#bd3786"
            ],
            [
             0.5555555555555556,
             "#d8576b"
            ],
            [
             0.6666666666666666,
             "#ed7953"
            ],
            [
             0.7777777777777778,
             "#fb9f3a"
            ],
            [
             0.8888888888888888,
             "#fdca26"
            ],
            [
             1,
             "#f0f921"
            ]
           ]
          },
          "colorway": [
           "#636efa",
           "#EF553B",
           "#00cc96",
           "#ab63fa",
           "#FFA15A",
           "#19d3f3",
           "#FF6692",
           "#B6E880",
           "#FF97FF",
           "#FECB52"
          ],
          "font": {
           "color": "#2a3f5f"
          },
          "geo": {
           "bgcolor": "white",
           "lakecolor": "white",
           "landcolor": "white",
           "showlakes": true,
           "showland": true,
           "subunitcolor": "#C8D4E3"
          },
          "hoverlabel": {
           "align": "left"
          },
          "hovermode": "closest",
          "mapbox": {
           "style": "light"
          },
          "paper_bgcolor": "white",
          "plot_bgcolor": "white",
          "polar": {
           "angularaxis": {
            "gridcolor": "#EBF0F8",
            "linecolor": "#EBF0F8",
            "ticks": ""
           },
           "bgcolor": "white",
           "radialaxis": {
            "gridcolor": "#EBF0F8",
            "linecolor": "#EBF0F8",
            "ticks": ""
           }
          },
          "scene": {
           "xaxis": {
            "backgroundcolor": "white",
            "gridcolor": "#DFE8F3",
            "gridwidth": 2,
            "linecolor": "#EBF0F8",
            "showbackground": true,
            "ticks": "",
            "zerolinecolor": "#EBF0F8"
           },
           "yaxis": {
            "backgroundcolor": "white",
            "gridcolor": "#DFE8F3",
            "gridwidth": 2,
            "linecolor": "#EBF0F8",
            "showbackground": true,
            "ticks": "",
            "zerolinecolor": "#EBF0F8"
           },
           "zaxis": {
            "backgroundcolor": "white",
            "gridcolor": "#DFE8F3",
            "gridwidth": 2,
            "linecolor": "#EBF0F8",
            "showbackground": true,
            "ticks": "",
            "zerolinecolor": "#EBF0F8"
           }
          },
          "shapedefaults": {
           "line": {
            "color": "#2a3f5f"
           }
          },
          "ternary": {
           "aaxis": {
            "gridcolor": "#DFE8F3",
            "linecolor": "#A2B1C6",
            "ticks": ""
           },
           "baxis": {
            "gridcolor": "#DFE8F3",
            "linecolor": "#A2B1C6",
            "ticks": ""
           },
           "bgcolor": "white",
           "caxis": {
            "gridcolor": "#DFE8F3",
            "linecolor": "#A2B1C6",
            "ticks": ""
           }
          },
          "title": {
           "x": 0.05
          },
          "xaxis": {
           "automargin": true,
           "gridcolor": "#EBF0F8",
           "linecolor": "#EBF0F8",
           "ticks": "",
           "title": {
            "standoff": 15
           },
           "zerolinecolor": "#EBF0F8",
           "zerolinewidth": 2
          },
          "yaxis": {
           "automargin": true,
           "gridcolor": "#EBF0F8",
           "linecolor": "#EBF0F8",
           "ticks": "",
           "title": {
            "standoff": 15
           },
           "zerolinecolor": "#EBF0F8",
           "zerolinewidth": 2
          }
         }
        },
        "title": {
         "font": {
          "size": 20
         },
         "text": "Imputing with Previous Day | MAE=0.168",
         "x": 0.5,
         "xanchor": "center",
         "yanchor": "top"
        },
        "width": 900,
        "xaxis": {
         "anchor": "y",
         "domain": [
          0,
          1
         ],
         "tickfont": {
          "size": 15
         },
         "title": {
          "font": {
           "size": 15
          },
          "text": "Day"
         }
        },
        "yaxis": {
         "anchor": "x",
         "domain": [
          0,
          1
         ],
         "tickfont": {
          "size": 15
         },
         "title": {
          "font": {
           "size": 15
          },
          "text": "Value"
         }
        }
       }
      }
     },
     "metadata": {},
     "output_type": "display_data"
    }
   ],
   "source": [
    "plot_df = pd.melt(ts_df.loc[window,['energy_consumption','prev_day_imputed']].reset_index(), id_vars='timestamp', var_name=\"series\")\n",
    "fig = px.line(plot_df, x=\"timestamp\", y=[\"value\"], line_dash=\"series\", title=f\"Imputing with Previous Day | MAE={mae:.3f}\")\n",
    "fig = format_plot(fig, ['Original', 'Previous Day Imputed'])\n",
    "fig.write_image(\"imgs/chapter_2/previous_day_imputation.png\")\n",
    "fig"
   ]
  },
  {
   "cell_type": "markdown",
   "id": "6d2a5c02-7eda-460b-aee5-b996c9e1b9a7",
   "metadata": {},
   "source": [
    "#### Hourly Profile"
   ]
  },
  {
   "cell_type": "code",
   "execution_count": 42,
   "id": "8b9f23fa-6a26-4eff-b41b-a094d0609ddb",
   "metadata": {},
   "outputs": [],
   "source": [
    "#Create a column with the Hour from timestamp\n",
    "ts_df[\"hour\"] = ts_df.index.hour\n",
    "#Calculate hourly average consumption\n",
    "hourly_profile = ts_df.groupby(['hour'])['energy_consumption'].mean().reset_index()\n",
    "hourly_profile.rename(columns={\"energy_consumption\": \"hourly_profile\"}, inplace=True)\n",
    "#Saving the index because it gets lost in merge\n",
    "idx = ts_df.index\n",
    "#Merge the hourly profile dataframe to ts dataframe\n",
    "ts_df = ts_df.merge(hourly_profile, on=['hour'], how='left', validate=\"many_to_one\")\n",
    "ts_df.index = idx\n",
    "\n",
    "#Using the hourly profile to fill missing\n",
    "ts_df['hourly_profile_imputed'] = ts_df['energy_consumption_missing']\n",
    "ts_df.loc[null_mask,\"hourly_profile_imputed\"] = ts_df.loc[null_mask,\"hourly_profile\"]\n",
    "mae = mean_absolute_error(ts_df.loc[window, \"hourly_profile_imputed\"], ts_df.loc[window, \"energy_consumption\"])"
   ]
  },
  {
   "cell_type": "code",
   "execution_count": 43,
   "id": "0d73c616-9ea6-410a-9bb5-3443c75d7c06",
   "metadata": {},
   "outputs": [
    {
     "data": {
      "application/vnd.plotly.v1+json": {
       "config": {
        "plotlyServerURL": "https://plot.ly"
       },
       "data": [
        {
         "hovertemplate": "variable=value<br>series=energy_consumption<br>timestamp=%{x}<br>_value=%{y}<extra></extra>",
         "legendgroup": "value, energy_consumption",
         "line": {
          "color": "#636efa",
          "dash": "solid"
         },
         "marker": {
          "symbol": "circle"
         },
         "mode": "lines",
         "name": "Original",
         "orientation": "v",
         "showlegend": true,
         "type": "scatter",
         "x": [
          "2012-10-07T00:00:00",
          "2012-10-07T00:30:00",
          "2012-10-07T01:00:00",
          "2012-10-07T01:30:00",
          "2012-10-07T02:00:00",
          "2012-10-07T02:30:00",
          "2012-10-07T03:00:00",
          "2012-10-07T03:30:00",
          "2012-10-07T04:00:00",
          "2012-10-07T04:30:00",
          "2012-10-07T05:00:00",
          "2012-10-07T05:30:00",
          "2012-10-07T06:00:00",
          "2012-10-07T06:30:00",
          "2012-10-07T07:00:00",
          "2012-10-07T07:30:00",
          "2012-10-07T08:00:00",
          "2012-10-07T08:30:00",
          "2012-10-07T09:00:00",
          "2012-10-07T09:30:00",
          "2012-10-07T10:00:00",
          "2012-10-07T10:30:00",
          "2012-10-07T11:00:00",
          "2012-10-07T11:30:00",
          "2012-10-07T12:00:00",
          "2012-10-07T12:30:00",
          "2012-10-07T13:00:00",
          "2012-10-07T13:30:00",
          "2012-10-07T14:00:00",
          "2012-10-07T14:30:00",
          "2012-10-07T15:00:00",
          "2012-10-07T15:30:00",
          "2012-10-07T16:00:00",
          "2012-10-07T16:30:00",
          "2012-10-07T17:00:00",
          "2012-10-07T17:30:00",
          "2012-10-07T18:00:00",
          "2012-10-07T18:30:00",
          "2012-10-07T19:00:00",
          "2012-10-07T19:30:00",
          "2012-10-07T20:00:00",
          "2012-10-07T20:30:00",
          "2012-10-07T21:00:00",
          "2012-10-07T21:30:00",
          "2012-10-07T22:00:00",
          "2012-10-07T22:30:00",
          "2012-10-07T23:00:00",
          "2012-10-07T23:30:00",
          "2012-10-08T00:00:00",
          "2012-10-08T00:30:00",
          "2012-10-08T01:00:00",
          "2012-10-08T01:30:00",
          "2012-10-08T02:00:00",
          "2012-10-08T02:30:00",
          "2012-10-08T03:00:00",
          "2012-10-08T03:30:00",
          "2012-10-08T04:00:00",
          "2012-10-08T04:30:00",
          "2012-10-08T05:00:00",
          "2012-10-08T05:30:00",
          "2012-10-08T06:00:00",
          "2012-10-08T06:30:00",
          "2012-10-08T07:00:00",
          "2012-10-08T07:30:00",
          "2012-10-08T08:00:00",
          "2012-10-08T08:30:00",
          "2012-10-08T09:00:00",
          "2012-10-08T09:30:00",
          "2012-10-08T10:00:00",
          "2012-10-08T10:30:00",
          "2012-10-08T11:00:00",
          "2012-10-08T11:30:00",
          "2012-10-08T12:00:00",
          "2012-10-08T12:30:00",
          "2012-10-08T13:00:00",
          "2012-10-08T13:30:00",
          "2012-10-08T14:00:00",
          "2012-10-08T14:30:00",
          "2012-10-08T15:00:00",
          "2012-10-08T15:30:00",
          "2012-10-08T16:00:00",
          "2012-10-08T16:30:00",
          "2012-10-08T17:00:00",
          "2012-10-08T17:30:00",
          "2012-10-08T18:00:00",
          "2012-10-08T18:30:00",
          "2012-10-08T19:00:00",
          "2012-10-08T19:30:00",
          "2012-10-08T20:00:00",
          "2012-10-08T20:30:00",
          "2012-10-08T21:00:00",
          "2012-10-08T21:30:00",
          "2012-10-08T22:00:00",
          "2012-10-08T22:30:00",
          "2012-10-08T23:00:00",
          "2012-10-08T23:30:00"
         ],
         "xaxis": "x",
         "y": {
          "bdata": "WmQ730+Nlz9q6SYxCKysPz/pJjEIrIw/WDm0yHa+nz97FK5H4XqkP7pJDAIrh5Y/yXa+nxovrT/6fmq8dJNoPxsv3SQGgaU/exSuR+F6pD8bL90kBoGVPwrXo3A9Cqc/uB6F61G4jj8rhxbZzvejP9Ei2/l+arw/YhBYObTItj8IrBxaZDuvP1pkO99Pjac/ObTIdr6fqj+0yHa+nxrPP8dLN4lBYPM/j8L1KFyP8D+amZmZmZnRP4LugQzTTfI/XI/C9Shc1z9mZmZmZmbmP6wcWmQ7388/TmIQWDm00D8730+Nl27SP2ZmZmZmZuI/iUFg5dAiyz8/NV66SQzSP/LSTWIQWNk/EFg5tMh2vj+q8dJNYhCoPzm0yHa+n9I/ppvEILBy0D83iUFg5dDSPz0K16NwPdI/7FG4HoXr0T8xCKwcWmTTP6AaL90kBtE/hetRuB6F0z81XrpJDALTP5HtfD81Xto/0XjpJjEIzD9q6SYxCKysPzvfT42XbqI/nMQgsHJooT/b+X5qvHSjP7pJDAIrh4Y/6SYxCKwcqj9aZDvfT42XPylcj8L1KKw/O99PjZdugj+LbOf7qfGiP+xRuB6F66E/O99PjZduoj+LbOf7qfGiP3sUrkfheoQ/iUFg5dAiqz9aZDvfT42XP0jhehSuR9E/0XjpJjEIzD9QjZduEoPQPylcj8L1KOw/jGzn+6nx5j8AAAAAAADQPyPb+X5qvNQ/H4XrUbge4T/sUbgehevRP9NNYhBYOdQ/kxgEVg4t6j+amZmZmZnlP9Ei2/l+atQ/CgRWDi2yrT9oke18PzWuP/p+arx0k9A/xSCwcmiR1T+JQWDl0CLLPxBYObTIds4/jZduEoPAyj+4HoXrUbjOP8P1KFyPwsU/LbKd76fG5z9pke18PzXqPxsv3SQGgdU/kxgEVg4t0j83iUFg5dDSP0Bg5dAi29E//tR46SYx0D+BlUOLbOfTPwwCK4cW2dY/cukmMQisvD/8qfHSTWKQPzm0yHa+n5o/",
          "dtype": "f8"
         },
         "yaxis": "y"
        },
        {
         "hovertemplate": "variable=value<br>series=hourly_profile_imputed<br>timestamp=%{x}<br>_value=%{y}<extra></extra>",
         "legendgroup": "value, hourly_profile_imputed",
         "line": {
          "color": "#636efa",
          "dash": "dot"
         },
         "marker": {
          "symbol": "circle"
         },
         "mode": "lines",
         "name": "Hourly Profile Imputed",
         "orientation": "v",
         "showlegend": true,
         "type": "scatter",
         "x": [
          "2012-10-07T00:00:00",
          "2012-10-07T00:30:00",
          "2012-10-07T01:00:00",
          "2012-10-07T01:30:00",
          "2012-10-07T02:00:00",
          "2012-10-07T02:30:00",
          "2012-10-07T03:00:00",
          "2012-10-07T03:30:00",
          "2012-10-07T04:00:00",
          "2012-10-07T04:30:00",
          "2012-10-07T05:00:00",
          "2012-10-07T05:30:00",
          "2012-10-07T06:00:00",
          "2012-10-07T06:30:00",
          "2012-10-07T07:00:00",
          "2012-10-07T07:30:00",
          "2012-10-07T08:00:00",
          "2012-10-07T08:30:00",
          "2012-10-07T09:00:00",
          "2012-10-07T09:30:00",
          "2012-10-07T10:00:00",
          "2012-10-07T10:30:00",
          "2012-10-07T11:00:00",
          "2012-10-07T11:30:00",
          "2012-10-07T12:00:00",
          "2012-10-07T12:30:00",
          "2012-10-07T13:00:00",
          "2012-10-07T13:30:00",
          "2012-10-07T14:00:00",
          "2012-10-07T14:30:00",
          "2012-10-07T15:00:00",
          "2012-10-07T15:30:00",
          "2012-10-07T16:00:00",
          "2012-10-07T16:30:00",
          "2012-10-07T17:00:00",
          "2012-10-07T17:30:00",
          "2012-10-07T18:00:00",
          "2012-10-07T18:30:00",
          "2012-10-07T19:00:00",
          "2012-10-07T19:30:00",
          "2012-10-07T20:00:00",
          "2012-10-07T20:30:00",
          "2012-10-07T21:00:00",
          "2012-10-07T21:30:00",
          "2012-10-07T22:00:00",
          "2012-10-07T22:30:00",
          "2012-10-07T23:00:00",
          "2012-10-07T23:30:00",
          "2012-10-08T00:00:00",
          "2012-10-08T00:30:00",
          "2012-10-08T01:00:00",
          "2012-10-08T01:30:00",
          "2012-10-08T02:00:00",
          "2012-10-08T02:30:00",
          "2012-10-08T03:00:00",
          "2012-10-08T03:30:00",
          "2012-10-08T04:00:00",
          "2012-10-08T04:30:00",
          "2012-10-08T05:00:00",
          "2012-10-08T05:30:00",
          "2012-10-08T06:00:00",
          "2012-10-08T06:30:00",
          "2012-10-08T07:00:00",
          "2012-10-08T07:30:00",
          "2012-10-08T08:00:00",
          "2012-10-08T08:30:00",
          "2012-10-08T09:00:00",
          "2012-10-08T09:30:00",
          "2012-10-08T10:00:00",
          "2012-10-08T10:30:00",
          "2012-10-08T11:00:00",
          "2012-10-08T11:30:00",
          "2012-10-08T12:00:00",
          "2012-10-08T12:30:00",
          "2012-10-08T13:00:00",
          "2012-10-08T13:30:00",
          "2012-10-08T14:00:00",
          "2012-10-08T14:30:00",
          "2012-10-08T15:00:00",
          "2012-10-08T15:30:00",
          "2012-10-08T16:00:00",
          "2012-10-08T16:30:00",
          "2012-10-08T17:00:00",
          "2012-10-08T17:30:00",
          "2012-10-08T18:00:00",
          "2012-10-08T18:30:00",
          "2012-10-08T19:00:00",
          "2012-10-08T19:30:00",
          "2012-10-08T20:00:00",
          "2012-10-08T20:30:00",
          "2012-10-08T21:00:00",
          "2012-10-08T21:30:00",
          "2012-10-08T22:00:00",
          "2012-10-08T22:30:00",
          "2012-10-08T23:00:00",
          "2012-10-08T23:30:00"
         ],
         "xaxis": "x",
         "y": {
          "bdata": "WqMioy6atT9aoyKjLpq1P3vX4jbsnqE/e9fiNuyeoT8WiG1Ypq+gPxaIbVimr6A/RKu1TV3BoD9Eq7VNXcGgP2TfPwBorKA/ZN8/AGisoD9qgY9UWj+iP2qBj1RaP6I/cZ2H+w3vrT9xnYf7De+tPzpbhCAB1L8/OluEIAHUvz/fspA/8hrUP9+ykD/yGtQ/xAlTgUtx3j/ECVOBS3HeP+0SCtdqS+I/7RIK12pL4j89Da7M4ajbPz0NrszhqNs/mClFeuuV1T+YKUV665XVPw2bDKgu+NY/DZsMqC741j8ZTnKWTInVPxlOcpZMidU/ZOqPiE0+0D9k6o+ITT7QPy0apDmTDs4/LRqkOZMOzj9rr7WgkCjQP2uvtaCQKNA/hoFlnPwl1z+GgWWc/CXXPzH+BDKOMtk/Mf4EMo4y2T8+vePy3/rTPz694/Lf+tM/+p57L8JZ0j/6nnsvwlnSPzbH9NvdE9E/Nsf0290T0T/N2546KNXLP83bnjoo1cs/WqMioy6atT9aoyKjLpq1P3vX4jbsnqE/e9fiNuyeoT8WiG1Ypq+gPxaIbVimr6A/RKu1TV3BoD9Eq7VNXcGgP2TfPwBorKA/ZN8/AGisoD9qgY9UWj+iP2qBj1RaP6I/cZ2H+w3vrT9xnYf7De+tPzpbhCAB1L8/OluEIAHUvz/fspA/8hrUP9+ykD/yGtQ/xAlTgUtx3j/ECVOBS3HeP+0SCtdqS+I/7RIK12pL4j89Da7M4ajbPz0NrszhqNs/mClFeuuV1T+YKUV665XVPw2bDKgu+NY/DZsMqC741j8ZTnKWTInVPxlOcpZMidU/ZOqPiE0+0D9k6o+ITT7QPy0apDmTDs4/LRqkOZMOzj9rr7WgkCjQP2uvtaCQKNA/hoFlnPwl1z+GgWWc/CXXPzH+BDKOMtk/Mf4EMo4y2T8+vePy3/rTPz694/Lf+tM/+p57L8JZ0j/6nnsvwlnSPzbH9NvdE9E/Nsf0290T0T/N2546KNXLP83bnjoo1cs/",
          "dtype": "f8"
         },
         "yaxis": "y"
        }
       ],
       "layout": {
        "autosize": false,
        "height": 500,
        "legend": {
         "font": {
          "size": 15
         },
         "orientation": "h",
         "title": {},
         "tracegroupgap": 0,
         "x": 1,
         "xanchor": "right",
         "y": 0.98,
         "yanchor": "bottom"
        },
        "template": {
         "data": {
          "bar": [
           {
            "error_x": {
             "color": "#2a3f5f"
            },
            "error_y": {
             "color": "#2a3f5f"
            },
            "marker": {
             "line": {
              "color": "white",
              "width": 0.5
             },
             "pattern": {
              "fillmode": "overlay",
              "size": 10,
              "solidity": 0.2
             }
            },
            "type": "bar"
           }
          ],
          "barpolar": [
           {
            "marker": {
             "line": {
              "color": "white",
              "width": 0.5
             },
             "pattern": {
              "fillmode": "overlay",
              "size": 10,
              "solidity": 0.2
             }
            },
            "type": "barpolar"
           }
          ],
          "carpet": [
           {
            "aaxis": {
             "endlinecolor": "#2a3f5f",
             "gridcolor": "#C8D4E3",
             "linecolor": "#C8D4E3",
             "minorgridcolor": "#C8D4E3",
             "startlinecolor": "#2a3f5f"
            },
            "baxis": {
             "endlinecolor": "#2a3f5f",
             "gridcolor": "#C8D4E3",
             "linecolor": "#C8D4E3",
             "minorgridcolor": "#C8D4E3",
             "startlinecolor": "#2a3f5f"
            },
            "type": "carpet"
           }
          ],
          "choropleth": [
           {
            "colorbar": {
             "outlinewidth": 0,
             "ticks": ""
            },
            "type": "choropleth"
           }
          ],
          "contour": [
           {
            "colorbar": {
             "outlinewidth": 0,
             "ticks": ""
            },
            "colorscale": [
             [
              0,
              "#0d0887"
             ],
             [
              0.1111111111111111,
              "#46039f"
             ],
             [
              0.2222222222222222,
              "#7201a8"
             ],
             [
              0.3333333333333333,
              "#9c179e"
             ],
             [
              0.4444444444444444,
              "#bd3786"
             ],
             [
              0.5555555555555556,
              "#d8576b"
             ],
             [
              0.6666666666666666,
              "#ed7953"
             ],
             [
              0.7777777777777778,
              "#fb9f3a"
             ],
             [
              0.8888888888888888,
              "#fdca26"
             ],
             [
              1,
              "#f0f921"
             ]
            ],
            "type": "contour"
           }
          ],
          "contourcarpet": [
           {
            "colorbar": {
             "outlinewidth": 0,
             "ticks": ""
            },
            "type": "contourcarpet"
           }
          ],
          "heatmap": [
           {
            "colorbar": {
             "outlinewidth": 0,
             "ticks": ""
            },
            "colorscale": [
             [
              0,
              "#0d0887"
             ],
             [
              0.1111111111111111,
              "#46039f"
             ],
             [
              0.2222222222222222,
              "#7201a8"
             ],
             [
              0.3333333333333333,
              "#9c179e"
             ],
             [
              0.4444444444444444,
              "#bd3786"
             ],
             [
              0.5555555555555556,
              "#d8576b"
             ],
             [
              0.6666666666666666,
              "#ed7953"
             ],
             [
              0.7777777777777778,
              "#fb9f3a"
             ],
             [
              0.8888888888888888,
              "#fdca26"
             ],
             [
              1,
              "#f0f921"
             ]
            ],
            "type": "heatmap"
           }
          ],
          "histogram": [
           {
            "marker": {
             "pattern": {
              "fillmode": "overlay",
              "size": 10,
              "solidity": 0.2
             }
            },
            "type": "histogram"
           }
          ],
          "histogram2d": [
           {
            "colorbar": {
             "outlinewidth": 0,
             "ticks": ""
            },
            "colorscale": [
             [
              0,
              "#0d0887"
             ],
             [
              0.1111111111111111,
              "#46039f"
             ],
             [
              0.2222222222222222,
              "#7201a8"
             ],
             [
              0.3333333333333333,
              "#9c179e"
             ],
             [
              0.4444444444444444,
              "#bd3786"
             ],
             [
              0.5555555555555556,
              "#d8576b"
             ],
             [
              0.6666666666666666,
              "#ed7953"
             ],
             [
              0.7777777777777778,
              "#fb9f3a"
             ],
             [
              0.8888888888888888,
              "#fdca26"
             ],
             [
              1,
              "#f0f921"
             ]
            ],
            "type": "histogram2d"
           }
          ],
          "histogram2dcontour": [
           {
            "colorbar": {
             "outlinewidth": 0,
             "ticks": ""
            },
            "colorscale": [
             [
              0,
              "#0d0887"
             ],
             [
              0.1111111111111111,
              "#46039f"
             ],
             [
              0.2222222222222222,
              "#7201a8"
             ],
             [
              0.3333333333333333,
              "#9c179e"
             ],
             [
              0.4444444444444444,
              "#bd3786"
             ],
             [
              0.5555555555555556,
              "#d8576b"
             ],
             [
              0.6666666666666666,
              "#ed7953"
             ],
             [
              0.7777777777777778,
              "#fb9f3a"
             ],
             [
              0.8888888888888888,
              "#fdca26"
             ],
             [
              1,
              "#f0f921"
             ]
            ],
            "type": "histogram2dcontour"
           }
          ],
          "mesh3d": [
           {
            "colorbar": {
             "outlinewidth": 0,
             "ticks": ""
            },
            "type": "mesh3d"
           }
          ],
          "parcoords": [
           {
            "line": {
             "colorbar": {
              "outlinewidth": 0,
              "ticks": ""
             }
            },
            "type": "parcoords"
           }
          ],
          "pie": [
           {
            "automargin": true,
            "type": "pie"
           }
          ],
          "scatter": [
           {
            "fillpattern": {
             "fillmode": "overlay",
             "size": 10,
             "solidity": 0.2
            },
            "type": "scatter"
           }
          ],
          "scatter3d": [
           {
            "line": {
             "colorbar": {
              "outlinewidth": 0,
              "ticks": ""
             }
            },
            "marker": {
             "colorbar": {
              "outlinewidth": 0,
              "ticks": ""
             }
            },
            "type": "scatter3d"
           }
          ],
          "scattercarpet": [
           {
            "marker": {
             "colorbar": {
              "outlinewidth": 0,
              "ticks": ""
             }
            },
            "type": "scattercarpet"
           }
          ],
          "scattergeo": [
           {
            "marker": {
             "colorbar": {
              "outlinewidth": 0,
              "ticks": ""
             }
            },
            "type": "scattergeo"
           }
          ],
          "scattergl": [
           {
            "marker": {
             "colorbar": {
              "outlinewidth": 0,
              "ticks": ""
             }
            },
            "type": "scattergl"
           }
          ],
          "scattermap": [
           {
            "marker": {
             "colorbar": {
              "outlinewidth": 0,
              "ticks": ""
             }
            },
            "type": "scattermap"
           }
          ],
          "scattermapbox": [
           {
            "marker": {
             "colorbar": {
              "outlinewidth": 0,
              "ticks": ""
             }
            },
            "type": "scattermapbox"
           }
          ],
          "scatterpolar": [
           {
            "marker": {
             "colorbar": {
              "outlinewidth": 0,
              "ticks": ""
             }
            },
            "type": "scatterpolar"
           }
          ],
          "scatterpolargl": [
           {
            "marker": {
             "colorbar": {
              "outlinewidth": 0,
              "ticks": ""
             }
            },
            "type": "scatterpolargl"
           }
          ],
          "scatterternary": [
           {
            "marker": {
             "colorbar": {
              "outlinewidth": 0,
              "ticks": ""
             }
            },
            "type": "scatterternary"
           }
          ],
          "surface": [
           {
            "colorbar": {
             "outlinewidth": 0,
             "ticks": ""
            },
            "colorscale": [
             [
              0,
              "#0d0887"
             ],
             [
              0.1111111111111111,
              "#46039f"
             ],
             [
              0.2222222222222222,
              "#7201a8"
             ],
             [
              0.3333333333333333,
              "#9c179e"
             ],
             [
              0.4444444444444444,
              "#bd3786"
             ],
             [
              0.5555555555555556,
              "#d8576b"
             ],
             [
              0.6666666666666666,
              "#ed7953"
             ],
             [
              0.7777777777777778,
              "#fb9f3a"
             ],
             [
              0.8888888888888888,
              "#fdca26"
             ],
             [
              1,
              "#f0f921"
             ]
            ],
            "type": "surface"
           }
          ],
          "table": [
           {
            "cells": {
             "fill": {
              "color": "#EBF0F8"
             },
             "line": {
              "color": "white"
             }
            },
            "header": {
             "fill": {
              "color": "#C8D4E3"
             },
             "line": {
              "color": "white"
             }
            },
            "type": "table"
           }
          ]
         },
         "layout": {
          "annotationdefaults": {
           "arrowcolor": "#2a3f5f",
           "arrowhead": 0,
           "arrowwidth": 1
          },
          "autotypenumbers": "strict",
          "coloraxis": {
           "colorbar": {
            "outlinewidth": 0,
            "ticks": ""
           }
          },
          "colorscale": {
           "diverging": [
            [
             0,
             "#8e0152"
            ],
            [
             0.1,
             "#c51b7d"
            ],
            [
             0.2,
             "#de77ae"
            ],
            [
             0.3,
             "#f1b6da"
            ],
            [
             0.4,
             "#fde0ef"
            ],
            [
             0.5,
             "#f7f7f7"
            ],
            [
             0.6,
             "#e6f5d0"
            ],
            [
             0.7,
             "#b8e186"
            ],
            [
             0.8,
             "#7fbc41"
            ],
            [
             0.9,
             "#4d9221"
            ],
            [
             1,
             "#276419"
            ]
           ],
           "sequential": [
            [
             0,
             "#0d0887"
            ],
            [
             0.1111111111111111,
             "#46039f"
            ],
            [
             0.2222222222222222,
             "#7201a8"
            ],
            [
             0.3333333333333333,
             "#9c179e"
            ],
            [
             0.4444444444444444,
             "#bd3786"
            ],
            [
             0.5555555555555556,
             "#d8576b"
            ],
            [
             0.6666666666666666,
             "#ed7953"
            ],
            [
             0.7777777777777778,
             "#fb9f3a"
            ],
            [
             0.8888888888888888,
             "#fdca26"
            ],
            [
             1,
             "#f0f921"
            ]
           ],
           "sequentialminus": [
            [
             0,
             "#0d0887"
            ],
            [
             0.1111111111111111,
             "#46039f"
            ],
            [
             0.2222222222222222,
             "#7201a8"
            ],
            [
             0.3333333333333333,
             "#9c179e"
            ],
            [
             0.4444444444444444,
             "#bd3786"
            ],
            [
             0.5555555555555556,
             "#d8576b"
            ],
            [
             0.6666666666666666,
             "#ed7953"
            ],
            [
             0.7777777777777778,
             "#fb9f3a"
            ],
            [
             0.8888888888888888,
             "#fdca26"
            ],
            [
             1,
             "#f0f921"
            ]
           ]
          },
          "colorway": [
           "#636efa",
           "#EF553B",
           "#00cc96",
           "#ab63fa",
           "#FFA15A",
           "#19d3f3",
           "#FF6692",
           "#B6E880",
           "#FF97FF",
           "#FECB52"
          ],
          "font": {
           "color": "#2a3f5f"
          },
          "geo": {
           "bgcolor": "white",
           "lakecolor": "white",
           "landcolor": "white",
           "showlakes": true,
           "showland": true,
           "subunitcolor": "#C8D4E3"
          },
          "hoverlabel": {
           "align": "left"
          },
          "hovermode": "closest",
          "mapbox": {
           "style": "light"
          },
          "paper_bgcolor": "white",
          "plot_bgcolor": "white",
          "polar": {
           "angularaxis": {
            "gridcolor": "#EBF0F8",
            "linecolor": "#EBF0F8",
            "ticks": ""
           },
           "bgcolor": "white",
           "radialaxis": {
            "gridcolor": "#EBF0F8",
            "linecolor": "#EBF0F8",
            "ticks": ""
           }
          },
          "scene": {
           "xaxis": {
            "backgroundcolor": "white",
            "gridcolor": "#DFE8F3",
            "gridwidth": 2,
            "linecolor": "#EBF0F8",
            "showbackground": true,
            "ticks": "",
            "zerolinecolor": "#EBF0F8"
           },
           "yaxis": {
            "backgroundcolor": "white",
            "gridcolor": "#DFE8F3",
            "gridwidth": 2,
            "linecolor": "#EBF0F8",
            "showbackground": true,
            "ticks": "",
            "zerolinecolor": "#EBF0F8"
           },
           "zaxis": {
            "backgroundcolor": "white",
            "gridcolor": "#DFE8F3",
            "gridwidth": 2,
            "linecolor": "#EBF0F8",
            "showbackground": true,
            "ticks": "",
            "zerolinecolor": "#EBF0F8"
           }
          },
          "shapedefaults": {
           "line": {
            "color": "#2a3f5f"
           }
          },
          "ternary": {
           "aaxis": {
            "gridcolor": "#DFE8F3",
            "linecolor": "#A2B1C6",
            "ticks": ""
           },
           "baxis": {
            "gridcolor": "#DFE8F3",
            "linecolor": "#A2B1C6",
            "ticks": ""
           },
           "bgcolor": "white",
           "caxis": {
            "gridcolor": "#DFE8F3",
            "linecolor": "#A2B1C6",
            "ticks": ""
           }
          },
          "title": {
           "x": 0.05
          },
          "xaxis": {
           "automargin": true,
           "gridcolor": "#EBF0F8",
           "linecolor": "#EBF0F8",
           "ticks": "",
           "title": {
            "standoff": 15
           },
           "zerolinecolor": "#EBF0F8",
           "zerolinewidth": 2
          },
          "yaxis": {
           "automargin": true,
           "gridcolor": "#EBF0F8",
           "linecolor": "#EBF0F8",
           "ticks": "",
           "title": {
            "standoff": 15
           },
           "zerolinecolor": "#EBF0F8",
           "zerolinewidth": 2
          }
         }
        },
        "title": {
         "font": {
          "size": 20
         },
         "text": "Imputing with Hourly Profile | MAE=0.121",
         "x": 0.5,
         "xanchor": "center",
         "yanchor": "top"
        },
        "width": 900,
        "xaxis": {
         "anchor": "y",
         "domain": [
          0,
          1
         ],
         "tickfont": {
          "size": 15
         },
         "title": {
          "font": {
           "size": 15
          },
          "text": "Day"
         }
        },
        "yaxis": {
         "anchor": "x",
         "domain": [
          0,
          1
         ],
         "tickfont": {
          "size": 15
         },
         "title": {
          "font": {
           "size": 15
          },
          "text": "Value"
         }
        }
       }
      }
     },
     "metadata": {},
     "output_type": "display_data"
    }
   ],
   "source": [
    "plot_df = pd.melt(ts_df.loc[window,['energy_consumption','hourly_profile_imputed']].reset_index(), id_vars='timestamp', var_name=\"series\")\n",
    "fig = px.line(plot_df, x=\"timestamp\", y=[\"value\"], line_dash=\"series\", title=f\"Imputing with Hourly Profile | MAE={mae:.3f}\")\n",
    "fig = format_plot(fig, ['Original', 'Hourly Profile Imputed'])\n",
    "fig.write_image(\"imgs/chapter_2/hourly_profile_imputation.png\")\n",
    "fig"
   ]
  },
  {
   "cell_type": "markdown",
   "id": "cbf63240-5dd5-443a-a17b-9e1c797b9bcc",
   "metadata": {},
   "source": [
    "#### Weekday-Hourly Profile"
   ]
  },
  {
   "cell_type": "code",
   "execution_count": 44,
   "id": "b0ee72a5-f571-47bf-9ba3-37af9311ac34",
   "metadata": {},
   "outputs": [],
   "source": [
    "#Create a column with the weekday from timestamp\n",
    "ts_df[\"weekday\"] = ts_df.index.weekday\n",
    "#Calculate weekday-hourly average consumption\n",
    "day_hourly_profile = ts_df.groupby(['weekday','hour'])['energy_consumption'].mean().reset_index()\n",
    "day_hourly_profile.rename(columns={\"energy_consumption\": \"day_hourly_profile\"}, inplace=True)\n",
    "#Saving the index because it gets lost in merge\n",
    "idx = ts_df.index\n",
    "#Merge the day-hourly profile dataframe to ts dataframe\n",
    "ts_df = ts_df.merge(day_hourly_profile, on=['weekday', 'hour'], how='left', validate=\"many_to_one\")\n",
    "ts_df.index = idx\n",
    "\n",
    "#Using the day-hourly profile to fill missing\n",
    "ts_df['day_hourly_profile_imputed'] = ts_df['energy_consumption_missing']\n",
    "ts_df.loc[null_mask,\"day_hourly_profile_imputed\"] = ts_df.loc[null_mask,\"day_hourly_profile\"]\n",
    "mae = mean_absolute_error(ts_df.loc[window, \"day_hourly_profile_imputed\"], ts_df.loc[window, \"energy_consumption\"])"
   ]
  },
  {
   "cell_type": "code",
   "execution_count": 45,
   "id": "a02f6202-d617-4f46-9831-2963d584db04",
   "metadata": {},
   "outputs": [
    {
     "data": {
      "application/vnd.plotly.v1+json": {
       "config": {
        "plotlyServerURL": "https://plot.ly"
       },
       "data": [
        {
         "hovertemplate": "variable=value<br>series=energy_consumption<br>timestamp=%{x}<br>_value=%{y}<extra></extra>",
         "legendgroup": "value, energy_consumption",
         "line": {
          "color": "#636efa",
          "dash": "solid"
         },
         "marker": {
          "symbol": "circle"
         },
         "mode": "lines",
         "name": "Original",
         "orientation": "v",
         "showlegend": true,
         "type": "scatter",
         "x": [
          "2012-10-07T00:00:00",
          "2012-10-07T00:30:00",
          "2012-10-07T01:00:00",
          "2012-10-07T01:30:00",
          "2012-10-07T02:00:00",
          "2012-10-07T02:30:00",
          "2012-10-07T03:00:00",
          "2012-10-07T03:30:00",
          "2012-10-07T04:00:00",
          "2012-10-07T04:30:00",
          "2012-10-07T05:00:00",
          "2012-10-07T05:30:00",
          "2012-10-07T06:00:00",
          "2012-10-07T06:30:00",
          "2012-10-07T07:00:00",
          "2012-10-07T07:30:00",
          "2012-10-07T08:00:00",
          "2012-10-07T08:30:00",
          "2012-10-07T09:00:00",
          "2012-10-07T09:30:00",
          "2012-10-07T10:00:00",
          "2012-10-07T10:30:00",
          "2012-10-07T11:00:00",
          "2012-10-07T11:30:00",
          "2012-10-07T12:00:00",
          "2012-10-07T12:30:00",
          "2012-10-07T13:00:00",
          "2012-10-07T13:30:00",
          "2012-10-07T14:00:00",
          "2012-10-07T14:30:00",
          "2012-10-07T15:00:00",
          "2012-10-07T15:30:00",
          "2012-10-07T16:00:00",
          "2012-10-07T16:30:00",
          "2012-10-07T17:00:00",
          "2012-10-07T17:30:00",
          "2012-10-07T18:00:00",
          "2012-10-07T18:30:00",
          "2012-10-07T19:00:00",
          "2012-10-07T19:30:00",
          "2012-10-07T20:00:00",
          "2012-10-07T20:30:00",
          "2012-10-07T21:00:00",
          "2012-10-07T21:30:00",
          "2012-10-07T22:00:00",
          "2012-10-07T22:30:00",
          "2012-10-07T23:00:00",
          "2012-10-07T23:30:00",
          "2012-10-08T00:00:00",
          "2012-10-08T00:30:00",
          "2012-10-08T01:00:00",
          "2012-10-08T01:30:00",
          "2012-10-08T02:00:00",
          "2012-10-08T02:30:00",
          "2012-10-08T03:00:00",
          "2012-10-08T03:30:00",
          "2012-10-08T04:00:00",
          "2012-10-08T04:30:00",
          "2012-10-08T05:00:00",
          "2012-10-08T05:30:00",
          "2012-10-08T06:00:00",
          "2012-10-08T06:30:00",
          "2012-10-08T07:00:00",
          "2012-10-08T07:30:00",
          "2012-10-08T08:00:00",
          "2012-10-08T08:30:00",
          "2012-10-08T09:00:00",
          "2012-10-08T09:30:00",
          "2012-10-08T10:00:00",
          "2012-10-08T10:30:00",
          "2012-10-08T11:00:00",
          "2012-10-08T11:30:00",
          "2012-10-08T12:00:00",
          "2012-10-08T12:30:00",
          "2012-10-08T13:00:00",
          "2012-10-08T13:30:00",
          "2012-10-08T14:00:00",
          "2012-10-08T14:30:00",
          "2012-10-08T15:00:00",
          "2012-10-08T15:30:00",
          "2012-10-08T16:00:00",
          "2012-10-08T16:30:00",
          "2012-10-08T17:00:00",
          "2012-10-08T17:30:00",
          "2012-10-08T18:00:00",
          "2012-10-08T18:30:00",
          "2012-10-08T19:00:00",
          "2012-10-08T19:30:00",
          "2012-10-08T20:00:00",
          "2012-10-08T20:30:00",
          "2012-10-08T21:00:00",
          "2012-10-08T21:30:00",
          "2012-10-08T22:00:00",
          "2012-10-08T22:30:00",
          "2012-10-08T23:00:00",
          "2012-10-08T23:30:00"
         ],
         "xaxis": "x",
         "y": {
          "bdata": "WmQ730+Nlz9q6SYxCKysPz/pJjEIrIw/WDm0yHa+nz97FK5H4XqkP7pJDAIrh5Y/yXa+nxovrT/6fmq8dJNoPxsv3SQGgaU/exSuR+F6pD8bL90kBoGVPwrXo3A9Cqc/uB6F61G4jj8rhxbZzvejP9Ei2/l+arw/YhBYObTItj8IrBxaZDuvP1pkO99Pjac/ObTIdr6fqj+0yHa+nxrPP8dLN4lBYPM/j8L1KFyP8D+amZmZmZnRP4LugQzTTfI/XI/C9Shc1z9mZmZmZmbmP6wcWmQ7388/TmIQWDm00D8730+Nl27SP2ZmZmZmZuI/iUFg5dAiyz8/NV66SQzSP/LSTWIQWNk/EFg5tMh2vj+q8dJNYhCoPzm0yHa+n9I/ppvEILBy0D83iUFg5dDSPz0K16NwPdI/7FG4HoXr0T8xCKwcWmTTP6AaL90kBtE/hetRuB6F0z81XrpJDALTP5HtfD81Xto/0XjpJjEIzD9q6SYxCKysPzvfT42XbqI/nMQgsHJooT/b+X5qvHSjP7pJDAIrh4Y/6SYxCKwcqj9aZDvfT42XPylcj8L1KKw/O99PjZdugj+LbOf7qfGiP+xRuB6F66E/O99PjZduoj+LbOf7qfGiP3sUrkfheoQ/iUFg5dAiqz9aZDvfT42XP0jhehSuR9E/0XjpJjEIzD9QjZduEoPQPylcj8L1KOw/jGzn+6nx5j8AAAAAAADQPyPb+X5qvNQ/H4XrUbge4T/sUbgehevRP9NNYhBYOdQ/kxgEVg4t6j+amZmZmZnlP9Ei2/l+atQ/CgRWDi2yrT9oke18PzWuP/p+arx0k9A/xSCwcmiR1T+JQWDl0CLLPxBYObTIds4/jZduEoPAyj+4HoXrUbjOP8P1KFyPwsU/LbKd76fG5z9pke18PzXqPxsv3SQGgdU/kxgEVg4t0j83iUFg5dDSP0Bg5dAi29E//tR46SYx0D+BlUOLbOfTPwwCK4cW2dY/cukmMQisvD/8qfHSTWKQPzm0yHa+n5o/",
          "dtype": "f8"
         },
         "yaxis": "y"
        },
        {
         "hovertemplate": "variable=value<br>series=day_hourly_profile_imputed<br>timestamp=%{x}<br>_value=%{y}<extra></extra>",
         "legendgroup": "value, day_hourly_profile_imputed",
         "line": {
          "color": "#636efa",
          "dash": "dot"
         },
         "marker": {
          "symbol": "circle"
         },
         "mode": "lines",
         "name": "Week Day-Hourly Profile Imputed",
         "orientation": "v",
         "showlegend": true,
         "type": "scatter",
         "x": [
          "2012-10-07T00:00:00",
          "2012-10-07T00:30:00",
          "2012-10-07T01:00:00",
          "2012-10-07T01:30:00",
          "2012-10-07T02:00:00",
          "2012-10-07T02:30:00",
          "2012-10-07T03:00:00",
          "2012-10-07T03:30:00",
          "2012-10-07T04:00:00",
          "2012-10-07T04:30:00",
          "2012-10-07T05:00:00",
          "2012-10-07T05:30:00",
          "2012-10-07T06:00:00",
          "2012-10-07T06:30:00",
          "2012-10-07T07:00:00",
          "2012-10-07T07:30:00",
          "2012-10-07T08:00:00",
          "2012-10-07T08:30:00",
          "2012-10-07T09:00:00",
          "2012-10-07T09:30:00",
          "2012-10-07T10:00:00",
          "2012-10-07T10:30:00",
          "2012-10-07T11:00:00",
          "2012-10-07T11:30:00",
          "2012-10-07T12:00:00",
          "2012-10-07T12:30:00",
          "2012-10-07T13:00:00",
          "2012-10-07T13:30:00",
          "2012-10-07T14:00:00",
          "2012-10-07T14:30:00",
          "2012-10-07T15:00:00",
          "2012-10-07T15:30:00",
          "2012-10-07T16:00:00",
          "2012-10-07T16:30:00",
          "2012-10-07T17:00:00",
          "2012-10-07T17:30:00",
          "2012-10-07T18:00:00",
          "2012-10-07T18:30:00",
          "2012-10-07T19:00:00",
          "2012-10-07T19:30:00",
          "2012-10-07T20:00:00",
          "2012-10-07T20:30:00",
          "2012-10-07T21:00:00",
          "2012-10-07T21:30:00",
          "2012-10-07T22:00:00",
          "2012-10-07T22:30:00",
          "2012-10-07T23:00:00",
          "2012-10-07T23:30:00",
          "2012-10-08T00:00:00",
          "2012-10-08T00:30:00",
          "2012-10-08T01:00:00",
          "2012-10-08T01:30:00",
          "2012-10-08T02:00:00",
          "2012-10-08T02:30:00",
          "2012-10-08T03:00:00",
          "2012-10-08T03:30:00",
          "2012-10-08T04:00:00",
          "2012-10-08T04:30:00",
          "2012-10-08T05:00:00",
          "2012-10-08T05:30:00",
          "2012-10-08T06:00:00",
          "2012-10-08T06:30:00",
          "2012-10-08T07:00:00",
          "2012-10-08T07:30:00",
          "2012-10-08T08:00:00",
          "2012-10-08T08:30:00",
          "2012-10-08T09:00:00",
          "2012-10-08T09:30:00",
          "2012-10-08T10:00:00",
          "2012-10-08T10:30:00",
          "2012-10-08T11:00:00",
          "2012-10-08T11:30:00",
          "2012-10-08T12:00:00",
          "2012-10-08T12:30:00",
          "2012-10-08T13:00:00",
          "2012-10-08T13:30:00",
          "2012-10-08T14:00:00",
          "2012-10-08T14:30:00",
          "2012-10-08T15:00:00",
          "2012-10-08T15:30:00",
          "2012-10-08T16:00:00",
          "2012-10-08T16:30:00",
          "2012-10-08T17:00:00",
          "2012-10-08T17:30:00",
          "2012-10-08T18:00:00",
          "2012-10-08T18:30:00",
          "2012-10-08T19:00:00",
          "2012-10-08T19:30:00",
          "2012-10-08T20:00:00",
          "2012-10-08T20:30:00",
          "2012-10-08T21:00:00",
          "2012-10-08T21:30:00",
          "2012-10-08T22:00:00",
          "2012-10-08T22:30:00",
          "2012-10-08T23:00:00",
          "2012-10-08T23:30:00"
         ],
         "xaxis": "x",
         "y": {
          "bdata": "AIhwGy5QuD8AiHAbLlC4P1bNdhlvBqE/Vs12GW8GoT80gJbQFxahPzSAltAXFqE/KaTW0Z75nz8ppNbRnvmfP0NcsZ58NKA/Q1yxnnw0oD9pRXI78L2gP2lFcjvwvaA/4xb1AWR6qz/jFvUBZHqrPwGqEOGJaLg/AaoQ4YlouD/jgeHlccTNP+OB4eVxxM0/TbNYN9i+2j9Ns1g32L7aP8X8V7Php+U/xfxXs+Gn5T87bqdfaCXiPztup19oJeI/MpZ2YoGx3j8ylnZigbHeP/vt+NBQCeQ/++340FAJ5D+C6Y3f8zDhP4Lpjd/zMOE/Ope5jQIf1T86l7mNAh/VPykCr4LF5s8/KQKvgsXmzz8zI7Qb/5TPPzMjtBv/lM8/ho/1P3Nt0T+Gj/U/c23RP6haDoiBidE/qFoOiIGJ0T+tPBzS8x/RP608HNLzH9E/aclTVYxl0T9pyVNVjGXRP2FauWGwbM8/YVq5YbBszz+SI2ffBrnLP5IjZ98Gucs/qeWAGJgYrz+p5YAYmBivP5zjVZGBP6A/nONVkYE/oD/9mvj3hi2gP/2a+PeGLaA/UAHzID6Mnj9QAfMgPoyeP3S0Z/63uKA/dLRn/re4oD/afNP3rrKhP9p80/eusqE/KFyPwvUorD8oXI/C9SisP4c4tVUDaLk/hzi1VQNouT8nnjQH9n3SPyeeNAf2fdI/GIQddZs23z8YhB11mzbfP5k5ED+E2+A/mTkQP4Tb4D/gXx/e3jPWP+BfH97eM9Y/CZTH37vK0j8JlMffu8rSP1w0QvoSLdU/XDRC+hIt1T84sIhlGHbUPziwiGUYdtQ/M5SrORpdyz8zlKs5Gl3LP/Ke2Kp90so/8p7Yqn3Syj/+DWxOHcvNP/4NbE4dy80/zLZCe4uw1z/MtkJ7i7DXP3D+vEe02dw/cP68R7TZ3D8FKOBw3JHUPwUo4HDckdQ/SIUenAIw0z9IhR6cAjDTPyzEmD9XOtE/LMSYP1c60T+z7Gxe/gHKP7PsbF7+Aco/",
          "dtype": "f8"
         },
         "yaxis": "y"
        }
       ],
       "layout": {
        "autosize": false,
        "height": 500,
        "legend": {
         "font": {
          "size": 15
         },
         "orientation": "h",
         "title": {},
         "tracegroupgap": 0,
         "x": 1,
         "xanchor": "right",
         "y": 0.98,
         "yanchor": "bottom"
        },
        "template": {
         "data": {
          "bar": [
           {
            "error_x": {
             "color": "#2a3f5f"
            },
            "error_y": {
             "color": "#2a3f5f"
            },
            "marker": {
             "line": {
              "color": "white",
              "width": 0.5
             },
             "pattern": {
              "fillmode": "overlay",
              "size": 10,
              "solidity": 0.2
             }
            },
            "type": "bar"
           }
          ],
          "barpolar": [
           {
            "marker": {
             "line": {
              "color": "white",
              "width": 0.5
             },
             "pattern": {
              "fillmode": "overlay",
              "size": 10,
              "solidity": 0.2
             }
            },
            "type": "barpolar"
           }
          ],
          "carpet": [
           {
            "aaxis": {
             "endlinecolor": "#2a3f5f",
             "gridcolor": "#C8D4E3",
             "linecolor": "#C8D4E3",
             "minorgridcolor": "#C8D4E3",
             "startlinecolor": "#2a3f5f"
            },
            "baxis": {
             "endlinecolor": "#2a3f5f",
             "gridcolor": "#C8D4E3",
             "linecolor": "#C8D4E3",
             "minorgridcolor": "#C8D4E3",
             "startlinecolor": "#2a3f5f"
            },
            "type": "carpet"
           }
          ],
          "choropleth": [
           {
            "colorbar": {
             "outlinewidth": 0,
             "ticks": ""
            },
            "type": "choropleth"
           }
          ],
          "contour": [
           {
            "colorbar": {
             "outlinewidth": 0,
             "ticks": ""
            },
            "colorscale": [
             [
              0,
              "#0d0887"
             ],
             [
              0.1111111111111111,
              "#46039f"
             ],
             [
              0.2222222222222222,
              "#7201a8"
             ],
             [
              0.3333333333333333,
              "#9c179e"
             ],
             [
              0.4444444444444444,
              "#bd3786"
             ],
             [
              0.5555555555555556,
              "#d8576b"
             ],
             [
              0.6666666666666666,
              "#ed7953"
             ],
             [
              0.7777777777777778,
              "#fb9f3a"
             ],
             [
              0.8888888888888888,
              "#fdca26"
             ],
             [
              1,
              "#f0f921"
             ]
            ],
            "type": "contour"
           }
          ],
          "contourcarpet": [
           {
            "colorbar": {
             "outlinewidth": 0,
             "ticks": ""
            },
            "type": "contourcarpet"
           }
          ],
          "heatmap": [
           {
            "colorbar": {
             "outlinewidth": 0,
             "ticks": ""
            },
            "colorscale": [
             [
              0,
              "#0d0887"
             ],
             [
              0.1111111111111111,
              "#46039f"
             ],
             [
              0.2222222222222222,
              "#7201a8"
             ],
             [
              0.3333333333333333,
              "#9c179e"
             ],
             [
              0.4444444444444444,
              "#bd3786"
             ],
             [
              0.5555555555555556,
              "#d8576b"
             ],
             [
              0.6666666666666666,
              "#ed7953"
             ],
             [
              0.7777777777777778,
              "#fb9f3a"
             ],
             [
              0.8888888888888888,
              "#fdca26"
             ],
             [
              1,
              "#f0f921"
             ]
            ],
            "type": "heatmap"
           }
          ],
          "histogram": [
           {
            "marker": {
             "pattern": {
              "fillmode": "overlay",
              "size": 10,
              "solidity": 0.2
             }
            },
            "type": "histogram"
           }
          ],
          "histogram2d": [
           {
            "colorbar": {
             "outlinewidth": 0,
             "ticks": ""
            },
            "colorscale": [
             [
              0,
              "#0d0887"
             ],
             [
              0.1111111111111111,
              "#46039f"
             ],
             [
              0.2222222222222222,
              "#7201a8"
             ],
             [
              0.3333333333333333,
              "#9c179e"
             ],
             [
              0.4444444444444444,
              "#bd3786"
             ],
             [
              0.5555555555555556,
              "#d8576b"
             ],
             [
              0.6666666666666666,
              "#ed7953"
             ],
             [
              0.7777777777777778,
              "#fb9f3a"
             ],
             [
              0.8888888888888888,
              "#fdca26"
             ],
             [
              1,
              "#f0f921"
             ]
            ],
            "type": "histogram2d"
           }
          ],
          "histogram2dcontour": [
           {
            "colorbar": {
             "outlinewidth": 0,
             "ticks": ""
            },
            "colorscale": [
             [
              0,
              "#0d0887"
             ],
             [
              0.1111111111111111,
              "#46039f"
             ],
             [
              0.2222222222222222,
              "#7201a8"
             ],
             [
              0.3333333333333333,
              "#9c179e"
             ],
             [
              0.4444444444444444,
              "#bd3786"
             ],
             [
              0.5555555555555556,
              "#d8576b"
             ],
             [
              0.6666666666666666,
              "#ed7953"
             ],
             [
              0.7777777777777778,
              "#fb9f3a"
             ],
             [
              0.8888888888888888,
              "#fdca26"
             ],
             [
              1,
              "#f0f921"
             ]
            ],
            "type": "histogram2dcontour"
           }
          ],
          "mesh3d": [
           {
            "colorbar": {
             "outlinewidth": 0,
             "ticks": ""
            },
            "type": "mesh3d"
           }
          ],
          "parcoords": [
           {
            "line": {
             "colorbar": {
              "outlinewidth": 0,
              "ticks": ""
             }
            },
            "type": "parcoords"
           }
          ],
          "pie": [
           {
            "automargin": true,
            "type": "pie"
           }
          ],
          "scatter": [
           {
            "fillpattern": {
             "fillmode": "overlay",
             "size": 10,
             "solidity": 0.2
            },
            "type": "scatter"
           }
          ],
          "scatter3d": [
           {
            "line": {
             "colorbar": {
              "outlinewidth": 0,
              "ticks": ""
             }
            },
            "marker": {
             "colorbar": {
              "outlinewidth": 0,
              "ticks": ""
             }
            },
            "type": "scatter3d"
           }
          ],
          "scattercarpet": [
           {
            "marker": {
             "colorbar": {
              "outlinewidth": 0,
              "ticks": ""
             }
            },
            "type": "scattercarpet"
           }
          ],
          "scattergeo": [
           {
            "marker": {
             "colorbar": {
              "outlinewidth": 0,
              "ticks": ""
             }
            },
            "type": "scattergeo"
           }
          ],
          "scattergl": [
           {
            "marker": {
             "colorbar": {
              "outlinewidth": 0,
              "ticks": ""
             }
            },
            "type": "scattergl"
           }
          ],
          "scattermap": [
           {
            "marker": {
             "colorbar": {
              "outlinewidth": 0,
              "ticks": ""
             }
            },
            "type": "scattermap"
           }
          ],
          "scattermapbox": [
           {
            "marker": {
             "colorbar": {
              "outlinewidth": 0,
              "ticks": ""
             }
            },
            "type": "scattermapbox"
           }
          ],
          "scatterpolar": [
           {
            "marker": {
             "colorbar": {
              "outlinewidth": 0,
              "ticks": ""
             }
            },
            "type": "scatterpolar"
           }
          ],
          "scatterpolargl": [
           {
            "marker": {
             "colorbar": {
              "outlinewidth": 0,
              "ticks": ""
             }
            },
            "type": "scatterpolargl"
           }
          ],
          "scatterternary": [
           {
            "marker": {
             "colorbar": {
              "outlinewidth": 0,
              "ticks": ""
             }
            },
            "type": "scatterternary"
           }
          ],
          "surface": [
           {
            "colorbar": {
             "outlinewidth": 0,
             "ticks": ""
            },
            "colorscale": [
             [
              0,
              "#0d0887"
             ],
             [
              0.1111111111111111,
              "#46039f"
             ],
             [
              0.2222222222222222,
              "#7201a8"
             ],
             [
              0.3333333333333333,
              "#9c179e"
             ],
             [
              0.4444444444444444,
              "#bd3786"
             ],
             [
              0.5555555555555556,
              "#d8576b"
             ],
             [
              0.6666666666666666,
              "#ed7953"
             ],
             [
              0.7777777777777778,
              "#fb9f3a"
             ],
             [
              0.8888888888888888,
              "#fdca26"
             ],
             [
              1,
              "#f0f921"
             ]
            ],
            "type": "surface"
           }
          ],
          "table": [
           {
            "cells": {
             "fill": {
              "color": "#EBF0F8"
             },
             "line": {
              "color": "white"
             }
            },
            "header": {
             "fill": {
              "color": "#C8D4E3"
             },
             "line": {
              "color": "white"
             }
            },
            "type": "table"
           }
          ]
         },
         "layout": {
          "annotationdefaults": {
           "arrowcolor": "#2a3f5f",
           "arrowhead": 0,
           "arrowwidth": 1
          },
          "autotypenumbers": "strict",
          "coloraxis": {
           "colorbar": {
            "outlinewidth": 0,
            "ticks": ""
           }
          },
          "colorscale": {
           "diverging": [
            [
             0,
             "#8e0152"
            ],
            [
             0.1,
             "#c51b7d"
            ],
            [
             0.2,
             "#de77ae"
            ],
            [
             0.3,
             "#f1b6da"
            ],
            [
             0.4,
             "#fde0ef"
            ],
            [
             0.5,
             "#f7f7f7"
            ],
            [
             0.6,
             "#e6f5d0"
            ],
            [
             0.7,
             "#b8e186"
            ],
            [
             0.8,
             "#7fbc41"
            ],
            [
             0.9,
             "#4d9221"
            ],
            [
             1,
             "#276419"
            ]
           ],
           "sequential": [
            [
             0,
             "#0d0887"
            ],
            [
             0.1111111111111111,
             "#46039f"
            ],
            [
             0.2222222222222222,
             "#7201a8"
            ],
            [
             0.3333333333333333,
             "#9c179e"
            ],
            [
             0.4444444444444444,
             "#bd3786"
            ],
            [
             0.5555555555555556,
             "#d8576b"
            ],
            [
             0.6666666666666666,
             "#ed7953"
            ],
            [
             0.7777777777777778,
             "#fb9f3a"
            ],
            [
             0.8888888888888888,
             "#fdca26"
            ],
            [
             1,
             "#f0f921"
            ]
           ],
           "sequentialminus": [
            [
             0,
             "#0d0887"
            ],
            [
             0.1111111111111111,
             "#46039f"
            ],
            [
             0.2222222222222222,
             "#7201a8"
            ],
            [
             0.3333333333333333,
             "#9c179e"
            ],
            [
             0.4444444444444444,
             "#bd3786"
            ],
            [
             0.5555555555555556,
             "#d8576b"
            ],
            [
             0.6666666666666666,
             "#ed7953"
            ],
            [
             0.7777777777777778,
             "#fb9f3a"
            ],
            [
             0.8888888888888888,
             "#fdca26"
            ],
            [
             1,
             "#f0f921"
            ]
           ]
          },
          "colorway": [
           "#636efa",
           "#EF553B",
           "#00cc96",
           "#ab63fa",
           "#FFA15A",
           "#19d3f3",
           "#FF6692",
           "#B6E880",
           "#FF97FF",
           "#FECB52"
          ],
          "font": {
           "color": "#2a3f5f"
          },
          "geo": {
           "bgcolor": "white",
           "lakecolor": "white",
           "landcolor": "white",
           "showlakes": true,
           "showland": true,
           "subunitcolor": "#C8D4E3"
          },
          "hoverlabel": {
           "align": "left"
          },
          "hovermode": "closest",
          "mapbox": {
           "style": "light"
          },
          "paper_bgcolor": "white",
          "plot_bgcolor": "white",
          "polar": {
           "angularaxis": {
            "gridcolor": "#EBF0F8",
            "linecolor": "#EBF0F8",
            "ticks": ""
           },
           "bgcolor": "white",
           "radialaxis": {
            "gridcolor": "#EBF0F8",
            "linecolor": "#EBF0F8",
            "ticks": ""
           }
          },
          "scene": {
           "xaxis": {
            "backgroundcolor": "white",
            "gridcolor": "#DFE8F3",
            "gridwidth": 2,
            "linecolor": "#EBF0F8",
            "showbackground": true,
            "ticks": "",
            "zerolinecolor": "#EBF0F8"
           },
           "yaxis": {
            "backgroundcolor": "white",
            "gridcolor": "#DFE8F3",
            "gridwidth": 2,
            "linecolor": "#EBF0F8",
            "showbackground": true,
            "ticks": "",
            "zerolinecolor": "#EBF0F8"
           },
           "zaxis": {
            "backgroundcolor": "white",
            "gridcolor": "#DFE8F3",
            "gridwidth": 2,
            "linecolor": "#EBF0F8",
            "showbackground": true,
            "ticks": "",
            "zerolinecolor": "#EBF0F8"
           }
          },
          "shapedefaults": {
           "line": {
            "color": "#2a3f5f"
           }
          },
          "ternary": {
           "aaxis": {
            "gridcolor": "#DFE8F3",
            "linecolor": "#A2B1C6",
            "ticks": ""
           },
           "baxis": {
            "gridcolor": "#DFE8F3",
            "linecolor": "#A2B1C6",
            "ticks": ""
           },
           "bgcolor": "white",
           "caxis": {
            "gridcolor": "#DFE8F3",
            "linecolor": "#A2B1C6",
            "ticks": ""
           }
          },
          "title": {
           "x": 0.05
          },
          "xaxis": {
           "automargin": true,
           "gridcolor": "#EBF0F8",
           "linecolor": "#EBF0F8",
           "ticks": "",
           "title": {
            "standoff": 15
           },
           "zerolinecolor": "#EBF0F8",
           "zerolinewidth": 2
          },
          "yaxis": {
           "automargin": true,
           "gridcolor": "#EBF0F8",
           "linecolor": "#EBF0F8",
           "ticks": "",
           "title": {
            "standoff": 15
           },
           "zerolinecolor": "#EBF0F8",
           "zerolinewidth": 2
          }
         }
        },
        "title": {
         "font": {
          "size": 20
         },
         "text": "Imputing with Week Day-Hourly Profile | MAE=0.117",
         "x": 0.5,
         "xanchor": "center",
         "yanchor": "top"
        },
        "width": 900,
        "xaxis": {
         "anchor": "y",
         "domain": [
          0,
          1
         ],
         "tickfont": {
          "size": 15
         },
         "title": {
          "font": {
           "size": 15
          },
          "text": "Day"
         }
        },
        "yaxis": {
         "anchor": "x",
         "domain": [
          0,
          1
         ],
         "tickfont": {
          "size": 15
         },
         "title": {
          "font": {
           "size": 15
          },
          "text": "Value"
         }
        }
       }
      }
     },
     "metadata": {},
     "output_type": "display_data"
    }
   ],
   "source": [
    "plot_df = pd.melt(ts_df.loc[window,['energy_consumption','day_hourly_profile_imputed']].reset_index(), id_vars='timestamp', var_name=\"series\")\n",
    "fig = px.line(plot_df, x=\"timestamp\", y=[\"value\"], line_dash=\"series\", title=f\"Imputing with Week Day-Hourly Profile | MAE={mae:.3f}\")\n",
    "fig = format_plot(fig, ['Original', 'Week Day-Hourly Profile Imputed'])\n",
    "fig.write_image(\"imgs/chapter_2/day_hourly_profile_imputation.png\")\n",
    "fig"
   ]
  },
  {
   "cell_type": "code",
   "execution_count": 46,
   "id": "f278d0ce-1483-4ad3-b80f-38eda2e9dbbc",
   "metadata": {},
   "outputs": [
    {
     "data": {
      "application/vnd.plotly.v1+json": {
       "config": {
        "plotlyServerURL": "https://plot.ly"
       },
       "data": [
        {
         "hovertemplate": "weekday=0<br>timestamp=%{x}<br>day_hourly_profile=%{y}<extra></extra>",
         "legendgroup": "0",
         "line": {
          "color": "#636efa",
          "dash": "solid"
         },
         "marker": {
          "symbol": "circle"
         },
         "mode": "lines",
         "name": "0",
         "orientation": "v",
         "showlegend": true,
         "type": "scatter",
         "x": [
          "2012-10-15T00:00:00",
          "2012-10-15T00:30:00",
          "2012-10-15T01:00:00",
          "2012-10-15T01:30:00",
          "2012-10-15T02:00:00",
          "2012-10-15T02:30:00",
          "2012-10-15T03:00:00",
          "2012-10-15T03:30:00",
          "2012-10-15T04:00:00",
          "2012-10-15T04:30:00",
          "2012-10-15T05:00:00",
          "2012-10-15T05:30:00",
          "2012-10-15T06:00:00",
          "2012-10-15T06:30:00",
          "2012-10-15T07:00:00",
          "2012-10-15T07:30:00",
          "2012-10-15T08:00:00",
          "2012-10-15T08:30:00",
          "2012-10-15T09:00:00",
          "2012-10-15T09:30:00",
          "2012-10-15T10:00:00",
          "2012-10-15T10:30:00",
          "2012-10-15T11:00:00",
          "2012-10-15T11:30:00",
          "2012-10-15T12:00:00",
          "2012-10-15T12:30:00",
          "2012-10-15T13:00:00",
          "2012-10-15T13:30:00",
          "2012-10-15T14:00:00",
          "2012-10-15T14:30:00",
          "2012-10-15T15:00:00",
          "2012-10-15T15:30:00",
          "2012-10-15T16:00:00",
          "2012-10-15T16:30:00",
          "2012-10-15T17:00:00",
          "2012-10-15T17:30:00",
          "2012-10-15T18:00:00",
          "2012-10-15T18:30:00",
          "2012-10-15T19:00:00",
          "2012-10-15T19:30:00",
          "2012-10-15T20:00:00",
          "2012-10-15T20:30:00",
          "2012-10-15T21:00:00",
          "2012-10-15T21:30:00",
          "2012-10-15T22:00:00",
          "2012-10-15T22:30:00",
          "2012-10-15T23:00:00",
          "2012-10-15T23:30:00"
         ],
         "xaxis": "x",
         "y": {
          "bdata": "qeWAGJgYrz+p5YAYmBivP5zjVZGBP6A/nONVkYE/oD/9mvj3hi2gP/2a+PeGLaA/UAHzID6Mnj9QAfMgPoyeP3S0Z/63uKA/dLRn/re4oD/afNP3rrKhP9p80/eusqE/KFyPwvUorD8oXI/C9SisP4c4tVUDaLk/hzi1VQNouT8nnjQH9n3SPyeeNAf2fdI/GIQddZs23z8YhB11mzbfP5k5ED+E2+A/mTkQP4Tb4D/gXx/e3jPWP+BfH97eM9Y/CZTH37vK0j8JlMffu8rSP1w0QvoSLdU/XDRC+hIt1T84sIhlGHbUPziwiGUYdtQ/M5SrORpdyz8zlKs5Gl3LP/Ke2Kp90so/8p7Yqn3Syj/+DWxOHcvNP/4NbE4dy80/zLZCe4uw1z/MtkJ7i7DXP3D+vEe02dw/cP68R7TZ3D8FKOBw3JHUPwUo4HDckdQ/SIUenAIw0z9IhR6cAjDTPyzEmD9XOtE/LMSYP1c60T+z7Gxe/gHKP7PsbF7+Aco/",
          "dtype": "f8"
         },
         "yaxis": "y"
        },
        {
         "hovertemplate": "weekday=1<br>timestamp=%{x}<br>day_hourly_profile=%{y}<extra></extra>",
         "legendgroup": "1",
         "line": {
          "color": "#EF553B",
          "dash": "solid"
         },
         "marker": {
          "symbol": "circle"
         },
         "mode": "lines",
         "name": "1",
         "orientation": "v",
         "showlegend": true,
         "type": "scatter",
         "x": [
          "2012-10-16T00:00:00",
          "2012-10-16T00:30:00",
          "2012-10-16T01:00:00",
          "2012-10-16T01:30:00",
          "2012-10-16T02:00:00",
          "2012-10-16T02:30:00",
          "2012-10-16T03:00:00",
          "2012-10-16T03:30:00",
          "2012-10-16T04:00:00",
          "2012-10-16T04:30:00",
          "2012-10-16T05:00:00",
          "2012-10-16T05:30:00",
          "2012-10-16T06:00:00",
          "2012-10-16T06:30:00",
          "2012-10-16T07:00:00",
          "2012-10-16T07:30:00",
          "2012-10-16T08:00:00",
          "2012-10-16T08:30:00",
          "2012-10-16T09:00:00",
          "2012-10-16T09:30:00",
          "2012-10-16T10:00:00",
          "2012-10-16T10:30:00",
          "2012-10-16T11:00:00",
          "2012-10-16T11:30:00",
          "2012-10-16T12:00:00",
          "2012-10-16T12:30:00",
          "2012-10-16T13:00:00",
          "2012-10-16T13:30:00",
          "2012-10-16T14:00:00",
          "2012-10-16T14:30:00",
          "2012-10-16T15:00:00",
          "2012-10-16T15:30:00",
          "2012-10-16T16:00:00",
          "2012-10-16T16:30:00",
          "2012-10-16T17:00:00",
          "2012-10-16T17:30:00",
          "2012-10-16T18:00:00",
          "2012-10-16T18:30:00",
          "2012-10-16T19:00:00",
          "2012-10-16T19:30:00",
          "2012-10-16T20:00:00",
          "2012-10-16T20:30:00",
          "2012-10-16T21:00:00",
          "2012-10-16T21:30:00",
          "2012-10-16T22:00:00",
          "2012-10-16T22:30:00",
          "2012-10-16T23:00:00",
          "2012-10-16T23:30:00"
         ],
         "xaxis": "x",
         "y": {
          "bdata": "aR56JqmXsD9pHnomqZewP6NwPQrXo6A/o3A9CtejoD/5WwGpvxWgP/lbAam/FaA/+cAIsTjonz/5wAixOOifP79XLu8fVqA/v1cu7x9WoD86NHZetKChPzo0dl60oKE/eimrDHktrz96KasMeS2vPxiXx5MrjMI/GJfHkyuMwj8ovLb94uTXPyi8tv3i5Nc/7f6kFn+M4D/t/qQWf4zgP/k3hRnh7OQ/+TeFGeHs5D8a3oEWK/PbPxregRYr89s/B53Ir7EE1T8HncivsQTVP9VtJH4QetU/1W0kfhB61T8LUjXK9/jTPwtSNcr3+NM/XqMyLhelzz9eozIuF6XPP+Cv2jDU1M0/4K/aMNTUzT9BOZ7L7zXQP0E5nsvvNdA/T7YLvNR+2j9Ptgu81H7aPxbyYQ66Pts/FvJhDro+2z9SDtLise3VP1IO0uKx7dU/bYwsvu8k0j9tjCy+7yTSP4D9okj2d9E/gP2iSPZ30T+zQSYZOQvLP7NBJhk5C8s/",
          "dtype": "f8"
         },
         "yaxis": "y"
        },
        {
         "hovertemplate": "weekday=2<br>timestamp=%{x}<br>day_hourly_profile=%{y}<extra></extra>",
         "legendgroup": "2",
         "line": {
          "color": "#00cc96",
          "dash": "solid"
         },
         "marker": {
          "symbol": "circle"
         },
         "mode": "lines",
         "name": "2",
         "orientation": "v",
         "showlegend": true,
         "type": "scatter",
         "x": [
          "2012-10-17T00:00:00",
          "2012-10-17T00:30:00",
          "2012-10-17T01:00:00",
          "2012-10-17T01:30:00",
          "2012-10-17T02:00:00",
          "2012-10-17T02:30:00",
          "2012-10-17T03:00:00",
          "2012-10-17T03:30:00",
          "2012-10-17T04:00:00",
          "2012-10-17T04:30:00",
          "2012-10-17T05:00:00",
          "2012-10-17T05:30:00",
          "2012-10-17T06:00:00",
          "2012-10-17T06:30:00",
          "2012-10-17T07:00:00",
          "2012-10-17T07:30:00",
          "2012-10-17T08:00:00",
          "2012-10-17T08:30:00",
          "2012-10-17T09:00:00",
          "2012-10-17T09:30:00",
          "2012-10-17T10:00:00",
          "2012-10-17T10:30:00",
          "2012-10-17T11:00:00",
          "2012-10-17T11:30:00",
          "2012-10-17T12:00:00",
          "2012-10-17T12:30:00",
          "2012-10-17T13:00:00",
          "2012-10-17T13:30:00",
          "2012-10-17T14:00:00",
          "2012-10-17T14:30:00",
          "2012-10-17T15:00:00",
          "2012-10-17T15:30:00",
          "2012-10-17T16:00:00",
          "2012-10-17T16:30:00",
          "2012-10-17T17:00:00",
          "2012-10-17T17:30:00",
          "2012-10-17T18:00:00",
          "2012-10-17T18:30:00",
          "2012-10-17T19:00:00",
          "2012-10-17T19:30:00",
          "2012-10-17T20:00:00",
          "2012-10-17T20:30:00",
          "2012-10-17T21:00:00",
          "2012-10-17T21:30:00",
          "2012-10-17T22:00:00",
          "2012-10-17T22:30:00",
          "2012-10-17T23:00:00",
          "2012-10-17T23:30:00"
         ],
         "xaxis": "x",
         "y": {
          "bdata": "tg8xQZ+BsD+2DzFBn4GwPwIngJLnLqQ/AieAkucupD/T9iEm6DOgP9P2ISboM6A/wVD4R5FwoT/BUPhHkXChPymNv/Ozc6A/KY2/87NzoD+licnQAP+iP6WJydAA/6I/MLOFSz0yrD8ws4VLPTKsPwl81IQ7XLs/CXzUhDtcuz8HGPjpQ/HQPwcY+OlD8dA/49HrKFPk3j/j0esoU+TeP+n2sTPveuE/6faxM+964T9nZdnZvPzfP2dl2dm8/N8/Tjo8xlyl2D9OOjzGXKXYP9TFtTN67dU/1MW1M3rt1T8VMA/iw+jRPxUwD+LD6NE/6K8usIPWzD/ory6wg9bMPyXMAKSjh8w/JcwApKOHzD88LY+nETrQPzwtj6cROtA/cJjZwqUe2T9wmNnCpR7ZP5y3Qe7+Bto/nLdB7v4G2j9CgsFXLu/TP0KCwVcu79M/8Tji9jKU0z/xOOL2MpTTP/y/eySPftE//L97JI9+0T/I1bpthoPLP8jVum2Gg8s/",
          "dtype": "f8"
         },
         "yaxis": "y"
        },
        {
         "hovertemplate": "weekday=3<br>timestamp=%{x}<br>day_hourly_profile=%{y}<extra></extra>",
         "legendgroup": "3",
         "line": {
          "color": "#ab63fa",
          "dash": "solid"
         },
         "marker": {
          "symbol": "circle"
         },
         "mode": "lines",
         "name": "3",
         "orientation": "v",
         "showlegend": true,
         "type": "scatter",
         "x": [
          "2012-10-18T00:00:00",
          "2012-10-18T00:30:00",
          "2012-10-18T01:00:00",
          "2012-10-18T01:30:00",
          "2012-10-18T02:00:00",
          "2012-10-18T02:30:00",
          "2012-10-18T03:00:00",
          "2012-10-18T03:30:00",
          "2012-10-18T04:00:00",
          "2012-10-18T04:30:00",
          "2012-10-18T05:00:00",
          "2012-10-18T05:30:00",
          "2012-10-18T06:00:00",
          "2012-10-18T06:30:00",
          "2012-10-18T07:00:00",
          "2012-10-18T07:30:00",
          "2012-10-18T08:00:00",
          "2012-10-18T08:30:00",
          "2012-10-18T09:00:00",
          "2012-10-18T09:30:00",
          "2012-10-18T10:00:00",
          "2012-10-18T10:30:00",
          "2012-10-18T11:00:00",
          "2012-10-18T11:30:00",
          "2012-10-18T12:00:00",
          "2012-10-18T12:30:00",
          "2012-10-18T13:00:00",
          "2012-10-18T13:30:00",
          "2012-10-18T14:00:00",
          "2012-10-18T14:30:00",
          "2012-10-18T15:00:00",
          "2012-10-18T15:30:00",
          "2012-10-18T16:00:00",
          "2012-10-18T16:30:00",
          "2012-10-18T17:00:00",
          "2012-10-18T17:30:00",
          "2012-10-18T18:00:00",
          "2012-10-18T18:30:00",
          "2012-10-18T19:00:00",
          "2012-10-18T19:30:00",
          "2012-10-18T20:00:00",
          "2012-10-18T20:30:00",
          "2012-10-18T21:00:00",
          "2012-10-18T21:30:00",
          "2012-10-18T22:00:00",
          "2012-10-18T22:30:00",
          "2012-10-18T23:00:00",
          "2012-10-18T23:30:00"
         ],
         "xaxis": "x",
         "y": {
          "bdata": "TWIQWDm0sD9NYhBYObSwP2vn+6nx0qE/a+f7qfHSoT8B6HWH08ehPwHodYfTx6E/BvtyJYBeoz8G+3IlgF6jPy7dJAaBlaE/Lt0kBoGVoT+GkLaw7EWhP4aQtrDsRaE/ajZSdQ32sD9qNlJ1DfawP9XPwkeqLsk/1c/CR6ouyT/GpHEdF5PbP8akcR0Xk9s/Dy2yne/n2z8PLbKd7+fbP7pT8MrkduE/ulPwyuR24T83zFLv6hfYPzfMUu/qF9g/jca3DxWoyz+NxrcPFajLP7uj3BWWfdE/u6PcFZZ90T8OLbKd7yfVPw4tsp3vJ9U/SxSFgOQZ0D9LFIWA5BnQP/Wathta5M8/9Zq2G1rkzz+T6xvM2JHRP5PrG8zYkdE//kRyAmLT2D/+RHICYtPYP5IkSZIkyds/kiRJkiTJ2z+jI0iyF03VP6MjSLIXTdU/WqdMblXU0T9ap0xuVdTRP/nBe0t62tA/+cF7S3ra0D/X5oHMD97JP9fmgcwP3sk/",
          "dtype": "f8"
         },
         "yaxis": "y"
        },
        {
         "hovertemplate": "weekday=4<br>timestamp=%{x}<br>day_hourly_profile=%{y}<extra></extra>",
         "legendgroup": "4",
         "line": {
          "color": "#FFA15A",
          "dash": "solid"
         },
         "marker": {
          "symbol": "circle"
         },
         "mode": "lines",
         "name": "4",
         "orientation": "v",
         "showlegend": true,
         "type": "scatter",
         "x": [
          "2012-10-19T00:00:00",
          "2012-10-19T00:30:00",
          "2012-10-19T01:00:00",
          "2012-10-19T01:30:00",
          "2012-10-19T02:00:00",
          "2012-10-19T02:30:00",
          "2012-10-19T03:00:00",
          "2012-10-19T03:30:00",
          "2012-10-19T04:00:00",
          "2012-10-19T04:30:00",
          "2012-10-19T05:00:00",
          "2012-10-19T05:30:00",
          "2012-10-19T06:00:00",
          "2012-10-19T06:30:00",
          "2012-10-19T07:00:00",
          "2012-10-19T07:30:00",
          "2012-10-19T08:00:00",
          "2012-10-19T08:30:00",
          "2012-10-19T09:00:00",
          "2012-10-19T09:30:00",
          "2012-10-19T10:00:00",
          "2012-10-19T10:30:00",
          "2012-10-19T11:00:00",
          "2012-10-19T11:30:00",
          "2012-10-19T12:00:00",
          "2012-10-19T12:30:00",
          "2012-10-19T13:00:00",
          "2012-10-19T13:30:00",
          "2012-10-19T14:00:00",
          "2012-10-19T14:30:00",
          "2012-10-19T15:00:00",
          "2012-10-19T15:30:00",
          "2012-10-19T16:00:00",
          "2012-10-19T16:30:00",
          "2012-10-19T17:00:00",
          "2012-10-19T17:30:00",
          "2012-10-19T18:00:00",
          "2012-10-19T18:30:00",
          "2012-10-19T19:00:00",
          "2012-10-19T19:30:00",
          "2012-10-19T20:00:00",
          "2012-10-19T20:30:00",
          "2012-10-19T21:00:00",
          "2012-10-19T21:30:00",
          "2012-10-19T22:00:00",
          "2012-10-19T22:30:00",
          "2012-10-19T23:00:00",
          "2012-10-19T23:30:00"
         ],
         "xaxis": "x",
         "y": {
          "bdata": "YcpPt7wxvz9hyk+3vDG/P0WqrsG+XKE/Raquwb5coT8Ky140J+6gPwrLXjQn7qA/4qWbxCCwoD/ipZvEILCgP/fBe0t6mqA/98F7S3qaoD+qHFpkO9+lP6ocWmQ736U/SQwCK4cWsT9JDAIrhxaxP0iD6BmKeL8/SIPoGYp4vz+gGi/dJMbSP6AaL90kxtI/2/l+arw04D/b+X5qvDTgP352AbGp1OE/fnYBsanU4T9pAeeVetfaP2kB55V619o/HqpQhpC21D8eqlCGkLbUPw8hbWHZS9E/DyFtYdlL0T9aguc5ffzSP1qC5zl9/NI/qI0ecT3K0T+ojR5xPcrRP1lwgBtmKc8/WXCAG2Ypzz/7lSlB2gLSP/uVKUHaAtI/e+9IEwlj2T9770gTCWPZP3sIaQvLHtw/ewhpC8se3D8gNpWGnLvTPyA2lYacu9M/i6/4iq840j+Lr/iKrzjSP+msUya36tA/6axTJrfq0D/wIaQtLHvOP/AhpC0se84/",
          "dtype": "f8"
         },
         "yaxis": "y"
        },
        {
         "hovertemplate": "weekday=5<br>timestamp=%{x}<br>day_hourly_profile=%{y}<extra></extra>",
         "legendgroup": "5",
         "line": {
          "color": "#19d3f3",
          "dash": "solid"
         },
         "marker": {
          "symbol": "circle"
         },
         "mode": "lines",
         "name": "5",
         "orientation": "v",
         "showlegend": true,
         "type": "scatter",
         "x": [
          "2012-10-20T00:00:00",
          "2012-10-20T00:30:00",
          "2012-10-20T01:00:00",
          "2012-10-20T01:30:00",
          "2012-10-20T02:00:00",
          "2012-10-20T02:30:00",
          "2012-10-20T03:00:00",
          "2012-10-20T03:30:00",
          "2012-10-20T04:00:00",
          "2012-10-20T04:30:00",
          "2012-10-20T05:00:00",
          "2012-10-20T05:30:00",
          "2012-10-20T06:00:00",
          "2012-10-20T06:30:00",
          "2012-10-20T07:00:00",
          "2012-10-20T07:30:00",
          "2012-10-20T08:00:00",
          "2012-10-20T08:30:00",
          "2012-10-20T09:00:00",
          "2012-10-20T09:30:00",
          "2012-10-20T10:00:00",
          "2012-10-20T10:30:00",
          "2012-10-20T11:00:00",
          "2012-10-20T11:30:00",
          "2012-10-20T12:00:00",
          "2012-10-20T12:30:00",
          "2012-10-20T13:00:00",
          "2012-10-20T13:30:00",
          "2012-10-20T14:00:00",
          "2012-10-20T14:30:00",
          "2012-10-20T15:00:00",
          "2012-10-20T15:30:00",
          "2012-10-20T16:00:00",
          "2012-10-20T16:30:00",
          "2012-10-20T17:00:00",
          "2012-10-20T17:30:00",
          "2012-10-20T18:00:00",
          "2012-10-20T18:30:00",
          "2012-10-20T19:00:00",
          "2012-10-20T19:30:00",
          "2012-10-20T20:00:00",
          "2012-10-20T20:30:00",
          "2012-10-20T21:00:00",
          "2012-10-20T21:30:00",
          "2012-10-20T22:00:00",
          "2012-10-20T22:30:00",
          "2012-10-20T23:00:00",
          "2012-10-20T23:30:00"
         ],
         "xaxis": "x",
         "y": {
          "bdata": "kPnBe0t6vj+Q+cF7S3q+P5MMvxn4EKI/kwy/GfgQoj/jVkX5BI2gP+NWRfkEjaA/OXG357iYoD85cbfnuJigPwu/GfgQ0qA/C78Z+BDSoD/D3Z7jYoqhP8PdnuNiiqE/5Y0RTPR3qj/ljRFM9HeqP3oFchjZzro/egVyGNnOuj/rW5znPjvUP+tbnOc+O9Q/m9Nc33rU3j+b01zfetTePyKuEfU0od8/Iq4R9TSh3z+FnlxgXy7YP4WeXGBfLtg/85e/KGhU1T/zl78oaFTVP6dil1pkO9U/p2KXWmQ71T/ISdYV5dPRP8hJ1hXl09E/eprQZeyIzT96mtBl7IjNP30/NV66Sc4/fT81XrpJzj8XU6zZSNXMPxdTrNlI1cw/H0LawrIX0z8fQtrCshfTP7WFZS+a09Q/tYVlL5rT1D8XScgQj0XTPxdJyBCPRdM/q1WHKocW0j+rVYcqhxbSP+D2UgOZ39E/4PZSA5nf0T/i6KxTJjfOP+LorFMmN84/",
          "dtype": "f8"
         },
         "yaxis": "y"
        },
        {
         "hovertemplate": "weekday=6<br>timestamp=%{x}<br>day_hourly_profile=%{y}<extra></extra>",
         "legendgroup": "6",
         "line": {
          "color": "#FF6692",
          "dash": "solid"
         },
         "marker": {
          "symbol": "circle"
         },
         "mode": "lines",
         "name": "6",
         "orientation": "v",
         "showlegend": true,
         "type": "scatter",
         "x": [
          "2012-10-21T00:00:00",
          "2012-10-21T00:30:00",
          "2012-10-21T01:00:00",
          "2012-10-21T01:30:00",
          "2012-10-21T02:00:00",
          "2012-10-21T02:30:00",
          "2012-10-21T03:00:00",
          "2012-10-21T03:30:00",
          "2012-10-21T04:00:00",
          "2012-10-21T04:30:00",
          "2012-10-21T05:00:00",
          "2012-10-21T05:30:00",
          "2012-10-21T06:00:00",
          "2012-10-21T06:30:00",
          "2012-10-21T07:00:00",
          "2012-10-21T07:30:00",
          "2012-10-21T08:00:00",
          "2012-10-21T08:30:00",
          "2012-10-21T09:00:00",
          "2012-10-21T09:30:00",
          "2012-10-21T10:00:00",
          "2012-10-21T10:30:00",
          "2012-10-21T11:00:00",
          "2012-10-21T11:30:00",
          "2012-10-21T12:00:00",
          "2012-10-21T12:30:00",
          "2012-10-21T13:00:00",
          "2012-10-21T13:30:00",
          "2012-10-21T14:00:00",
          "2012-10-21T14:30:00",
          "2012-10-21T15:00:00",
          "2012-10-21T15:30:00",
          "2012-10-21T16:00:00",
          "2012-10-21T16:30:00",
          "2012-10-21T17:00:00",
          "2012-10-21T17:30:00",
          "2012-10-21T18:00:00",
          "2012-10-21T18:30:00",
          "2012-10-21T19:00:00",
          "2012-10-21T19:30:00",
          "2012-10-21T20:00:00",
          "2012-10-21T20:30:00",
          "2012-10-21T21:00:00",
          "2012-10-21T21:30:00",
          "2012-10-21T22:00:00",
          "2012-10-21T22:30:00",
          "2012-10-21T23:00:00",
          "2012-10-21T23:30:00"
         ],
         "xaxis": "x",
         "y": {
          "bdata": "AIhwGy5QuD8AiHAbLlC4P1bNdhlvBqE/Vs12GW8GoT80gJbQFxahPzSAltAXFqE/KaTW0Z75nz8ppNbRnvmfP0NcsZ58NKA/Q1yxnnw0oD9pRXI78L2gP2lFcjvwvaA/4xb1AWR6qz/jFvUBZHqrPwGqEOGJaLg/AaoQ4YlouD/jgeHlccTNP+OB4eVxxM0/TbNYN9i+2j9Ns1g32L7aP8X8V7Php+U/xfxXs+Gn5T87bqdfaCXiPztup19oJeI/MpZ2YoGx3j8ylnZigbHeP/vt+NBQCeQ/++340FAJ5D+C6Y3f8zDhP4Lpjd/zMOE/Ope5jQIf1T86l7mNAh/VPykCr4LF5s8/KQKvgsXmzz8zI7Qb/5TPPzMjtBv/lM8/ho/1P3Nt0T+Gj/U/c23RP6haDoiBidE/qFoOiIGJ0T+tPBzS8x/RP608HNLzH9E/aclTVYxl0T9pyVNVjGXRP2FauWGwbM8/YVq5YbBszz+SI2ffBrnLP5IjZ98Gucs/",
          "dtype": "f8"
         },
         "yaxis": "y"
        }
       ],
       "layout": {
        "legend": {
         "title": {
          "text": "weekday"
         },
         "tracegroupgap": 0
        },
        "template": {
         "data": {
          "bar": [
           {
            "error_x": {
             "color": "#2a3f5f"
            },
            "error_y": {
             "color": "#2a3f5f"
            },
            "marker": {
             "line": {
              "color": "white",
              "width": 0.5
             },
             "pattern": {
              "fillmode": "overlay",
              "size": 10,
              "solidity": 0.2
             }
            },
            "type": "bar"
           }
          ],
          "barpolar": [
           {
            "marker": {
             "line": {
              "color": "white",
              "width": 0.5
             },
             "pattern": {
              "fillmode": "overlay",
              "size": 10,
              "solidity": 0.2
             }
            },
            "type": "barpolar"
           }
          ],
          "carpet": [
           {
            "aaxis": {
             "endlinecolor": "#2a3f5f",
             "gridcolor": "#C8D4E3",
             "linecolor": "#C8D4E3",
             "minorgridcolor": "#C8D4E3",
             "startlinecolor": "#2a3f5f"
            },
            "baxis": {
             "endlinecolor": "#2a3f5f",
             "gridcolor": "#C8D4E3",
             "linecolor": "#C8D4E3",
             "minorgridcolor": "#C8D4E3",
             "startlinecolor": "#2a3f5f"
            },
            "type": "carpet"
           }
          ],
          "choropleth": [
           {
            "colorbar": {
             "outlinewidth": 0,
             "ticks": ""
            },
            "type": "choropleth"
           }
          ],
          "contour": [
           {
            "colorbar": {
             "outlinewidth": 0,
             "ticks": ""
            },
            "colorscale": [
             [
              0,
              "#0d0887"
             ],
             [
              0.1111111111111111,
              "#46039f"
             ],
             [
              0.2222222222222222,
              "#7201a8"
             ],
             [
              0.3333333333333333,
              "#9c179e"
             ],
             [
              0.4444444444444444,
              "#bd3786"
             ],
             [
              0.5555555555555556,
              "#d8576b"
             ],
             [
              0.6666666666666666,
              "#ed7953"
             ],
             [
              0.7777777777777778,
              "#fb9f3a"
             ],
             [
              0.8888888888888888,
              "#fdca26"
             ],
             [
              1,
              "#f0f921"
             ]
            ],
            "type": "contour"
           }
          ],
          "contourcarpet": [
           {
            "colorbar": {
             "outlinewidth": 0,
             "ticks": ""
            },
            "type": "contourcarpet"
           }
          ],
          "heatmap": [
           {
            "colorbar": {
             "outlinewidth": 0,
             "ticks": ""
            },
            "colorscale": [
             [
              0,
              "#0d0887"
             ],
             [
              0.1111111111111111,
              "#46039f"
             ],
             [
              0.2222222222222222,
              "#7201a8"
             ],
             [
              0.3333333333333333,
              "#9c179e"
             ],
             [
              0.4444444444444444,
              "#bd3786"
             ],
             [
              0.5555555555555556,
              "#d8576b"
             ],
             [
              0.6666666666666666,
              "#ed7953"
             ],
             [
              0.7777777777777778,
              "#fb9f3a"
             ],
             [
              0.8888888888888888,
              "#fdca26"
             ],
             [
              1,
              "#f0f921"
             ]
            ],
            "type": "heatmap"
           }
          ],
          "histogram": [
           {
            "marker": {
             "pattern": {
              "fillmode": "overlay",
              "size": 10,
              "solidity": 0.2
             }
            },
            "type": "histogram"
           }
          ],
          "histogram2d": [
           {
            "colorbar": {
             "outlinewidth": 0,
             "ticks": ""
            },
            "colorscale": [
             [
              0,
              "#0d0887"
             ],
             [
              0.1111111111111111,
              "#46039f"
             ],
             [
              0.2222222222222222,
              "#7201a8"
             ],
             [
              0.3333333333333333,
              "#9c179e"
             ],
             [
              0.4444444444444444,
              "#bd3786"
             ],
             [
              0.5555555555555556,
              "#d8576b"
             ],
             [
              0.6666666666666666,
              "#ed7953"
             ],
             [
              0.7777777777777778,
              "#fb9f3a"
             ],
             [
              0.8888888888888888,
              "#fdca26"
             ],
             [
              1,
              "#f0f921"
             ]
            ],
            "type": "histogram2d"
           }
          ],
          "histogram2dcontour": [
           {
            "colorbar": {
             "outlinewidth": 0,
             "ticks": ""
            },
            "colorscale": [
             [
              0,
              "#0d0887"
             ],
             [
              0.1111111111111111,
              "#46039f"
             ],
             [
              0.2222222222222222,
              "#7201a8"
             ],
             [
              0.3333333333333333,
              "#9c179e"
             ],
             [
              0.4444444444444444,
              "#bd3786"
             ],
             [
              0.5555555555555556,
              "#d8576b"
             ],
             [
              0.6666666666666666,
              "#ed7953"
             ],
             [
              0.7777777777777778,
              "#fb9f3a"
             ],
             [
              0.8888888888888888,
              "#fdca26"
             ],
             [
              1,
              "#f0f921"
             ]
            ],
            "type": "histogram2dcontour"
           }
          ],
          "mesh3d": [
           {
            "colorbar": {
             "outlinewidth": 0,
             "ticks": ""
            },
            "type": "mesh3d"
           }
          ],
          "parcoords": [
           {
            "line": {
             "colorbar": {
              "outlinewidth": 0,
              "ticks": ""
             }
            },
            "type": "parcoords"
           }
          ],
          "pie": [
           {
            "automargin": true,
            "type": "pie"
           }
          ],
          "scatter": [
           {
            "fillpattern": {
             "fillmode": "overlay",
             "size": 10,
             "solidity": 0.2
            },
            "type": "scatter"
           }
          ],
          "scatter3d": [
           {
            "line": {
             "colorbar": {
              "outlinewidth": 0,
              "ticks": ""
             }
            },
            "marker": {
             "colorbar": {
              "outlinewidth": 0,
              "ticks": ""
             }
            },
            "type": "scatter3d"
           }
          ],
          "scattercarpet": [
           {
            "marker": {
             "colorbar": {
              "outlinewidth": 0,
              "ticks": ""
             }
            },
            "type": "scattercarpet"
           }
          ],
          "scattergeo": [
           {
            "marker": {
             "colorbar": {
              "outlinewidth": 0,
              "ticks": ""
             }
            },
            "type": "scattergeo"
           }
          ],
          "scattergl": [
           {
            "marker": {
             "colorbar": {
              "outlinewidth": 0,
              "ticks": ""
             }
            },
            "type": "scattergl"
           }
          ],
          "scattermap": [
           {
            "marker": {
             "colorbar": {
              "outlinewidth": 0,
              "ticks": ""
             }
            },
            "type": "scattermap"
           }
          ],
          "scattermapbox": [
           {
            "marker": {
             "colorbar": {
              "outlinewidth": 0,
              "ticks": ""
             }
            },
            "type": "scattermapbox"
           }
          ],
          "scatterpolar": [
           {
            "marker": {
             "colorbar": {
              "outlinewidth": 0,
              "ticks": ""
             }
            },
            "type": "scatterpolar"
           }
          ],
          "scatterpolargl": [
           {
            "marker": {
             "colorbar": {
              "outlinewidth": 0,
              "ticks": ""
             }
            },
            "type": "scatterpolargl"
           }
          ],
          "scatterternary": [
           {
            "marker": {
             "colorbar": {
              "outlinewidth": 0,
              "ticks": ""
             }
            },
            "type": "scatterternary"
           }
          ],
          "surface": [
           {
            "colorbar": {
             "outlinewidth": 0,
             "ticks": ""
            },
            "colorscale": [
             [
              0,
              "#0d0887"
             ],
             [
              0.1111111111111111,
              "#46039f"
             ],
             [
              0.2222222222222222,
              "#7201a8"
             ],
             [
              0.3333333333333333,
              "#9c179e"
             ],
             [
              0.4444444444444444,
              "#bd3786"
             ],
             [
              0.5555555555555556,
              "#d8576b"
             ],
             [
              0.6666666666666666,
              "#ed7953"
             ],
             [
              0.7777777777777778,
              "#fb9f3a"
             ],
             [
              0.8888888888888888,
              "#fdca26"
             ],
             [
              1,
              "#f0f921"
             ]
            ],
            "type": "surface"
           }
          ],
          "table": [
           {
            "cells": {
             "fill": {
              "color": "#EBF0F8"
             },
             "line": {
              "color": "white"
             }
            },
            "header": {
             "fill": {
              "color": "#C8D4E3"
             },
             "line": {
              "color": "white"
             }
            },
            "type": "table"
           }
          ]
         },
         "layout": {
          "annotationdefaults": {
           "arrowcolor": "#2a3f5f",
           "arrowhead": 0,
           "arrowwidth": 1
          },
          "autotypenumbers": "strict",
          "coloraxis": {
           "colorbar": {
            "outlinewidth": 0,
            "ticks": ""
           }
          },
          "colorscale": {
           "diverging": [
            [
             0,
             "#8e0152"
            ],
            [
             0.1,
             "#c51b7d"
            ],
            [
             0.2,
             "#de77ae"
            ],
            [
             0.3,
             "#f1b6da"
            ],
            [
             0.4,
             "#fde0ef"
            ],
            [
             0.5,
             "#f7f7f7"
            ],
            [
             0.6,
             "#e6f5d0"
            ],
            [
             0.7,
             "#b8e186"
            ],
            [
             0.8,
             "#7fbc41"
            ],
            [
             0.9,
             "#4d9221"
            ],
            [
             1,
             "#276419"
            ]
           ],
           "sequential": [
            [
             0,
             "#0d0887"
            ],
            [
             0.1111111111111111,
             "#46039f"
            ],
            [
             0.2222222222222222,
             "#7201a8"
            ],
            [
             0.3333333333333333,
             "#9c179e"
            ],
            [
             0.4444444444444444,
             "#bd3786"
            ],
            [
             0.5555555555555556,
             "#d8576b"
            ],
            [
             0.6666666666666666,
             "#ed7953"
            ],
            [
             0.7777777777777778,
             "#fb9f3a"
            ],
            [
             0.8888888888888888,
             "#fdca26"
            ],
            [
             1,
             "#f0f921"
            ]
           ],
           "sequentialminus": [
            [
             0,
             "#0d0887"
            ],
            [
             0.1111111111111111,
             "#46039f"
            ],
            [
             0.2222222222222222,
             "#7201a8"
            ],
            [
             0.3333333333333333,
             "#9c179e"
            ],
            [
             0.4444444444444444,
             "#bd3786"
            ],
            [
             0.5555555555555556,
             "#d8576b"
            ],
            [
             0.6666666666666666,
             "#ed7953"
            ],
            [
             0.7777777777777778,
             "#fb9f3a"
            ],
            [
             0.8888888888888888,
             "#fdca26"
            ],
            [
             1,
             "#f0f921"
            ]
           ]
          },
          "colorway": [
           "#636efa",
           "#EF553B",
           "#00cc96",
           "#ab63fa",
           "#FFA15A",
           "#19d3f3",
           "#FF6692",
           "#B6E880",
           "#FF97FF",
           "#FECB52"
          ],
          "font": {
           "color": "#2a3f5f"
          },
          "geo": {
           "bgcolor": "white",
           "lakecolor": "white",
           "landcolor": "white",
           "showlakes": true,
           "showland": true,
           "subunitcolor": "#C8D4E3"
          },
          "hoverlabel": {
           "align": "left"
          },
          "hovermode": "closest",
          "mapbox": {
           "style": "light"
          },
          "paper_bgcolor": "white",
          "plot_bgcolor": "white",
          "polar": {
           "angularaxis": {
            "gridcolor": "#EBF0F8",
            "linecolor": "#EBF0F8",
            "ticks": ""
           },
           "bgcolor": "white",
           "radialaxis": {
            "gridcolor": "#EBF0F8",
            "linecolor": "#EBF0F8",
            "ticks": ""
           }
          },
          "scene": {
           "xaxis": {
            "backgroundcolor": "white",
            "gridcolor": "#DFE8F3",
            "gridwidth": 2,
            "linecolor": "#EBF0F8",
            "showbackground": true,
            "ticks": "",
            "zerolinecolor": "#EBF0F8"
           },
           "yaxis": {
            "backgroundcolor": "white",
            "gridcolor": "#DFE8F3",
            "gridwidth": 2,
            "linecolor": "#EBF0F8",
            "showbackground": true,
            "ticks": "",
            "zerolinecolor": "#EBF0F8"
           },
           "zaxis": {
            "backgroundcolor": "white",
            "gridcolor": "#DFE8F3",
            "gridwidth": 2,
            "linecolor": "#EBF0F8",
            "showbackground": true,
            "ticks": "",
            "zerolinecolor": "#EBF0F8"
           }
          },
          "shapedefaults": {
           "line": {
            "color": "#2a3f5f"
           }
          },
          "ternary": {
           "aaxis": {
            "gridcolor": "#DFE8F3",
            "linecolor": "#A2B1C6",
            "ticks": ""
           },
           "baxis": {
            "gridcolor": "#DFE8F3",
            "linecolor": "#A2B1C6",
            "ticks": ""
           },
           "bgcolor": "white",
           "caxis": {
            "gridcolor": "#DFE8F3",
            "linecolor": "#A2B1C6",
            "ticks": ""
           }
          },
          "title": {
           "x": 0.05
          },
          "xaxis": {
           "automargin": true,
           "gridcolor": "#EBF0F8",
           "linecolor": "#EBF0F8",
           "ticks": "",
           "title": {
            "standoff": 15
           },
           "zerolinecolor": "#EBF0F8",
           "zerolinewidth": 2
          },
          "yaxis": {
           "automargin": true,
           "gridcolor": "#EBF0F8",
           "linecolor": "#EBF0F8",
           "ticks": "",
           "title": {
            "standoff": 15
           },
           "zerolinecolor": "#EBF0F8",
           "zerolinewidth": 2
          }
         }
        },
        "title": {
         "text": "Hourly Profiles by Weekday (0-Monday - 6-Sunday)"
        },
        "xaxis": {
         "anchor": "y",
         "domain": [
          0,
          1
         ],
         "title": {
          "text": "timestamp"
         }
        },
        "yaxis": {
         "anchor": "x",
         "domain": [
          0,
          1
         ],
         "title": {
          "text": "day_hourly_profile"
         }
        }
       }
      }
     },
     "metadata": {},
     "output_type": "display_data"
    }
   ],
   "source": [
    "# Hourly Profiles by week Day\n",
    "px.line(ts_df.loc[\"2012-10-15\": \"2012-10-21\",['day_hourly_profile','weekday']].reset_index(), x=\"timestamp\", y=\"day_hourly_profile\", color='weekday', title=\"Hourly Profiles by Weekday (0-Monday - 6-Sunday)\")"
   ]
  },
  {
   "cell_type": "markdown",
   "id": "42b90124-951d-4f1e-9b24-fe7afcbc36ce",
   "metadata": {},
   "source": [
    "#### Seasonal Interpolation"
   ]
  },
  {
   "cell_type": "code",
   "execution_count": 47,
   "id": "7e7ff84b-8be1-4391-a134-e4f66bddd138",
   "metadata": {},
   "outputs": [],
   "source": [
    "from src.utils.interpolation import SeasonalInterpolation"
   ]
  },
  {
   "cell_type": "code",
   "execution_count": 48,
   "id": "a8928a9c-3616-4dae-84b9-7b8b295f6b02",
   "metadata": {},
   "outputs": [
    {
     "name": "stderr",
     "output_type": "stream",
     "text": [
      "/Users/sofiahorlacher/VisualStudio/time/.venv/lib/python3.9/site-packages/sklearn/utils/deprecation.py:151: FutureWarning:\n",
      "\n",
      "'force_all_finite' was renamed to 'ensure_all_finite' in 1.6 and will be removed in 1.8.\n",
      "\n",
      "/Users/sofiahorlacher/VisualStudio/time/.venv/lib/python3.9/site-packages/sklearn/utils/deprecation.py:151: FutureWarning:\n",
      "\n",
      "'force_all_finite' was renamed to 'ensure_all_finite' in 1.6 and will be removed in 1.8.\n",
      "\n"
     ]
    }
   ],
   "source": [
    "# Seasonal interpolation using 48*7 as the seasonal period.\n",
    "# seasonal period is the period after which you expect the pattern to repeat\n",
    "recovered_matrix_seas_interp_weekday_half_hour = SeasonalInterpolation(seasonal_period=48*7,\n",
    "                                                     decomposition_strategy=\"additive\", \n",
    "                                                     interpolation_strategy=\"spline\", \n",
    "                                                     interpolation_args={\"order\":3}, \n",
    "                                                     min_value=0).fit_transform(ts_df.energy_consumption_missing.values.reshape(-1,1))\n",
    "\n",
    "ts_df['seas_interp_weekday_half_hour_imputed'] = recovered_matrix_seas_interp_weekday_half_hour\n",
    "mae_weekday_half_hour = mean_absolute_error(ts_df.loc[window, \"seas_interp_weekday_half_hour_imputed\"], ts_df.loc[window, \"energy_consumption\"])"
   ]
  },
  {
   "cell_type": "code",
   "execution_count": 49,
   "id": "8062eb86-68dc-4385-bd76-9d271194905e",
   "metadata": {},
   "outputs": [
    {
     "name": "stderr",
     "output_type": "stream",
     "text": [
      "/Users/sofiahorlacher/VisualStudio/time/.venv/lib/python3.9/site-packages/sklearn/utils/deprecation.py:151: FutureWarning:\n",
      "\n",
      "'force_all_finite' was renamed to 'ensure_all_finite' in 1.6 and will be removed in 1.8.\n",
      "\n",
      "/Users/sofiahorlacher/VisualStudio/time/.venv/lib/python3.9/site-packages/sklearn/utils/deprecation.py:151: FutureWarning:\n",
      "\n",
      "'force_all_finite' was renamed to 'ensure_all_finite' in 1.6 and will be removed in 1.8.\n",
      "\n"
     ]
    }
   ],
   "source": [
    "recovered_matrix_seas_interp_half_hour = SeasonalInterpolation(seasonal_period=48,\n",
    "                                                     decomposition_strategy=\"additive\", \n",
    "                                                     interpolation_strategy=\"spline\", \n",
    "                                                     interpolation_args={\"order\":3}, \n",
    "                                                     min_value=0).fit_transform(ts_df.energy_consumption_missing.values.reshape(-1,1))\n",
    "\n",
    "ts_df['seas_interp_half_hour_imputed'] = recovered_matrix_seas_interp_half_hour\n",
    "mae_half_hour = mean_absolute_error(ts_df.loc[window, \"seas_interp_half_hour_imputed\"], ts_df.loc[window, \"energy_consumption\"])"
   ]
  },
  {
   "cell_type": "code",
   "execution_count": 50,
   "id": "f52157cc-6130-45d0-becd-5e355f7c6700",
   "metadata": {},
   "outputs": [
    {
     "data": {
      "application/vnd.plotly.v1+json": {
       "config": {
        "plotlyServerURL": "https://plot.ly"
       },
       "data": [
        {
         "hovertemplate": "variable=value<br>series=energy_consumption<br>timestamp=%{x}<br>_value=%{y}<extra></extra>",
         "legendgroup": "value, energy_consumption",
         "line": {
          "color": "#636efa",
          "dash": "solid"
         },
         "marker": {
          "symbol": "circle"
         },
         "mode": "lines",
         "name": "Original",
         "orientation": "v",
         "showlegend": true,
         "type": "scatter",
         "x": [
          "2012-10-07T00:00:00",
          "2012-10-07T00:30:00",
          "2012-10-07T01:00:00",
          "2012-10-07T01:30:00",
          "2012-10-07T02:00:00",
          "2012-10-07T02:30:00",
          "2012-10-07T03:00:00",
          "2012-10-07T03:30:00",
          "2012-10-07T04:00:00",
          "2012-10-07T04:30:00",
          "2012-10-07T05:00:00",
          "2012-10-07T05:30:00",
          "2012-10-07T06:00:00",
          "2012-10-07T06:30:00",
          "2012-10-07T07:00:00",
          "2012-10-07T07:30:00",
          "2012-10-07T08:00:00",
          "2012-10-07T08:30:00",
          "2012-10-07T09:00:00",
          "2012-10-07T09:30:00",
          "2012-10-07T10:00:00",
          "2012-10-07T10:30:00",
          "2012-10-07T11:00:00",
          "2012-10-07T11:30:00",
          "2012-10-07T12:00:00",
          "2012-10-07T12:30:00",
          "2012-10-07T13:00:00",
          "2012-10-07T13:30:00",
          "2012-10-07T14:00:00",
          "2012-10-07T14:30:00",
          "2012-10-07T15:00:00",
          "2012-10-07T15:30:00",
          "2012-10-07T16:00:00",
          "2012-10-07T16:30:00",
          "2012-10-07T17:00:00",
          "2012-10-07T17:30:00",
          "2012-10-07T18:00:00",
          "2012-10-07T18:30:00",
          "2012-10-07T19:00:00",
          "2012-10-07T19:30:00",
          "2012-10-07T20:00:00",
          "2012-10-07T20:30:00",
          "2012-10-07T21:00:00",
          "2012-10-07T21:30:00",
          "2012-10-07T22:00:00",
          "2012-10-07T22:30:00",
          "2012-10-07T23:00:00",
          "2012-10-07T23:30:00",
          "2012-10-08T00:00:00",
          "2012-10-08T00:30:00",
          "2012-10-08T01:00:00",
          "2012-10-08T01:30:00",
          "2012-10-08T02:00:00",
          "2012-10-08T02:30:00",
          "2012-10-08T03:00:00",
          "2012-10-08T03:30:00",
          "2012-10-08T04:00:00",
          "2012-10-08T04:30:00",
          "2012-10-08T05:00:00",
          "2012-10-08T05:30:00",
          "2012-10-08T06:00:00",
          "2012-10-08T06:30:00",
          "2012-10-08T07:00:00",
          "2012-10-08T07:30:00",
          "2012-10-08T08:00:00",
          "2012-10-08T08:30:00",
          "2012-10-08T09:00:00",
          "2012-10-08T09:30:00",
          "2012-10-08T10:00:00",
          "2012-10-08T10:30:00",
          "2012-10-08T11:00:00",
          "2012-10-08T11:30:00",
          "2012-10-08T12:00:00",
          "2012-10-08T12:30:00",
          "2012-10-08T13:00:00",
          "2012-10-08T13:30:00",
          "2012-10-08T14:00:00",
          "2012-10-08T14:30:00",
          "2012-10-08T15:00:00",
          "2012-10-08T15:30:00",
          "2012-10-08T16:00:00",
          "2012-10-08T16:30:00",
          "2012-10-08T17:00:00",
          "2012-10-08T17:30:00",
          "2012-10-08T18:00:00",
          "2012-10-08T18:30:00",
          "2012-10-08T19:00:00",
          "2012-10-08T19:30:00",
          "2012-10-08T20:00:00",
          "2012-10-08T20:30:00",
          "2012-10-08T21:00:00",
          "2012-10-08T21:30:00",
          "2012-10-08T22:00:00",
          "2012-10-08T22:30:00",
          "2012-10-08T23:00:00",
          "2012-10-08T23:30:00"
         ],
         "xaxis": "x",
         "y": {
          "bdata": "WmQ730+Nlz9q6SYxCKysPz/pJjEIrIw/WDm0yHa+nz97FK5H4XqkP7pJDAIrh5Y/yXa+nxovrT/6fmq8dJNoPxsv3SQGgaU/exSuR+F6pD8bL90kBoGVPwrXo3A9Cqc/uB6F61G4jj8rhxbZzvejP9Ei2/l+arw/YhBYObTItj8IrBxaZDuvP1pkO99Pjac/ObTIdr6fqj+0yHa+nxrPP8dLN4lBYPM/j8L1KFyP8D+amZmZmZnRP4LugQzTTfI/XI/C9Shc1z9mZmZmZmbmP6wcWmQ7388/TmIQWDm00D8730+Nl27SP2ZmZmZmZuI/iUFg5dAiyz8/NV66SQzSP/LSTWIQWNk/EFg5tMh2vj+q8dJNYhCoPzm0yHa+n9I/ppvEILBy0D83iUFg5dDSPz0K16NwPdI/7FG4HoXr0T8xCKwcWmTTP6AaL90kBtE/hetRuB6F0z81XrpJDALTP5HtfD81Xto/0XjpJjEIzD9q6SYxCKysPzvfT42XbqI/nMQgsHJooT/b+X5qvHSjP7pJDAIrh4Y/6SYxCKwcqj9aZDvfT42XPylcj8L1KKw/O99PjZdugj+LbOf7qfGiP+xRuB6F66E/O99PjZduoj+LbOf7qfGiP3sUrkfheoQ/iUFg5dAiqz9aZDvfT42XP0jhehSuR9E/0XjpJjEIzD9QjZduEoPQPylcj8L1KOw/jGzn+6nx5j8AAAAAAADQPyPb+X5qvNQ/H4XrUbge4T/sUbgehevRP9NNYhBYOdQ/kxgEVg4t6j+amZmZmZnlP9Ei2/l+atQ/CgRWDi2yrT9oke18PzWuP/p+arx0k9A/xSCwcmiR1T+JQWDl0CLLPxBYObTIds4/jZduEoPAyj+4HoXrUbjOP8P1KFyPwsU/LbKd76fG5z9pke18PzXqPxsv3SQGgdU/kxgEVg4t0j83iUFg5dDSP0Bg5dAi29E//tR46SYx0D+BlUOLbOfTPwwCK4cW2dY/cukmMQisvD/8qfHSTWKQPzm0yHa+n5o/",
          "dtype": "f8"
         },
         "yaxis": "y"
        },
        {
         "hovertemplate": "variable=value<br>series=seas_interp_half_hour_imputed<br>timestamp=%{x}<br>_value=%{y}<extra></extra>",
         "legendgroup": "value, seas_interp_half_hour_imputed",
         "line": {
          "color": "#636efa",
          "dash": "dot"
         },
         "marker": {
          "symbol": "circle"
         },
         "mode": "lines",
         "name": "Half Hourly Profile Imputed",
         "orientation": "v",
         "showlegend": true,
         "type": "scatter",
         "x": [
          "2012-10-07T00:00:00",
          "2012-10-07T00:30:00",
          "2012-10-07T01:00:00",
          "2012-10-07T01:30:00",
          "2012-10-07T02:00:00",
          "2012-10-07T02:30:00",
          "2012-10-07T03:00:00",
          "2012-10-07T03:30:00",
          "2012-10-07T04:00:00",
          "2012-10-07T04:30:00",
          "2012-10-07T05:00:00",
          "2012-10-07T05:30:00",
          "2012-10-07T06:00:00",
          "2012-10-07T06:30:00",
          "2012-10-07T07:00:00",
          "2012-10-07T07:30:00",
          "2012-10-07T08:00:00",
          "2012-10-07T08:30:00",
          "2012-10-07T09:00:00",
          "2012-10-07T09:30:00",
          "2012-10-07T10:00:00",
          "2012-10-07T10:30:00",
          "2012-10-07T11:00:00",
          "2012-10-07T11:30:00",
          "2012-10-07T12:00:00",
          "2012-10-07T12:30:00",
          "2012-10-07T13:00:00",
          "2012-10-07T13:30:00",
          "2012-10-07T14:00:00",
          "2012-10-07T14:30:00",
          "2012-10-07T15:00:00",
          "2012-10-07T15:30:00",
          "2012-10-07T16:00:00",
          "2012-10-07T16:30:00",
          "2012-10-07T17:00:00",
          "2012-10-07T17:30:00",
          "2012-10-07T18:00:00",
          "2012-10-07T18:30:00",
          "2012-10-07T19:00:00",
          "2012-10-07T19:30:00",
          "2012-10-07T20:00:00",
          "2012-10-07T20:30:00",
          "2012-10-07T21:00:00",
          "2012-10-07T21:30:00",
          "2012-10-07T22:00:00",
          "2012-10-07T22:30:00",
          "2012-10-07T23:00:00",
          "2012-10-07T23:30:00",
          "2012-10-08T00:00:00",
          "2012-10-08T00:30:00",
          "2012-10-08T01:00:00",
          "2012-10-08T01:30:00",
          "2012-10-08T02:00:00",
          "2012-10-08T02:30:00",
          "2012-10-08T03:00:00",
          "2012-10-08T03:30:00",
          "2012-10-08T04:00:00",
          "2012-10-08T04:30:00",
          "2012-10-08T05:00:00",
          "2012-10-08T05:30:00",
          "2012-10-08T06:00:00",
          "2012-10-08T06:30:00",
          "2012-10-08T07:00:00",
          "2012-10-08T07:30:00",
          "2012-10-08T08:00:00",
          "2012-10-08T08:30:00",
          "2012-10-08T09:00:00",
          "2012-10-08T09:30:00",
          "2012-10-08T10:00:00",
          "2012-10-08T10:30:00",
          "2012-10-08T11:00:00",
          "2012-10-08T11:30:00",
          "2012-10-08T12:00:00",
          "2012-10-08T12:30:00",
          "2012-10-08T13:00:00",
          "2012-10-08T13:30:00",
          "2012-10-08T14:00:00",
          "2012-10-08T14:30:00",
          "2012-10-08T15:00:00",
          "2012-10-08T15:30:00",
          "2012-10-08T16:00:00",
          "2012-10-08T16:30:00",
          "2012-10-08T17:00:00",
          "2012-10-08T17:30:00",
          "2012-10-08T18:00:00",
          "2012-10-08T18:30:00",
          "2012-10-08T19:00:00",
          "2012-10-08T19:30:00",
          "2012-10-08T20:00:00",
          "2012-10-08T20:30:00",
          "2012-10-08T21:00:00",
          "2012-10-08T21:30:00",
          "2012-10-08T22:00:00",
          "2012-10-08T22:30:00",
          "2012-10-08T23:00:00",
          "2012-10-08T23:30:00"
         ],
         "xaxis": "x",
         "y": {
          "bdata": "qv1aOt0tvj+0H9fn6kekP2i0yRC6o58/8BnN0xN7mz/4OpG9xHqbP2h9D9nH25s/mJr4RzcgnD9AR2jns4ibPxCWrTRr4Js/kKTZfzV2mz+IKbGnQC2cP0jhQHiMwqA/sHQqKhz3pT8S23FFeBywP8i8Y8aFWLc/PuV7YM2fwj/GfjyhaX/PP6R+uWt3ntc/aF5NdDF02z8D49XZhkfgP5tNUzFhBeI/uo4o57gM4j9EEgyB3ZPeP6hQQIzs0Nc/Ml77Z1pv1T9/B2d3OsjUP0JpFmz049U/NXQJ09M51z8g2G0lYOzWP9CksIUtTtM/OFm8XjHg0D+9m1H0tZTNP1MoQ0ezqMw/k9owk6bUzT93H8a+nO3OP3hdgjbQDdA/yjkqV2xK1D9oTKFt2BPZPzS5coJo29g/Dvplk5+t2D8KrtwhjYnUP3Az0Mrhk9I/ZrSV2eXS0T8eAK4LQAfSP2ucg0A+v9E/6UejNrIfzz9bX6SzmOPLP4fj2js+Pso/NnQmBE0fvj94ycdRyiqkP9DgdZF4aZ8/+H5bAdJAmz8QOBmYgkCbPyByqGCFoZs/qOa5fPTlmz8oSmnJcE6bP3ivBcQnpps/CDSgvPE7mz+ojv2R/PKbP2yuNURqpaA/RIz5zPnZpT/wY0wC5w2wP6Yat270Sbc/oOpkqoSYwj+KxufgIHjPP7O5cQbTmtc/nKbpCY1w2z+syBaitEXgP9CvB/eOA+I/dyhRquYK4j/IKkcCOZDePzHEZghIzdc/uqIO37Vr1T/8kmjplcTUP6+xB9lP4NU/iu/rOi821z9X/EKIu+jWP+TneeOIStM/IjF7t4zc0D8vYb2bbI3NP1bvn+Rpocw/GI+BJl3NzT9yrQ1IU+bOPysHI3YrCtA/KzzJkcdG1D9uHUCjMxDZP9zOErPD19g/UMoIv/qp2D/eroNI6IXUP9LafOw8kNI/T3hJ9kDP0T+EVmojmwPSP0r7SVOZu9E/jAJHUmgYzz/TAmLFTtzLP8pbtUP0Nso/",
          "dtype": "f8"
         },
         "yaxis": "y"
        },
        {
         "hovertemplate": "variable=value<br>series=seas_interp_weekday_half_hour_imputed<br>timestamp=%{x}<br>_value=%{y}<extra></extra>",
         "legendgroup": "value, seas_interp_weekday_half_hour_imputed",
         "line": {
          "color": "#636efa",
          "dash": "dash"
         },
         "marker": {
          "symbol": "circle"
         },
         "mode": "lines",
         "name": "Week Day-Half Hourly Profile Imputed",
         "orientation": "v",
         "showlegend": true,
         "type": "scatter",
         "x": [
          "2012-10-07T00:00:00",
          "2012-10-07T00:30:00",
          "2012-10-07T01:00:00",
          "2012-10-07T01:30:00",
          "2012-10-07T02:00:00",
          "2012-10-07T02:30:00",
          "2012-10-07T03:00:00",
          "2012-10-07T03:30:00",
          "2012-10-07T04:00:00",
          "2012-10-07T04:30:00",
          "2012-10-07T05:00:00",
          "2012-10-07T05:30:00",
          "2012-10-07T06:00:00",
          "2012-10-07T06:30:00",
          "2012-10-07T07:00:00",
          "2012-10-07T07:30:00",
          "2012-10-07T08:00:00",
          "2012-10-07T08:30:00",
          "2012-10-07T09:00:00",
          "2012-10-07T09:30:00",
          "2012-10-07T10:00:00",
          "2012-10-07T10:30:00",
          "2012-10-07T11:00:00",
          "2012-10-07T11:30:00",
          "2012-10-07T12:00:00",
          "2012-10-07T12:30:00",
          "2012-10-07T13:00:00",
          "2012-10-07T13:30:00",
          "2012-10-07T14:00:00",
          "2012-10-07T14:30:00",
          "2012-10-07T15:00:00",
          "2012-10-07T15:30:00",
          "2012-10-07T16:00:00",
          "2012-10-07T16:30:00",
          "2012-10-07T17:00:00",
          "2012-10-07T17:30:00",
          "2012-10-07T18:00:00",
          "2012-10-07T18:30:00",
          "2012-10-07T19:00:00",
          "2012-10-07T19:30:00",
          "2012-10-07T20:00:00",
          "2012-10-07T20:30:00",
          "2012-10-07T21:00:00",
          "2012-10-07T21:30:00",
          "2012-10-07T22:00:00",
          "2012-10-07T22:30:00",
          "2012-10-07T23:00:00",
          "2012-10-07T23:30:00",
          "2012-10-08T00:00:00",
          "2012-10-08T00:30:00",
          "2012-10-08T01:00:00",
          "2012-10-08T01:30:00",
          "2012-10-08T02:00:00",
          "2012-10-08T02:30:00",
          "2012-10-08T03:00:00",
          "2012-10-08T03:30:00",
          "2012-10-08T04:00:00",
          "2012-10-08T04:30:00",
          "2012-10-08T05:00:00",
          "2012-10-08T05:30:00",
          "2012-10-08T06:00:00",
          "2012-10-08T06:30:00",
          "2012-10-08T07:00:00",
          "2012-10-08T07:30:00",
          "2012-10-08T08:00:00",
          "2012-10-08T08:30:00",
          "2012-10-08T09:00:00",
          "2012-10-08T09:30:00",
          "2012-10-08T10:00:00",
          "2012-10-08T10:30:00",
          "2012-10-08T11:00:00",
          "2012-10-08T11:30:00",
          "2012-10-08T12:00:00",
          "2012-10-08T12:30:00",
          "2012-10-08T13:00:00",
          "2012-10-08T13:30:00",
          "2012-10-08T14:00:00",
          "2012-10-08T14:30:00",
          "2012-10-08T15:00:00",
          "2012-10-08T15:30:00",
          "2012-10-08T16:00:00",
          "2012-10-08T16:30:00",
          "2012-10-08T17:00:00",
          "2012-10-08T17:30:00",
          "2012-10-08T18:00:00",
          "2012-10-08T18:30:00",
          "2012-10-08T19:00:00",
          "2012-10-08T19:30:00",
          "2012-10-08T20:00:00",
          "2012-10-08T20:30:00",
          "2012-10-08T21:00:00",
          "2012-10-08T21:30:00",
          "2012-10-08T22:00:00",
          "2012-10-08T22:30:00",
          "2012-10-08T23:00:00",
          "2012-10-08T23:30:00"
         ],
         "xaxis": "x",
         "y": {
          "bdata": "8lIY3ntgwD8glkHEJsKrPxAZ8FqRFqA/cAPxgLEunD/g9aE2UhCdPwCKNYLySZ8/CAFSManFmj8AmmRIPx+dP/CgPSsC4Js/oDxNh0OpnD8A02Dgt6KdP8DB59HsLZ0/QPBJY71XoD+47C+r5EuxPxwO8D0NYbI/TD96kicavD/gHq0186nFP4li89hQZ9I/exSA5zfc1j+ME2SEeP3dP94+/i/v0+I/uwWRmTec5z/geoso2BXkP4Ue0alnIt8/jfXVOaY13D95gCfOEgzgP7ivsXB5huQ/4V9/UIIp4z/Pn5XM3o3jP/d3jWU8r9w/rqptxaEX1j9BvG8m0GLTP0JL5Svg69A/xr0NCPVnzD+J4qbdV1nNPy80i3e8OtA/8CuLS8Zp0D+WnBu/UaTRPy5H9FzmBdE/9Myhq+s90T/B8GOm1WXQP4XyTvbcCdE/aXhzx5Hv0D85c0anBQXRP9YgY+Ei19A/Rmp6VFRyyz9LoFqZgGjKP5oiVmDY6cs/ZAaSweqOtD+ohjK21qSgP5DaZoHSZJw/ANqLJ1XJmz+wvyqEncabPzDDz/cG55s/0DcwUF6zmz/InTDfHZmYP4CR9MEUHJ0/OPUn21O/nD9QmjwutmqfP7jNQDt1jZ4/hByWZRSUpT9s8jYl7TGuP146F3wkhLI/59Bl2cQWvT8DsQgz4krMP6J4gP7gqtU/3Je6FiRJ3D/LxcCjM4jgPyN5aAR2J+E/ui9p4X8N4D9odls+lhTXP8AhPcVIddQ/+LbGew7f0j8mI3jcNVXRPxYJE4vrCNI/awZXJImR1z+JO5Yylg3WP7Qhu+cVJ9I/BlezYe7bzD8cJdzcgSvIP8Wj6VNXU8g/Ipc2KrS7yz9VnOIXCUDMP9WWooM7ys0/o1sKbDVE0z/697JLf6/aP2CsWa/reNs/BVmngZ5U3T/j5qG3U8/UP+lz8pZnc9M/6NXl91u10j8gnPDy9MjSP1ZesDHiJ9I/kJ6ybGTuzj/OvOKe+mXMP2zMk1JKbcY/",
          "dtype": "f8"
         },
         "yaxis": "y"
        }
       ],
       "layout": {
        "autosize": false,
        "height": 500,
        "legend": {
         "font": {
          "size": 15
         },
         "orientation": "h",
         "title": {},
         "tracegroupgap": 0,
         "x": 1,
         "xanchor": "right",
         "y": 0.98,
         "yanchor": "bottom"
        },
        "template": {
         "data": {
          "bar": [
           {
            "error_x": {
             "color": "#2a3f5f"
            },
            "error_y": {
             "color": "#2a3f5f"
            },
            "marker": {
             "line": {
              "color": "white",
              "width": 0.5
             },
             "pattern": {
              "fillmode": "overlay",
              "size": 10,
              "solidity": 0.2
             }
            },
            "type": "bar"
           }
          ],
          "barpolar": [
           {
            "marker": {
             "line": {
              "color": "white",
              "width": 0.5
             },
             "pattern": {
              "fillmode": "overlay",
              "size": 10,
              "solidity": 0.2
             }
            },
            "type": "barpolar"
           }
          ],
          "carpet": [
           {
            "aaxis": {
             "endlinecolor": "#2a3f5f",
             "gridcolor": "#C8D4E3",
             "linecolor": "#C8D4E3",
             "minorgridcolor": "#C8D4E3",
             "startlinecolor": "#2a3f5f"
            },
            "baxis": {
             "endlinecolor": "#2a3f5f",
             "gridcolor": "#C8D4E3",
             "linecolor": "#C8D4E3",
             "minorgridcolor": "#C8D4E3",
             "startlinecolor": "#2a3f5f"
            },
            "type": "carpet"
           }
          ],
          "choropleth": [
           {
            "colorbar": {
             "outlinewidth": 0,
             "ticks": ""
            },
            "type": "choropleth"
           }
          ],
          "contour": [
           {
            "colorbar": {
             "outlinewidth": 0,
             "ticks": ""
            },
            "colorscale": [
             [
              0,
              "#0d0887"
             ],
             [
              0.1111111111111111,
              "#46039f"
             ],
             [
              0.2222222222222222,
              "#7201a8"
             ],
             [
              0.3333333333333333,
              "#9c179e"
             ],
             [
              0.4444444444444444,
              "#bd3786"
             ],
             [
              0.5555555555555556,
              "#d8576b"
             ],
             [
              0.6666666666666666,
              "#ed7953"
             ],
             [
              0.7777777777777778,
              "#fb9f3a"
             ],
             [
              0.8888888888888888,
              "#fdca26"
             ],
             [
              1,
              "#f0f921"
             ]
            ],
            "type": "contour"
           }
          ],
          "contourcarpet": [
           {
            "colorbar": {
             "outlinewidth": 0,
             "ticks": ""
            },
            "type": "contourcarpet"
           }
          ],
          "heatmap": [
           {
            "colorbar": {
             "outlinewidth": 0,
             "ticks": ""
            },
            "colorscale": [
             [
              0,
              "#0d0887"
             ],
             [
              0.1111111111111111,
              "#46039f"
             ],
             [
              0.2222222222222222,
              "#7201a8"
             ],
             [
              0.3333333333333333,
              "#9c179e"
             ],
             [
              0.4444444444444444,
              "#bd3786"
             ],
             [
              0.5555555555555556,
              "#d8576b"
             ],
             [
              0.6666666666666666,
              "#ed7953"
             ],
             [
              0.7777777777777778,
              "#fb9f3a"
             ],
             [
              0.8888888888888888,
              "#fdca26"
             ],
             [
              1,
              "#f0f921"
             ]
            ],
            "type": "heatmap"
           }
          ],
          "histogram": [
           {
            "marker": {
             "pattern": {
              "fillmode": "overlay",
              "size": 10,
              "solidity": 0.2
             }
            },
            "type": "histogram"
           }
          ],
          "histogram2d": [
           {
            "colorbar": {
             "outlinewidth": 0,
             "ticks": ""
            },
            "colorscale": [
             [
              0,
              "#0d0887"
             ],
             [
              0.1111111111111111,
              "#46039f"
             ],
             [
              0.2222222222222222,
              "#7201a8"
             ],
             [
              0.3333333333333333,
              "#9c179e"
             ],
             [
              0.4444444444444444,
              "#bd3786"
             ],
             [
              0.5555555555555556,
              "#d8576b"
             ],
             [
              0.6666666666666666,
              "#ed7953"
             ],
             [
              0.7777777777777778,
              "#fb9f3a"
             ],
             [
              0.8888888888888888,
              "#fdca26"
             ],
             [
              1,
              "#f0f921"
             ]
            ],
            "type": "histogram2d"
           }
          ],
          "histogram2dcontour": [
           {
            "colorbar": {
             "outlinewidth": 0,
             "ticks": ""
            },
            "colorscale": [
             [
              0,
              "#0d0887"
             ],
             [
              0.1111111111111111,
              "#46039f"
             ],
             [
              0.2222222222222222,
              "#7201a8"
             ],
             [
              0.3333333333333333,
              "#9c179e"
             ],
             [
              0.4444444444444444,
              "#bd3786"
             ],
             [
              0.5555555555555556,
              "#d8576b"
             ],
             [
              0.6666666666666666,
              "#ed7953"
             ],
             [
              0.7777777777777778,
              "#fb9f3a"
             ],
             [
              0.8888888888888888,
              "#fdca26"
             ],
             [
              1,
              "#f0f921"
             ]
            ],
            "type": "histogram2dcontour"
           }
          ],
          "mesh3d": [
           {
            "colorbar": {
             "outlinewidth": 0,
             "ticks": ""
            },
            "type": "mesh3d"
           }
          ],
          "parcoords": [
           {
            "line": {
             "colorbar": {
              "outlinewidth": 0,
              "ticks": ""
             }
            },
            "type": "parcoords"
           }
          ],
          "pie": [
           {
            "automargin": true,
            "type": "pie"
           }
          ],
          "scatter": [
           {
            "fillpattern": {
             "fillmode": "overlay",
             "size": 10,
             "solidity": 0.2
            },
            "type": "scatter"
           }
          ],
          "scatter3d": [
           {
            "line": {
             "colorbar": {
              "outlinewidth": 0,
              "ticks": ""
             }
            },
            "marker": {
             "colorbar": {
              "outlinewidth": 0,
              "ticks": ""
             }
            },
            "type": "scatter3d"
           }
          ],
          "scattercarpet": [
           {
            "marker": {
             "colorbar": {
              "outlinewidth": 0,
              "ticks": ""
             }
            },
            "type": "scattercarpet"
           }
          ],
          "scattergeo": [
           {
            "marker": {
             "colorbar": {
              "outlinewidth": 0,
              "ticks": ""
             }
            },
            "type": "scattergeo"
           }
          ],
          "scattergl": [
           {
            "marker": {
             "colorbar": {
              "outlinewidth": 0,
              "ticks": ""
             }
            },
            "type": "scattergl"
           }
          ],
          "scattermap": [
           {
            "marker": {
             "colorbar": {
              "outlinewidth": 0,
              "ticks": ""
             }
            },
            "type": "scattermap"
           }
          ],
          "scattermapbox": [
           {
            "marker": {
             "colorbar": {
              "outlinewidth": 0,
              "ticks": ""
             }
            },
            "type": "scattermapbox"
           }
          ],
          "scatterpolar": [
           {
            "marker": {
             "colorbar": {
              "outlinewidth": 0,
              "ticks": ""
             }
            },
            "type": "scatterpolar"
           }
          ],
          "scatterpolargl": [
           {
            "marker": {
             "colorbar": {
              "outlinewidth": 0,
              "ticks": ""
             }
            },
            "type": "scatterpolargl"
           }
          ],
          "scatterternary": [
           {
            "marker": {
             "colorbar": {
              "outlinewidth": 0,
              "ticks": ""
             }
            },
            "type": "scatterternary"
           }
          ],
          "surface": [
           {
            "colorbar": {
             "outlinewidth": 0,
             "ticks": ""
            },
            "colorscale": [
             [
              0,
              "#0d0887"
             ],
             [
              0.1111111111111111,
              "#46039f"
             ],
             [
              0.2222222222222222,
              "#7201a8"
             ],
             [
              0.3333333333333333,
              "#9c179e"
             ],
             [
              0.4444444444444444,
              "#bd3786"
             ],
             [
              0.5555555555555556,
              "#d8576b"
             ],
             [
              0.6666666666666666,
              "#ed7953"
             ],
             [
              0.7777777777777778,
              "#fb9f3a"
             ],
             [
              0.8888888888888888,
              "#fdca26"
             ],
             [
              1,
              "#f0f921"
             ]
            ],
            "type": "surface"
           }
          ],
          "table": [
           {
            "cells": {
             "fill": {
              "color": "#EBF0F8"
             },
             "line": {
              "color": "white"
             }
            },
            "header": {
             "fill": {
              "color": "#C8D4E3"
             },
             "line": {
              "color": "white"
             }
            },
            "type": "table"
           }
          ]
         },
         "layout": {
          "annotationdefaults": {
           "arrowcolor": "#2a3f5f",
           "arrowhead": 0,
           "arrowwidth": 1
          },
          "autotypenumbers": "strict",
          "coloraxis": {
           "colorbar": {
            "outlinewidth": 0,
            "ticks": ""
           }
          },
          "colorscale": {
           "diverging": [
            [
             0,
             "#8e0152"
            ],
            [
             0.1,
             "#c51b7d"
            ],
            [
             0.2,
             "#de77ae"
            ],
            [
             0.3,
             "#f1b6da"
            ],
            [
             0.4,
             "#fde0ef"
            ],
            [
             0.5,
             "#f7f7f7"
            ],
            [
             0.6,
             "#e6f5d0"
            ],
            [
             0.7,
             "#b8e186"
            ],
            [
             0.8,
             "#7fbc41"
            ],
            [
             0.9,
             "#4d9221"
            ],
            [
             1,
             "#276419"
            ]
           ],
           "sequential": [
            [
             0,
             "#0d0887"
            ],
            [
             0.1111111111111111,
             "#46039f"
            ],
            [
             0.2222222222222222,
             "#7201a8"
            ],
            [
             0.3333333333333333,
             "#9c179e"
            ],
            [
             0.4444444444444444,
             "#bd3786"
            ],
            [
             0.5555555555555556,
             "#d8576b"
            ],
            [
             0.6666666666666666,
             "#ed7953"
            ],
            [
             0.7777777777777778,
             "#fb9f3a"
            ],
            [
             0.8888888888888888,
             "#fdca26"
            ],
            [
             1,
             "#f0f921"
            ]
           ],
           "sequentialminus": [
            [
             0,
             "#0d0887"
            ],
            [
             0.1111111111111111,
             "#46039f"
            ],
            [
             0.2222222222222222,
             "#7201a8"
            ],
            [
             0.3333333333333333,
             "#9c179e"
            ],
            [
             0.4444444444444444,
             "#bd3786"
            ],
            [
             0.5555555555555556,
             "#d8576b"
            ],
            [
             0.6666666666666666,
             "#ed7953"
            ],
            [
             0.7777777777777778,
             "#fb9f3a"
            ],
            [
             0.8888888888888888,
             "#fdca26"
            ],
            [
             1,
             "#f0f921"
            ]
           ]
          },
          "colorway": [
           "#636efa",
           "#EF553B",
           "#00cc96",
           "#ab63fa",
           "#FFA15A",
           "#19d3f3",
           "#FF6692",
           "#B6E880",
           "#FF97FF",
           "#FECB52"
          ],
          "font": {
           "color": "#2a3f5f"
          },
          "geo": {
           "bgcolor": "white",
           "lakecolor": "white",
           "landcolor": "white",
           "showlakes": true,
           "showland": true,
           "subunitcolor": "#C8D4E3"
          },
          "hoverlabel": {
           "align": "left"
          },
          "hovermode": "closest",
          "mapbox": {
           "style": "light"
          },
          "paper_bgcolor": "white",
          "plot_bgcolor": "white",
          "polar": {
           "angularaxis": {
            "gridcolor": "#EBF0F8",
            "linecolor": "#EBF0F8",
            "ticks": ""
           },
           "bgcolor": "white",
           "radialaxis": {
            "gridcolor": "#EBF0F8",
            "linecolor": "#EBF0F8",
            "ticks": ""
           }
          },
          "scene": {
           "xaxis": {
            "backgroundcolor": "white",
            "gridcolor": "#DFE8F3",
            "gridwidth": 2,
            "linecolor": "#EBF0F8",
            "showbackground": true,
            "ticks": "",
            "zerolinecolor": "#EBF0F8"
           },
           "yaxis": {
            "backgroundcolor": "white",
            "gridcolor": "#DFE8F3",
            "gridwidth": 2,
            "linecolor": "#EBF0F8",
            "showbackground": true,
            "ticks": "",
            "zerolinecolor": "#EBF0F8"
           },
           "zaxis": {
            "backgroundcolor": "white",
            "gridcolor": "#DFE8F3",
            "gridwidth": 2,
            "linecolor": "#EBF0F8",
            "showbackground": true,
            "ticks": "",
            "zerolinecolor": "#EBF0F8"
           }
          },
          "shapedefaults": {
           "line": {
            "color": "#2a3f5f"
           }
          },
          "ternary": {
           "aaxis": {
            "gridcolor": "#DFE8F3",
            "linecolor": "#A2B1C6",
            "ticks": ""
           },
           "baxis": {
            "gridcolor": "#DFE8F3",
            "linecolor": "#A2B1C6",
            "ticks": ""
           },
           "bgcolor": "white",
           "caxis": {
            "gridcolor": "#DFE8F3",
            "linecolor": "#A2B1C6",
            "ticks": ""
           }
          },
          "title": {
           "x": 0.05
          },
          "xaxis": {
           "automargin": true,
           "gridcolor": "#EBF0F8",
           "linecolor": "#EBF0F8",
           "ticks": "",
           "title": {
            "standoff": 15
           },
           "zerolinecolor": "#EBF0F8",
           "zerolinewidth": 2
          },
          "yaxis": {
           "automargin": true,
           "gridcolor": "#EBF0F8",
           "linecolor": "#EBF0F8",
           "ticks": "",
           "title": {
            "standoff": 15
           },
           "zerolinecolor": "#EBF0F8",
           "zerolinewidth": 2
          }
         }
        },
        "title": {
         "font": {
          "size": 16
         },
         "text": "Imputing with Seasonal Interpolation <br> MAE Half Hourly=0.122 | MAE Weekday-Half Hourly=0.120",
         "x": 0.5,
         "xanchor": "center",
         "yanchor": "top"
        },
        "width": 900,
        "xaxis": {
         "anchor": "y",
         "domain": [
          0,
          1
         ],
         "tickfont": {
          "size": 15
         },
         "title": {
          "font": {
           "size": 15
          },
          "text": "Day"
         }
        },
        "yaxis": {
         "anchor": "x",
         "domain": [
          0,
          1
         ],
         "tickfont": {
          "size": 15
         },
         "title": {
          "font": {
           "size": 15
          },
          "text": "Value"
         }
        }
       }
      }
     },
     "metadata": {},
     "output_type": "display_data"
    }
   ],
   "source": [
    "plot_df = pd.melt(ts_df.loc[window,['energy_consumption', \"seas_interp_half_hour_imputed\", 'seas_interp_weekday_half_hour_imputed']].reset_index(), id_vars='timestamp', var_name=\"series\")\n",
    "fig = px.line(plot_df, x=\"timestamp\", y=[\"value\"], line_dash=\"series\", title=f\"Imputing with Seasonal Interpolation <br> MAE Half Hourly={mae_half_hour:.3f} | MAE Weekday-Half Hourly={mae_weekday_half_hour:.3f}\")\n",
    "fig = format_plot(fig, ['Original', 'Half Hourly Profile Imputed', 'Week Day-Half Hourly Profile Imputed'], title_font_size=16)\n",
    "fig.write_image(\"imgs/chapter_2/seasonal_interpolation_imputation.png\")\n",
    "fig"
   ]
  },
  {
   "cell_type": "markdown",
   "id": "49f99b3b-ac31-43a9-9858-facf381666a0",
   "metadata": {},
   "source": [
    "### Summary"
   ]
  },
  {
   "cell_type": "code",
   "execution_count": 51,
   "id": "77acadbb-17f1-4c69-8bb4-e7842ba1960b",
   "metadata": {},
   "outputs": [],
   "source": [
    "imputed_columns = [col for col in ts_df.columns if \"imputed\" in col]\n",
    "original_col = \"energy_consumption\""
   ]
  },
  {
   "cell_type": "code",
   "execution_count": 52,
   "id": "b7d9cac5-977a-4d68-9425-d033f6926e53",
   "metadata": {},
   "outputs": [],
   "source": [
    "act = ts_df.loc[window, original_col].values\n",
    "mae_d = {}\n",
    "for col in imputed_columns:\n",
    "    mae_d[col] = mean_absolute_error(act, ts_df.loc[window, col].values)"
   ]
  },
  {
   "cell_type": "code",
   "execution_count": 53,
   "id": "9012e9d4-132b-4fce-b5b7-d97c37812d6f",
   "metadata": {},
   "outputs": [
    {
     "data": {
      "text/plain": [
       "dict_keys(['prev_day_imputed', 'hourly_profile_imputed', 'day_hourly_profile_imputed', 'seas_interp_weekday_half_hour_imputed', 'seas_interp_half_hour_imputed'])"
      ]
     },
     "execution_count": 53,
     "metadata": {},
     "output_type": "execute_result"
    }
   ],
   "source": [
    "mae_d.keys()"
   ]
  },
  {
   "cell_type": "code",
   "execution_count": 54,
   "id": "453b5bc8-7ef5-40ee-b5c3-967205968a91",
   "metadata": {},
   "outputs": [],
   "source": [
    "res_df = pd.DataFrame.from_dict(mae_d, orient=\"index\").reset_index()\n",
    "res_df.columns=[\"Imputation\", \"MAE\"]\n",
    "res_df.Imputation = res_df.Imputation.map({\n",
    " 'prev_day_imputed': \"Previous Day\",\n",
    " 'hourly_profile_imputed': \"Hourly Profile\",\n",
    " 'day_hourly_profile_imputed': \"Day-Hourly Profile\",\n",
    " 'seas_interp_weekday_half_hour_imputed': \"Seasonal Interpolation Weekday-Half Hourly\",\n",
    " 'seas_interp_half_hour_imputed': \"Seasonal Interpolation Half Hourly\"\n",
    "})"
   ]
  },
  {
   "cell_type": "code",
   "execution_count": 55,
   "id": "933f98c4-370b-437b-9aab-50f7aab8f8e1",
   "metadata": {},
   "outputs": [
    {
     "data": {
      "text/html": [
       "<div>\n",
       "<style scoped>\n",
       "    .dataframe tbody tr th:only-of-type {\n",
       "        vertical-align: middle;\n",
       "    }\n",
       "\n",
       "    .dataframe tbody tr th {\n",
       "        vertical-align: top;\n",
       "    }\n",
       "\n",
       "    .dataframe thead th {\n",
       "        text-align: right;\n",
       "    }\n",
       "</style>\n",
       "<table border=\"1\" class=\"dataframe\">\n",
       "  <thead>\n",
       "    <tr style=\"text-align: right;\">\n",
       "      <th></th>\n",
       "      <th>Imputation</th>\n",
       "      <th>MAE</th>\n",
       "    </tr>\n",
       "  </thead>\n",
       "  <tbody>\n",
       "    <tr>\n",
       "      <th>0</th>\n",
       "      <td>Previous Day</td>\n",
       "      <td>0.167896</td>\n",
       "    </tr>\n",
       "    <tr>\n",
       "      <th>1</th>\n",
       "      <td>Hourly Profile</td>\n",
       "      <td>0.121326</td>\n",
       "    </tr>\n",
       "    <tr>\n",
       "      <th>2</th>\n",
       "      <td>Day-Hourly Profile</td>\n",
       "      <td>0.116652</td>\n",
       "    </tr>\n",
       "    <tr>\n",
       "      <th>3</th>\n",
       "      <td>Seasonal Interpolation Weekday-Half Hourly</td>\n",
       "      <td>0.120024</td>\n",
       "    </tr>\n",
       "    <tr>\n",
       "      <th>4</th>\n",
       "      <td>Seasonal Interpolation Half Hourly</td>\n",
       "      <td>0.121568</td>\n",
       "    </tr>\n",
       "  </tbody>\n",
       "</table>\n",
       "</div>"
      ],
      "text/plain": [
       "                                   Imputation       MAE\n",
       "0                                Previous Day  0.167896\n",
       "1                              Hourly Profile  0.121326\n",
       "2                          Day-Hourly Profile  0.116652\n",
       "3  Seasonal Interpolation Weekday-Half Hourly  0.120024\n",
       "4          Seasonal Interpolation Half Hourly  0.121568"
      ]
     },
     "execution_count": 55,
     "metadata": {},
     "output_type": "execute_result"
    }
   ],
   "source": [
    "res_df"
   ]
  },
  {
   "cell_type": "code",
   "execution_count": 56,
   "id": "140e9b7d-609a-4927-9d52-ee8e96c9b7e2",
   "metadata": {},
   "outputs": [
    {
     "data": {
      "application/vnd.plotly.v1+json": {
       "config": {
        "plotlyServerURL": "https://plot.ly"
       },
       "data": [
        {
         "hovertemplate": "variable=prev_day_imputed<br>timestamp=%{x}<br>value=%{y}<extra></extra>",
         "legendgroup": "prev_day_imputed",
         "line": {
          "color": "#636efa",
          "dash": "solid"
         },
         "marker": {
          "symbol": "circle"
         },
         "mode": "lines",
         "name": "prev_day_imputed",
         "orientation": "v",
         "showlegend": true,
         "type": "scatter",
         "x": [
          "2012-10-07T00:00:00",
          "2012-10-07T00:30:00",
          "2012-10-07T01:00:00",
          "2012-10-07T01:30:00",
          "2012-10-07T02:00:00",
          "2012-10-07T02:30:00",
          "2012-10-07T03:00:00",
          "2012-10-07T03:30:00",
          "2012-10-07T04:00:00",
          "2012-10-07T04:30:00",
          "2012-10-07T05:00:00",
          "2012-10-07T05:30:00",
          "2012-10-07T06:00:00",
          "2012-10-07T06:30:00",
          "2012-10-07T07:00:00",
          "2012-10-07T07:30:00",
          "2012-10-07T08:00:00",
          "2012-10-07T08:30:00",
          "2012-10-07T09:00:00",
          "2012-10-07T09:30:00",
          "2012-10-07T10:00:00",
          "2012-10-07T10:30:00",
          "2012-10-07T11:00:00",
          "2012-10-07T11:30:00",
          "2012-10-07T12:00:00",
          "2012-10-07T12:30:00",
          "2012-10-07T13:00:00",
          "2012-10-07T13:30:00",
          "2012-10-07T14:00:00",
          "2012-10-07T14:30:00",
          "2012-10-07T15:00:00",
          "2012-10-07T15:30:00",
          "2012-10-07T16:00:00",
          "2012-10-07T16:30:00",
          "2012-10-07T17:00:00",
          "2012-10-07T17:30:00",
          "2012-10-07T18:00:00",
          "2012-10-07T18:30:00",
          "2012-10-07T19:00:00",
          "2012-10-07T19:30:00",
          "2012-10-07T20:00:00",
          "2012-10-07T20:30:00",
          "2012-10-07T21:00:00",
          "2012-10-07T21:30:00",
          "2012-10-07T22:00:00",
          "2012-10-07T22:30:00",
          "2012-10-07T23:00:00",
          "2012-10-07T23:30:00",
          "2012-10-08T00:00:00",
          "2012-10-08T00:30:00",
          "2012-10-08T01:00:00",
          "2012-10-08T01:30:00",
          "2012-10-08T02:00:00",
          "2012-10-08T02:30:00",
          "2012-10-08T03:00:00",
          "2012-10-08T03:30:00",
          "2012-10-08T04:00:00",
          "2012-10-08T04:30:00",
          "2012-10-08T05:00:00",
          "2012-10-08T05:30:00",
          "2012-10-08T06:00:00",
          "2012-10-08T06:30:00",
          "2012-10-08T07:00:00",
          "2012-10-08T07:30:00",
          "2012-10-08T08:00:00",
          "2012-10-08T08:30:00",
          "2012-10-08T09:00:00",
          "2012-10-08T09:30:00",
          "2012-10-08T10:00:00",
          "2012-10-08T10:30:00",
          "2012-10-08T11:00:00",
          "2012-10-08T11:30:00",
          "2012-10-08T12:00:00",
          "2012-10-08T12:30:00",
          "2012-10-08T13:00:00",
          "2012-10-08T13:30:00",
          "2012-10-08T14:00:00",
          "2012-10-08T14:30:00",
          "2012-10-08T15:00:00",
          "2012-10-08T15:30:00",
          "2012-10-08T16:00:00",
          "2012-10-08T16:30:00",
          "2012-10-08T17:00:00",
          "2012-10-08T17:30:00",
          "2012-10-08T18:00:00",
          "2012-10-08T18:30:00",
          "2012-10-08T19:00:00",
          "2012-10-08T19:30:00",
          "2012-10-08T20:00:00",
          "2012-10-08T20:30:00",
          "2012-10-08T21:00:00",
          "2012-10-08T21:30:00",
          "2012-10-08T22:00:00",
          "2012-10-08T22:30:00",
          "2012-10-08T23:00:00",
          "2012-10-08T23:30:00"
         ],
         "xaxis": "x",
         "y": {
          "bdata": "7FG4HoXroT97FK5H4XqkPxsv3SQGgZU/yXa+nxovrT9MN4lBYOWgP3sUrkfheqQ/WDm0yHa+nz9aZDvfT42XP1g5tMh2vq8/2c73U+Olmz97FK5H4XqkP1zpJjEIrJw/+n5qvHSTmD8IrBxaZDuvPy/dJAaBlcM/46WbxCCwsj/FILByaJHpP8uhRbbz/ew/TDeJQWDl0D8pXI/C9SjgPzm0yHa+n9I/5/up8dJN0j9OYhBYObTQP5zEILByaNE/FwRWDi2y1T/n+6nx0k3SP8l2vp8aL90/OrTIdr6f4j/hehSuR+G6P5tFtvP91Lg/UrgehetRuD/pJjEIrBzSP5zEILByaNE/TDeJQWDl0D/n+6nx0k3SP1yPwvUoXNc/MzMzMzMz0z8830+Nl27iP6AaL90kBuE/hxbZzvdT0z/sfD81XrrRP/hT46WbxNA/g8DKoUW20z9I4XoUrkfRP83MzMzMzNQ/kxgEVg4tsj+cxCCwcmiRP0oMAiuHFqk/WmQ730+Nlz9q6SYxCKysPz/pJjEIrIw/WDm0yHa+nz97FK5H4XqkP7pJDAIrh5Y/yXa+nxovrT/6fmq8dJNoPxsv3SQGgaU/exSuR+F6pD8bL90kBoGVPwrXo3A9Cqc/uB6F61G4jj8rhxbZzvejP9Ei2/l+arw/YhBYObTItj8IrBxaZDuvP1pkO99Pjac/ObTIdr6fqj+0yHa+nxrPP8dLN4lBYPM/j8L1KFyP8D+amZmZmZnRP4LugQzTTfI/XI/C9Shc1z9mZmZmZmbmP6wcWmQ7388/TmIQWDm00D8730+Nl27SP2ZmZmZmZuI/iUFg5dAiyz8/NV66SQzSP/LSTWIQWNk/EFg5tMh2vj+q8dJNYhCoPzm0yHa+n9I/ppvEILBy0D83iUFg5dDSPz0K16NwPdI/7FG4HoXr0T8xCKwcWmTTP6AaL90kBtE/hetRuB6F0z81XrpJDALTP5HtfD81Xto/0XjpJjEIzD9q6SYxCKysPzvfT42XbqI/",
          "dtype": "f8"
         },
         "yaxis": "y"
        },
        {
         "hovertemplate": "variable=hourly_profile_imputed<br>timestamp=%{x}<br>value=%{y}<extra></extra>",
         "legendgroup": "hourly_profile_imputed",
         "line": {
          "color": "#EF553B",
          "dash": "solid"
         },
         "marker": {
          "symbol": "circle"
         },
         "mode": "lines",
         "name": "hourly_profile_imputed",
         "orientation": "v",
         "showlegend": true,
         "type": "scatter",
         "x": [
          "2012-10-07T00:00:00",
          "2012-10-07T00:30:00",
          "2012-10-07T01:00:00",
          "2012-10-07T01:30:00",
          "2012-10-07T02:00:00",
          "2012-10-07T02:30:00",
          "2012-10-07T03:00:00",
          "2012-10-07T03:30:00",
          "2012-10-07T04:00:00",
          "2012-10-07T04:30:00",
          "2012-10-07T05:00:00",
          "2012-10-07T05:30:00",
          "2012-10-07T06:00:00",
          "2012-10-07T06:30:00",
          "2012-10-07T07:00:00",
          "2012-10-07T07:30:00",
          "2012-10-07T08:00:00",
          "2012-10-07T08:30:00",
          "2012-10-07T09:00:00",
          "2012-10-07T09:30:00",
          "2012-10-07T10:00:00",
          "2012-10-07T10:30:00",
          "2012-10-07T11:00:00",
          "2012-10-07T11:30:00",
          "2012-10-07T12:00:00",
          "2012-10-07T12:30:00",
          "2012-10-07T13:00:00",
          "2012-10-07T13:30:00",
          "2012-10-07T14:00:00",
          "2012-10-07T14:30:00",
          "2012-10-07T15:00:00",
          "2012-10-07T15:30:00",
          "2012-10-07T16:00:00",
          "2012-10-07T16:30:00",
          "2012-10-07T17:00:00",
          "2012-10-07T17:30:00",
          "2012-10-07T18:00:00",
          "2012-10-07T18:30:00",
          "2012-10-07T19:00:00",
          "2012-10-07T19:30:00",
          "2012-10-07T20:00:00",
          "2012-10-07T20:30:00",
          "2012-10-07T21:00:00",
          "2012-10-07T21:30:00",
          "2012-10-07T22:00:00",
          "2012-10-07T22:30:00",
          "2012-10-07T23:00:00",
          "2012-10-07T23:30:00",
          "2012-10-08T00:00:00",
          "2012-10-08T00:30:00",
          "2012-10-08T01:00:00",
          "2012-10-08T01:30:00",
          "2012-10-08T02:00:00",
          "2012-10-08T02:30:00",
          "2012-10-08T03:00:00",
          "2012-10-08T03:30:00",
          "2012-10-08T04:00:00",
          "2012-10-08T04:30:00",
          "2012-10-08T05:00:00",
          "2012-10-08T05:30:00",
          "2012-10-08T06:00:00",
          "2012-10-08T06:30:00",
          "2012-10-08T07:00:00",
          "2012-10-08T07:30:00",
          "2012-10-08T08:00:00",
          "2012-10-08T08:30:00",
          "2012-10-08T09:00:00",
          "2012-10-08T09:30:00",
          "2012-10-08T10:00:00",
          "2012-10-08T10:30:00",
          "2012-10-08T11:00:00",
          "2012-10-08T11:30:00",
          "2012-10-08T12:00:00",
          "2012-10-08T12:30:00",
          "2012-10-08T13:00:00",
          "2012-10-08T13:30:00",
          "2012-10-08T14:00:00",
          "2012-10-08T14:30:00",
          "2012-10-08T15:00:00",
          "2012-10-08T15:30:00",
          "2012-10-08T16:00:00",
          "2012-10-08T16:30:00",
          "2012-10-08T17:00:00",
          "2012-10-08T17:30:00",
          "2012-10-08T18:00:00",
          "2012-10-08T18:30:00",
          "2012-10-08T19:00:00",
          "2012-10-08T19:30:00",
          "2012-10-08T20:00:00",
          "2012-10-08T20:30:00",
          "2012-10-08T21:00:00",
          "2012-10-08T21:30:00",
          "2012-10-08T22:00:00",
          "2012-10-08T22:30:00",
          "2012-10-08T23:00:00",
          "2012-10-08T23:30:00"
         ],
         "xaxis": "x",
         "y": {
          "bdata": "WqMioy6atT9aoyKjLpq1P3vX4jbsnqE/e9fiNuyeoT8WiG1Ypq+gPxaIbVimr6A/RKu1TV3BoD9Eq7VNXcGgP2TfPwBorKA/ZN8/AGisoD9qgY9UWj+iP2qBj1RaP6I/cZ2H+w3vrT9xnYf7De+tPzpbhCAB1L8/OluEIAHUvz/fspA/8hrUP9+ykD/yGtQ/xAlTgUtx3j/ECVOBS3HeP+0SCtdqS+I/7RIK12pL4j89Da7M4ajbPz0NrszhqNs/mClFeuuV1T+YKUV665XVPw2bDKgu+NY/DZsMqC741j8ZTnKWTInVPxlOcpZMidU/ZOqPiE0+0D9k6o+ITT7QPy0apDmTDs4/LRqkOZMOzj9rr7WgkCjQP2uvtaCQKNA/hoFlnPwl1z+GgWWc/CXXPzH+BDKOMtk/Mf4EMo4y2T8+vePy3/rTPz694/Lf+tM/+p57L8JZ0j/6nnsvwlnSPzbH9NvdE9E/Nsf0290T0T/N2546KNXLP83bnjoo1cs/WqMioy6atT9aoyKjLpq1P3vX4jbsnqE/e9fiNuyeoT8WiG1Ypq+gPxaIbVimr6A/RKu1TV3BoD9Eq7VNXcGgP2TfPwBorKA/ZN8/AGisoD9qgY9UWj+iP2qBj1RaP6I/cZ2H+w3vrT9xnYf7De+tPzpbhCAB1L8/OluEIAHUvz/fspA/8hrUP9+ykD/yGtQ/xAlTgUtx3j/ECVOBS3HeP+0SCtdqS+I/7RIK12pL4j89Da7M4ajbPz0NrszhqNs/mClFeuuV1T+YKUV665XVPw2bDKgu+NY/DZsMqC741j8ZTnKWTInVPxlOcpZMidU/ZOqPiE0+0D9k6o+ITT7QPy0apDmTDs4/LRqkOZMOzj9rr7WgkCjQP2uvtaCQKNA/hoFlnPwl1z+GgWWc/CXXPzH+BDKOMtk/Mf4EMo4y2T8+vePy3/rTPz694/Lf+tM/+p57L8JZ0j/6nnsvwlnSPzbH9NvdE9E/Nsf0290T0T/N2546KNXLP83bnjoo1cs/",
          "dtype": "f8"
         },
         "yaxis": "y"
        },
        {
         "hovertemplate": "variable=day_hourly_profile_imputed<br>timestamp=%{x}<br>value=%{y}<extra></extra>",
         "legendgroup": "day_hourly_profile_imputed",
         "line": {
          "color": "#00cc96",
          "dash": "solid"
         },
         "marker": {
          "symbol": "circle"
         },
         "mode": "lines",
         "name": "day_hourly_profile_imputed",
         "orientation": "v",
         "showlegend": true,
         "type": "scatter",
         "x": [
          "2012-10-07T00:00:00",
          "2012-10-07T00:30:00",
          "2012-10-07T01:00:00",
          "2012-10-07T01:30:00",
          "2012-10-07T02:00:00",
          "2012-10-07T02:30:00",
          "2012-10-07T03:00:00",
          "2012-10-07T03:30:00",
          "2012-10-07T04:00:00",
          "2012-10-07T04:30:00",
          "2012-10-07T05:00:00",
          "2012-10-07T05:30:00",
          "2012-10-07T06:00:00",
          "2012-10-07T06:30:00",
          "2012-10-07T07:00:00",
          "2012-10-07T07:30:00",
          "2012-10-07T08:00:00",
          "2012-10-07T08:30:00",
          "2012-10-07T09:00:00",
          "2012-10-07T09:30:00",
          "2012-10-07T10:00:00",
          "2012-10-07T10:30:00",
          "2012-10-07T11:00:00",
          "2012-10-07T11:30:00",
          "2012-10-07T12:00:00",
          "2012-10-07T12:30:00",
          "2012-10-07T13:00:00",
          "2012-10-07T13:30:00",
          "2012-10-07T14:00:00",
          "2012-10-07T14:30:00",
          "2012-10-07T15:00:00",
          "2012-10-07T15:30:00",
          "2012-10-07T16:00:00",
          "2012-10-07T16:30:00",
          "2012-10-07T17:00:00",
          "2012-10-07T17:30:00",
          "2012-10-07T18:00:00",
          "2012-10-07T18:30:00",
          "2012-10-07T19:00:00",
          "2012-10-07T19:30:00",
          "2012-10-07T20:00:00",
          "2012-10-07T20:30:00",
          "2012-10-07T21:00:00",
          "2012-10-07T21:30:00",
          "2012-10-07T22:00:00",
          "2012-10-07T22:30:00",
          "2012-10-07T23:00:00",
          "2012-10-07T23:30:00",
          "2012-10-08T00:00:00",
          "2012-10-08T00:30:00",
          "2012-10-08T01:00:00",
          "2012-10-08T01:30:00",
          "2012-10-08T02:00:00",
          "2012-10-08T02:30:00",
          "2012-10-08T03:00:00",
          "2012-10-08T03:30:00",
          "2012-10-08T04:00:00",
          "2012-10-08T04:30:00",
          "2012-10-08T05:00:00",
          "2012-10-08T05:30:00",
          "2012-10-08T06:00:00",
          "2012-10-08T06:30:00",
          "2012-10-08T07:00:00",
          "2012-10-08T07:30:00",
          "2012-10-08T08:00:00",
          "2012-10-08T08:30:00",
          "2012-10-08T09:00:00",
          "2012-10-08T09:30:00",
          "2012-10-08T10:00:00",
          "2012-10-08T10:30:00",
          "2012-10-08T11:00:00",
          "2012-10-08T11:30:00",
          "2012-10-08T12:00:00",
          "2012-10-08T12:30:00",
          "2012-10-08T13:00:00",
          "2012-10-08T13:30:00",
          "2012-10-08T14:00:00",
          "2012-10-08T14:30:00",
          "2012-10-08T15:00:00",
          "2012-10-08T15:30:00",
          "2012-10-08T16:00:00",
          "2012-10-08T16:30:00",
          "2012-10-08T17:00:00",
          "2012-10-08T17:30:00",
          "2012-10-08T18:00:00",
          "2012-10-08T18:30:00",
          "2012-10-08T19:00:00",
          "2012-10-08T19:30:00",
          "2012-10-08T20:00:00",
          "2012-10-08T20:30:00",
          "2012-10-08T21:00:00",
          "2012-10-08T21:30:00",
          "2012-10-08T22:00:00",
          "2012-10-08T22:30:00",
          "2012-10-08T23:00:00",
          "2012-10-08T23:30:00"
         ],
         "xaxis": "x",
         "y": {
          "bdata": "AIhwGy5QuD8AiHAbLlC4P1bNdhlvBqE/Vs12GW8GoT80gJbQFxahPzSAltAXFqE/KaTW0Z75nz8ppNbRnvmfP0NcsZ58NKA/Q1yxnnw0oD9pRXI78L2gP2lFcjvwvaA/4xb1AWR6qz/jFvUBZHqrPwGqEOGJaLg/AaoQ4YlouD/jgeHlccTNP+OB4eVxxM0/TbNYN9i+2j9Ns1g32L7aP8X8V7Php+U/xfxXs+Gn5T87bqdfaCXiPztup19oJeI/MpZ2YoGx3j8ylnZigbHeP/vt+NBQCeQ/++340FAJ5D+C6Y3f8zDhP4Lpjd/zMOE/Ope5jQIf1T86l7mNAh/VPykCr4LF5s8/KQKvgsXmzz8zI7Qb/5TPPzMjtBv/lM8/ho/1P3Nt0T+Gj/U/c23RP6haDoiBidE/qFoOiIGJ0T+tPBzS8x/RP608HNLzH9E/aclTVYxl0T9pyVNVjGXRP2FauWGwbM8/YVq5YbBszz+SI2ffBrnLP5IjZ98Gucs/qeWAGJgYrz+p5YAYmBivP5zjVZGBP6A/nONVkYE/oD/9mvj3hi2gP/2a+PeGLaA/UAHzID6Mnj9QAfMgPoyeP3S0Z/63uKA/dLRn/re4oD/afNP3rrKhP9p80/eusqE/KFyPwvUorD8oXI/C9SisP4c4tVUDaLk/hzi1VQNouT8nnjQH9n3SPyeeNAf2fdI/GIQddZs23z8YhB11mzbfP5k5ED+E2+A/mTkQP4Tb4D/gXx/e3jPWP+BfH97eM9Y/CZTH37vK0j8JlMffu8rSP1w0QvoSLdU/XDRC+hIt1T84sIhlGHbUPziwiGUYdtQ/M5SrORpdyz8zlKs5Gl3LP/Ke2Kp90so/8p7Yqn3Syj/+DWxOHcvNP/4NbE4dy80/zLZCe4uw1z/MtkJ7i7DXP3D+vEe02dw/cP68R7TZ3D8FKOBw3JHUPwUo4HDckdQ/SIUenAIw0z9IhR6cAjDTPyzEmD9XOtE/LMSYP1c60T+z7Gxe/gHKP7PsbF7+Aco/",
          "dtype": "f8"
         },
         "yaxis": "y"
        },
        {
         "hovertemplate": "variable=seas_interp_weekday_half_hour_imputed<br>timestamp=%{x}<br>value=%{y}<extra></extra>",
         "legendgroup": "seas_interp_weekday_half_hour_imputed",
         "line": {
          "color": "#ab63fa",
          "dash": "solid"
         },
         "marker": {
          "symbol": "circle"
         },
         "mode": "lines",
         "name": "seas_interp_weekday_half_hour_imputed",
         "orientation": "v",
         "showlegend": true,
         "type": "scatter",
         "x": [
          "2012-10-07T00:00:00",
          "2012-10-07T00:30:00",
          "2012-10-07T01:00:00",
          "2012-10-07T01:30:00",
          "2012-10-07T02:00:00",
          "2012-10-07T02:30:00",
          "2012-10-07T03:00:00",
          "2012-10-07T03:30:00",
          "2012-10-07T04:00:00",
          "2012-10-07T04:30:00",
          "2012-10-07T05:00:00",
          "2012-10-07T05:30:00",
          "2012-10-07T06:00:00",
          "2012-10-07T06:30:00",
          "2012-10-07T07:00:00",
          "2012-10-07T07:30:00",
          "2012-10-07T08:00:00",
          "2012-10-07T08:30:00",
          "2012-10-07T09:00:00",
          "2012-10-07T09:30:00",
          "2012-10-07T10:00:00",
          "2012-10-07T10:30:00",
          "2012-10-07T11:00:00",
          "2012-10-07T11:30:00",
          "2012-10-07T12:00:00",
          "2012-10-07T12:30:00",
          "2012-10-07T13:00:00",
          "2012-10-07T13:30:00",
          "2012-10-07T14:00:00",
          "2012-10-07T14:30:00",
          "2012-10-07T15:00:00",
          "2012-10-07T15:30:00",
          "2012-10-07T16:00:00",
          "2012-10-07T16:30:00",
          "2012-10-07T17:00:00",
          "2012-10-07T17:30:00",
          "2012-10-07T18:00:00",
          "2012-10-07T18:30:00",
          "2012-10-07T19:00:00",
          "2012-10-07T19:30:00",
          "2012-10-07T20:00:00",
          "2012-10-07T20:30:00",
          "2012-10-07T21:00:00",
          "2012-10-07T21:30:00",
          "2012-10-07T22:00:00",
          "2012-10-07T22:30:00",
          "2012-10-07T23:00:00",
          "2012-10-07T23:30:00",
          "2012-10-08T00:00:00",
          "2012-10-08T00:30:00",
          "2012-10-08T01:00:00",
          "2012-10-08T01:30:00",
          "2012-10-08T02:00:00",
          "2012-10-08T02:30:00",
          "2012-10-08T03:00:00",
          "2012-10-08T03:30:00",
          "2012-10-08T04:00:00",
          "2012-10-08T04:30:00",
          "2012-10-08T05:00:00",
          "2012-10-08T05:30:00",
          "2012-10-08T06:00:00",
          "2012-10-08T06:30:00",
          "2012-10-08T07:00:00",
          "2012-10-08T07:30:00",
          "2012-10-08T08:00:00",
          "2012-10-08T08:30:00",
          "2012-10-08T09:00:00",
          "2012-10-08T09:30:00",
          "2012-10-08T10:00:00",
          "2012-10-08T10:30:00",
          "2012-10-08T11:00:00",
          "2012-10-08T11:30:00",
          "2012-10-08T12:00:00",
          "2012-10-08T12:30:00",
          "2012-10-08T13:00:00",
          "2012-10-08T13:30:00",
          "2012-10-08T14:00:00",
          "2012-10-08T14:30:00",
          "2012-10-08T15:00:00",
          "2012-10-08T15:30:00",
          "2012-10-08T16:00:00",
          "2012-10-08T16:30:00",
          "2012-10-08T17:00:00",
          "2012-10-08T17:30:00",
          "2012-10-08T18:00:00",
          "2012-10-08T18:30:00",
          "2012-10-08T19:00:00",
          "2012-10-08T19:30:00",
          "2012-10-08T20:00:00",
          "2012-10-08T20:30:00",
          "2012-10-08T21:00:00",
          "2012-10-08T21:30:00",
          "2012-10-08T22:00:00",
          "2012-10-08T22:30:00",
          "2012-10-08T23:00:00",
          "2012-10-08T23:30:00"
         ],
         "xaxis": "x",
         "y": {
          "bdata": "8lIY3ntgwD8glkHEJsKrPxAZ8FqRFqA/cAPxgLEunD/g9aE2UhCdPwCKNYLySZ8/CAFSManFmj8AmmRIPx+dP/CgPSsC4Js/oDxNh0OpnD8A02Dgt6KdP8DB59HsLZ0/QPBJY71XoD+47C+r5EuxPxwO8D0NYbI/TD96kicavD/gHq0186nFP4li89hQZ9I/exSA5zfc1j+ME2SEeP3dP94+/i/v0+I/uwWRmTec5z/geoso2BXkP4Ue0alnIt8/jfXVOaY13D95gCfOEgzgP7ivsXB5huQ/4V9/UIIp4z/Pn5XM3o3jP/d3jWU8r9w/rqptxaEX1j9BvG8m0GLTP0JL5Svg69A/xr0NCPVnzD+J4qbdV1nNPy80i3e8OtA/8CuLS8Zp0D+WnBu/UaTRPy5H9FzmBdE/9Myhq+s90T/B8GOm1WXQP4XyTvbcCdE/aXhzx5Hv0D85c0anBQXRP9YgY+Ei19A/Rmp6VFRyyz9LoFqZgGjKP5oiVmDY6cs/ZAaSweqOtD+ohjK21qSgP5DaZoHSZJw/ANqLJ1XJmz+wvyqEncabPzDDz/cG55s/0DcwUF6zmz/InTDfHZmYP4CR9MEUHJ0/OPUn21O/nD9QmjwutmqfP7jNQDt1jZ4/hByWZRSUpT9s8jYl7TGuP146F3wkhLI/59Bl2cQWvT8DsQgz4krMP6J4gP7gqtU/3Je6FiRJ3D/LxcCjM4jgPyN5aAR2J+E/ui9p4X8N4D9odls+lhTXP8AhPcVIddQ/+LbGew7f0j8mI3jcNVXRPxYJE4vrCNI/awZXJImR1z+JO5Yylg3WP7Qhu+cVJ9I/BlezYe7bzD8cJdzcgSvIP8Wj6VNXU8g/Ipc2KrS7yz9VnOIXCUDMP9WWooM7ys0/o1sKbDVE0z/697JLf6/aP2CsWa/reNs/BVmngZ5U3T/j5qG3U8/UP+lz8pZnc9M/6NXl91u10j8gnPDy9MjSP1ZesDHiJ9I/kJ6ybGTuzj/OvOKe+mXMP2zMk1JKbcY/",
          "dtype": "f8"
         },
         "yaxis": "y"
        },
        {
         "hovertemplate": "variable=seas_interp_half_hour_imputed<br>timestamp=%{x}<br>value=%{y}<extra></extra>",
         "legendgroup": "seas_interp_half_hour_imputed",
         "line": {
          "color": "#FFA15A",
          "dash": "solid"
         },
         "marker": {
          "symbol": "circle"
         },
         "mode": "lines",
         "name": "seas_interp_half_hour_imputed",
         "orientation": "v",
         "showlegend": true,
         "type": "scatter",
         "x": [
          "2012-10-07T00:00:00",
          "2012-10-07T00:30:00",
          "2012-10-07T01:00:00",
          "2012-10-07T01:30:00",
          "2012-10-07T02:00:00",
          "2012-10-07T02:30:00",
          "2012-10-07T03:00:00",
          "2012-10-07T03:30:00",
          "2012-10-07T04:00:00",
          "2012-10-07T04:30:00",
          "2012-10-07T05:00:00",
          "2012-10-07T05:30:00",
          "2012-10-07T06:00:00",
          "2012-10-07T06:30:00",
          "2012-10-07T07:00:00",
          "2012-10-07T07:30:00",
          "2012-10-07T08:00:00",
          "2012-10-07T08:30:00",
          "2012-10-07T09:00:00",
          "2012-10-07T09:30:00",
          "2012-10-07T10:00:00",
          "2012-10-07T10:30:00",
          "2012-10-07T11:00:00",
          "2012-10-07T11:30:00",
          "2012-10-07T12:00:00",
          "2012-10-07T12:30:00",
          "2012-10-07T13:00:00",
          "2012-10-07T13:30:00",
          "2012-10-07T14:00:00",
          "2012-10-07T14:30:00",
          "2012-10-07T15:00:00",
          "2012-10-07T15:30:00",
          "2012-10-07T16:00:00",
          "2012-10-07T16:30:00",
          "2012-10-07T17:00:00",
          "2012-10-07T17:30:00",
          "2012-10-07T18:00:00",
          "2012-10-07T18:30:00",
          "2012-10-07T19:00:00",
          "2012-10-07T19:30:00",
          "2012-10-07T20:00:00",
          "2012-10-07T20:30:00",
          "2012-10-07T21:00:00",
          "2012-10-07T21:30:00",
          "2012-10-07T22:00:00",
          "2012-10-07T22:30:00",
          "2012-10-07T23:00:00",
          "2012-10-07T23:30:00",
          "2012-10-08T00:00:00",
          "2012-10-08T00:30:00",
          "2012-10-08T01:00:00",
          "2012-10-08T01:30:00",
          "2012-10-08T02:00:00",
          "2012-10-08T02:30:00",
          "2012-10-08T03:00:00",
          "2012-10-08T03:30:00",
          "2012-10-08T04:00:00",
          "2012-10-08T04:30:00",
          "2012-10-08T05:00:00",
          "2012-10-08T05:30:00",
          "2012-10-08T06:00:00",
          "2012-10-08T06:30:00",
          "2012-10-08T07:00:00",
          "2012-10-08T07:30:00",
          "2012-10-08T08:00:00",
          "2012-10-08T08:30:00",
          "2012-10-08T09:00:00",
          "2012-10-08T09:30:00",
          "2012-10-08T10:00:00",
          "2012-10-08T10:30:00",
          "2012-10-08T11:00:00",
          "2012-10-08T11:30:00",
          "2012-10-08T12:00:00",
          "2012-10-08T12:30:00",
          "2012-10-08T13:00:00",
          "2012-10-08T13:30:00",
          "2012-10-08T14:00:00",
          "2012-10-08T14:30:00",
          "2012-10-08T15:00:00",
          "2012-10-08T15:30:00",
          "2012-10-08T16:00:00",
          "2012-10-08T16:30:00",
          "2012-10-08T17:00:00",
          "2012-10-08T17:30:00",
          "2012-10-08T18:00:00",
          "2012-10-08T18:30:00",
          "2012-10-08T19:00:00",
          "2012-10-08T19:30:00",
          "2012-10-08T20:00:00",
          "2012-10-08T20:30:00",
          "2012-10-08T21:00:00",
          "2012-10-08T21:30:00",
          "2012-10-08T22:00:00",
          "2012-10-08T22:30:00",
          "2012-10-08T23:00:00",
          "2012-10-08T23:30:00"
         ],
         "xaxis": "x",
         "y": {
          "bdata": "qv1aOt0tvj+0H9fn6kekP2i0yRC6o58/8BnN0xN7mz/4OpG9xHqbP2h9D9nH25s/mJr4RzcgnD9AR2jns4ibPxCWrTRr4Js/kKTZfzV2mz+IKbGnQC2cP0jhQHiMwqA/sHQqKhz3pT8S23FFeBywP8i8Y8aFWLc/PuV7YM2fwj/GfjyhaX/PP6R+uWt3ntc/aF5NdDF02z8D49XZhkfgP5tNUzFhBeI/uo4o57gM4j9EEgyB3ZPeP6hQQIzs0Nc/Ml77Z1pv1T9/B2d3OsjUP0JpFmz049U/NXQJ09M51z8g2G0lYOzWP9CksIUtTtM/OFm8XjHg0D+9m1H0tZTNP1MoQ0ezqMw/k9owk6bUzT93H8a+nO3OP3hdgjbQDdA/yjkqV2xK1D9oTKFt2BPZPzS5coJo29g/Dvplk5+t2D8KrtwhjYnUP3Az0Mrhk9I/ZrSV2eXS0T8eAK4LQAfSP2ucg0A+v9E/6UejNrIfzz9bX6SzmOPLP4fj2js+Pso/NnQmBE0fvj94ycdRyiqkP9DgdZF4aZ8/+H5bAdJAmz8QOBmYgkCbPyByqGCFoZs/qOa5fPTlmz8oSmnJcE6bP3ivBcQnpps/CDSgvPE7mz+ojv2R/PKbP2yuNURqpaA/RIz5zPnZpT/wY0wC5w2wP6Yat270Sbc/oOpkqoSYwj+KxufgIHjPP7O5cQbTmtc/nKbpCY1w2z+syBaitEXgP9CvB/eOA+I/dyhRquYK4j/IKkcCOZDePzHEZghIzdc/uqIO37Vr1T/8kmjplcTUP6+xB9lP4NU/iu/rOi821z9X/EKIu+jWP+TneeOIStM/IjF7t4zc0D8vYb2bbI3NP1bvn+Rpocw/GI+BJl3NzT9yrQ1IU+bOPysHI3YrCtA/KzzJkcdG1D9uHUCjMxDZP9zOErPD19g/UMoIv/qp2D/eroNI6IXUP9LafOw8kNI/T3hJ9kDP0T+EVmojmwPSP0r7SVOZu9E/jAJHUmgYzz/TAmLFTtzLP8pbtUP0Nso/",
          "dtype": "f8"
         },
         "yaxis": "y"
        },
        {
         "hovertemplate": "variable=energy_consumption<br>timestamp=%{x}<br>value=%{y}<extra></extra>",
         "legendgroup": "energy_consumption",
         "line": {
          "color": "#19d3f3",
          "dash": "solid"
         },
         "marker": {
          "symbol": "circle"
         },
         "mode": "lines",
         "name": "energy_consumption",
         "orientation": "v",
         "showlegend": true,
         "type": "scatter",
         "x": [
          "2012-10-07T00:00:00",
          "2012-10-07T00:30:00",
          "2012-10-07T01:00:00",
          "2012-10-07T01:30:00",
          "2012-10-07T02:00:00",
          "2012-10-07T02:30:00",
          "2012-10-07T03:00:00",
          "2012-10-07T03:30:00",
          "2012-10-07T04:00:00",
          "2012-10-07T04:30:00",
          "2012-10-07T05:00:00",
          "2012-10-07T05:30:00",
          "2012-10-07T06:00:00",
          "2012-10-07T06:30:00",
          "2012-10-07T07:00:00",
          "2012-10-07T07:30:00",
          "2012-10-07T08:00:00",
          "2012-10-07T08:30:00",
          "2012-10-07T09:00:00",
          "2012-10-07T09:30:00",
          "2012-10-07T10:00:00",
          "2012-10-07T10:30:00",
          "2012-10-07T11:00:00",
          "2012-10-07T11:30:00",
          "2012-10-07T12:00:00",
          "2012-10-07T12:30:00",
          "2012-10-07T13:00:00",
          "2012-10-07T13:30:00",
          "2012-10-07T14:00:00",
          "2012-10-07T14:30:00",
          "2012-10-07T15:00:00",
          "2012-10-07T15:30:00",
          "2012-10-07T16:00:00",
          "2012-10-07T16:30:00",
          "2012-10-07T17:00:00",
          "2012-10-07T17:30:00",
          "2012-10-07T18:00:00",
          "2012-10-07T18:30:00",
          "2012-10-07T19:00:00",
          "2012-10-07T19:30:00",
          "2012-10-07T20:00:00",
          "2012-10-07T20:30:00",
          "2012-10-07T21:00:00",
          "2012-10-07T21:30:00",
          "2012-10-07T22:00:00",
          "2012-10-07T22:30:00",
          "2012-10-07T23:00:00",
          "2012-10-07T23:30:00",
          "2012-10-08T00:00:00",
          "2012-10-08T00:30:00",
          "2012-10-08T01:00:00",
          "2012-10-08T01:30:00",
          "2012-10-08T02:00:00",
          "2012-10-08T02:30:00",
          "2012-10-08T03:00:00",
          "2012-10-08T03:30:00",
          "2012-10-08T04:00:00",
          "2012-10-08T04:30:00",
          "2012-10-08T05:00:00",
          "2012-10-08T05:30:00",
          "2012-10-08T06:00:00",
          "2012-10-08T06:30:00",
          "2012-10-08T07:00:00",
          "2012-10-08T07:30:00",
          "2012-10-08T08:00:00",
          "2012-10-08T08:30:00",
          "2012-10-08T09:00:00",
          "2012-10-08T09:30:00",
          "2012-10-08T10:00:00",
          "2012-10-08T10:30:00",
          "2012-10-08T11:00:00",
          "2012-10-08T11:30:00",
          "2012-10-08T12:00:00",
          "2012-10-08T12:30:00",
          "2012-10-08T13:00:00",
          "2012-10-08T13:30:00",
          "2012-10-08T14:00:00",
          "2012-10-08T14:30:00",
          "2012-10-08T15:00:00",
          "2012-10-08T15:30:00",
          "2012-10-08T16:00:00",
          "2012-10-08T16:30:00",
          "2012-10-08T17:00:00",
          "2012-10-08T17:30:00",
          "2012-10-08T18:00:00",
          "2012-10-08T18:30:00",
          "2012-10-08T19:00:00",
          "2012-10-08T19:30:00",
          "2012-10-08T20:00:00",
          "2012-10-08T20:30:00",
          "2012-10-08T21:00:00",
          "2012-10-08T21:30:00",
          "2012-10-08T22:00:00",
          "2012-10-08T22:30:00",
          "2012-10-08T23:00:00",
          "2012-10-08T23:30:00"
         ],
         "xaxis": "x",
         "y": {
          "bdata": "WmQ730+Nlz9q6SYxCKysPz/pJjEIrIw/WDm0yHa+nz97FK5H4XqkP7pJDAIrh5Y/yXa+nxovrT/6fmq8dJNoPxsv3SQGgaU/exSuR+F6pD8bL90kBoGVPwrXo3A9Cqc/uB6F61G4jj8rhxbZzvejP9Ei2/l+arw/YhBYObTItj8IrBxaZDuvP1pkO99Pjac/ObTIdr6fqj+0yHa+nxrPP8dLN4lBYPM/j8L1KFyP8D+amZmZmZnRP4LugQzTTfI/XI/C9Shc1z9mZmZmZmbmP6wcWmQ7388/TmIQWDm00D8730+Nl27SP2ZmZmZmZuI/iUFg5dAiyz8/NV66SQzSP/LSTWIQWNk/EFg5tMh2vj+q8dJNYhCoPzm0yHa+n9I/ppvEILBy0D83iUFg5dDSPz0K16NwPdI/7FG4HoXr0T8xCKwcWmTTP6AaL90kBtE/hetRuB6F0z81XrpJDALTP5HtfD81Xto/0XjpJjEIzD9q6SYxCKysPzvfT42XbqI/nMQgsHJooT/b+X5qvHSjP7pJDAIrh4Y/6SYxCKwcqj9aZDvfT42XPylcj8L1KKw/O99PjZdugj+LbOf7qfGiP+xRuB6F66E/O99PjZduoj+LbOf7qfGiP3sUrkfheoQ/iUFg5dAiqz9aZDvfT42XP0jhehSuR9E/0XjpJjEIzD9QjZduEoPQPylcj8L1KOw/jGzn+6nx5j8AAAAAAADQPyPb+X5qvNQ/H4XrUbge4T/sUbgehevRP9NNYhBYOdQ/kxgEVg4t6j+amZmZmZnlP9Ei2/l+atQ/CgRWDi2yrT9oke18PzWuP/p+arx0k9A/xSCwcmiR1T+JQWDl0CLLPxBYObTIds4/jZduEoPAyj+4HoXrUbjOP8P1KFyPwsU/LbKd76fG5z9pke18PzXqPxsv3SQGgdU/kxgEVg4t0j83iUFg5dDSP0Bg5dAi29E//tR46SYx0D+BlUOLbOfTPwwCK4cW2dY/cukmMQisvD/8qfHSTWKQPzm0yHa+n5o/",
          "dtype": "f8"
         },
         "yaxis": "y"
        }
       ],
       "layout": {
        "legend": {
         "title": {
          "text": "variable"
         },
         "tracegroupgap": 0
        },
        "margin": {
         "t": 60
        },
        "template": {
         "data": {
          "bar": [
           {
            "error_x": {
             "color": "#2a3f5f"
            },
            "error_y": {
             "color": "#2a3f5f"
            },
            "marker": {
             "line": {
              "color": "white",
              "width": 0.5
             },
             "pattern": {
              "fillmode": "overlay",
              "size": 10,
              "solidity": 0.2
             }
            },
            "type": "bar"
           }
          ],
          "barpolar": [
           {
            "marker": {
             "line": {
              "color": "white",
              "width": 0.5
             },
             "pattern": {
              "fillmode": "overlay",
              "size": 10,
              "solidity": 0.2
             }
            },
            "type": "barpolar"
           }
          ],
          "carpet": [
           {
            "aaxis": {
             "endlinecolor": "#2a3f5f",
             "gridcolor": "#C8D4E3",
             "linecolor": "#C8D4E3",
             "minorgridcolor": "#C8D4E3",
             "startlinecolor": "#2a3f5f"
            },
            "baxis": {
             "endlinecolor": "#2a3f5f",
             "gridcolor": "#C8D4E3",
             "linecolor": "#C8D4E3",
             "minorgridcolor": "#C8D4E3",
             "startlinecolor": "#2a3f5f"
            },
            "type": "carpet"
           }
          ],
          "choropleth": [
           {
            "colorbar": {
             "outlinewidth": 0,
             "ticks": ""
            },
            "type": "choropleth"
           }
          ],
          "contour": [
           {
            "colorbar": {
             "outlinewidth": 0,
             "ticks": ""
            },
            "colorscale": [
             [
              0,
              "#0d0887"
             ],
             [
              0.1111111111111111,
              "#46039f"
             ],
             [
              0.2222222222222222,
              "#7201a8"
             ],
             [
              0.3333333333333333,
              "#9c179e"
             ],
             [
              0.4444444444444444,
              "#bd3786"
             ],
             [
              0.5555555555555556,
              "#d8576b"
             ],
             [
              0.6666666666666666,
              "#ed7953"
             ],
             [
              0.7777777777777778,
              "#fb9f3a"
             ],
             [
              0.8888888888888888,
              "#fdca26"
             ],
             [
              1,
              "#f0f921"
             ]
            ],
            "type": "contour"
           }
          ],
          "contourcarpet": [
           {
            "colorbar": {
             "outlinewidth": 0,
             "ticks": ""
            },
            "type": "contourcarpet"
           }
          ],
          "heatmap": [
           {
            "colorbar": {
             "outlinewidth": 0,
             "ticks": ""
            },
            "colorscale": [
             [
              0,
              "#0d0887"
             ],
             [
              0.1111111111111111,
              "#46039f"
             ],
             [
              0.2222222222222222,
              "#7201a8"
             ],
             [
              0.3333333333333333,
              "#9c179e"
             ],
             [
              0.4444444444444444,
              "#bd3786"
             ],
             [
              0.5555555555555556,
              "#d8576b"
             ],
             [
              0.6666666666666666,
              "#ed7953"
             ],
             [
              0.7777777777777778,
              "#fb9f3a"
             ],
             [
              0.8888888888888888,
              "#fdca26"
             ],
             [
              1,
              "#f0f921"
             ]
            ],
            "type": "heatmap"
           }
          ],
          "histogram": [
           {
            "marker": {
             "pattern": {
              "fillmode": "overlay",
              "size": 10,
              "solidity": 0.2
             }
            },
            "type": "histogram"
           }
          ],
          "histogram2d": [
           {
            "colorbar": {
             "outlinewidth": 0,
             "ticks": ""
            },
            "colorscale": [
             [
              0,
              "#0d0887"
             ],
             [
              0.1111111111111111,
              "#46039f"
             ],
             [
              0.2222222222222222,
              "#7201a8"
             ],
             [
              0.3333333333333333,
              "#9c179e"
             ],
             [
              0.4444444444444444,
              "#bd3786"
             ],
             [
              0.5555555555555556,
              "#d8576b"
             ],
             [
              0.6666666666666666,
              "#ed7953"
             ],
             [
              0.7777777777777778,
              "#fb9f3a"
             ],
             [
              0.8888888888888888,
              "#fdca26"
             ],
             [
              1,
              "#f0f921"
             ]
            ],
            "type": "histogram2d"
           }
          ],
          "histogram2dcontour": [
           {
            "colorbar": {
             "outlinewidth": 0,
             "ticks": ""
            },
            "colorscale": [
             [
              0,
              "#0d0887"
             ],
             [
              0.1111111111111111,
              "#46039f"
             ],
             [
              0.2222222222222222,
              "#7201a8"
             ],
             [
              0.3333333333333333,
              "#9c179e"
             ],
             [
              0.4444444444444444,
              "#bd3786"
             ],
             [
              0.5555555555555556,
              "#d8576b"
             ],
             [
              0.6666666666666666,
              "#ed7953"
             ],
             [
              0.7777777777777778,
              "#fb9f3a"
             ],
             [
              0.8888888888888888,
              "#fdca26"
             ],
             [
              1,
              "#f0f921"
             ]
            ],
            "type": "histogram2dcontour"
           }
          ],
          "mesh3d": [
           {
            "colorbar": {
             "outlinewidth": 0,
             "ticks": ""
            },
            "type": "mesh3d"
           }
          ],
          "parcoords": [
           {
            "line": {
             "colorbar": {
              "outlinewidth": 0,
              "ticks": ""
             }
            },
            "type": "parcoords"
           }
          ],
          "pie": [
           {
            "automargin": true,
            "type": "pie"
           }
          ],
          "scatter": [
           {
            "fillpattern": {
             "fillmode": "overlay",
             "size": 10,
             "solidity": 0.2
            },
            "type": "scatter"
           }
          ],
          "scatter3d": [
           {
            "line": {
             "colorbar": {
              "outlinewidth": 0,
              "ticks": ""
             }
            },
            "marker": {
             "colorbar": {
              "outlinewidth": 0,
              "ticks": ""
             }
            },
            "type": "scatter3d"
           }
          ],
          "scattercarpet": [
           {
            "marker": {
             "colorbar": {
              "outlinewidth": 0,
              "ticks": ""
             }
            },
            "type": "scattercarpet"
           }
          ],
          "scattergeo": [
           {
            "marker": {
             "colorbar": {
              "outlinewidth": 0,
              "ticks": ""
             }
            },
            "type": "scattergeo"
           }
          ],
          "scattergl": [
           {
            "marker": {
             "colorbar": {
              "outlinewidth": 0,
              "ticks": ""
             }
            },
            "type": "scattergl"
           }
          ],
          "scattermap": [
           {
            "marker": {
             "colorbar": {
              "outlinewidth": 0,
              "ticks": ""
             }
            },
            "type": "scattermap"
           }
          ],
          "scattermapbox": [
           {
            "marker": {
             "colorbar": {
              "outlinewidth": 0,
              "ticks": ""
             }
            },
            "type": "scattermapbox"
           }
          ],
          "scatterpolar": [
           {
            "marker": {
             "colorbar": {
              "outlinewidth": 0,
              "ticks": ""
             }
            },
            "type": "scatterpolar"
           }
          ],
          "scatterpolargl": [
           {
            "marker": {
             "colorbar": {
              "outlinewidth": 0,
              "ticks": ""
             }
            },
            "type": "scatterpolargl"
           }
          ],
          "scatterternary": [
           {
            "marker": {
             "colorbar": {
              "outlinewidth": 0,
              "ticks": ""
             }
            },
            "type": "scatterternary"
           }
          ],
          "surface": [
           {
            "colorbar": {
             "outlinewidth": 0,
             "ticks": ""
            },
            "colorscale": [
             [
              0,
              "#0d0887"
             ],
             [
              0.1111111111111111,
              "#46039f"
             ],
             [
              0.2222222222222222,
              "#7201a8"
             ],
             [
              0.3333333333333333,
              "#9c179e"
             ],
             [
              0.4444444444444444,
              "#bd3786"
             ],
             [
              0.5555555555555556,
              "#d8576b"
             ],
             [
              0.6666666666666666,
              "#ed7953"
             ],
             [
              0.7777777777777778,
              "#fb9f3a"
             ],
             [
              0.8888888888888888,
              "#fdca26"
             ],
             [
              1,
              "#f0f921"
             ]
            ],
            "type": "surface"
           }
          ],
          "table": [
           {
            "cells": {
             "fill": {
              "color": "#EBF0F8"
             },
             "line": {
              "color": "white"
             }
            },
            "header": {
             "fill": {
              "color": "#C8D4E3"
             },
             "line": {
              "color": "white"
             }
            },
            "type": "table"
           }
          ]
         },
         "layout": {
          "annotationdefaults": {
           "arrowcolor": "#2a3f5f",
           "arrowhead": 0,
           "arrowwidth": 1
          },
          "autotypenumbers": "strict",
          "coloraxis": {
           "colorbar": {
            "outlinewidth": 0,
            "ticks": ""
           }
          },
          "colorscale": {
           "diverging": [
            [
             0,
             "#8e0152"
            ],
            [
             0.1,
             "#c51b7d"
            ],
            [
             0.2,
             "#de77ae"
            ],
            [
             0.3,
             "#f1b6da"
            ],
            [
             0.4,
             "#fde0ef"
            ],
            [
             0.5,
             "#f7f7f7"
            ],
            [
             0.6,
             "#e6f5d0"
            ],
            [
             0.7,
             "#b8e186"
            ],
            [
             0.8,
             "#7fbc41"
            ],
            [
             0.9,
             "#4d9221"
            ],
            [
             1,
             "#276419"
            ]
           ],
           "sequential": [
            [
             0,
             "#0d0887"
            ],
            [
             0.1111111111111111,
             "#46039f"
            ],
            [
             0.2222222222222222,
             "#7201a8"
            ],
            [
             0.3333333333333333,
             "#9c179e"
            ],
            [
             0.4444444444444444,
             "#bd3786"
            ],
            [
             0.5555555555555556,
             "#d8576b"
            ],
            [
             0.6666666666666666,
             "#ed7953"
            ],
            [
             0.7777777777777778,
             "#fb9f3a"
            ],
            [
             0.8888888888888888,
             "#fdca26"
            ],
            [
             1,
             "#f0f921"
            ]
           ],
           "sequentialminus": [
            [
             0,
             "#0d0887"
            ],
            [
             0.1111111111111111,
             "#46039f"
            ],
            [
             0.2222222222222222,
             "#7201a8"
            ],
            [
             0.3333333333333333,
             "#9c179e"
            ],
            [
             0.4444444444444444,
             "#bd3786"
            ],
            [
             0.5555555555555556,
             "#d8576b"
            ],
            [
             0.6666666666666666,
             "#ed7953"
            ],
            [
             0.7777777777777778,
             "#fb9f3a"
            ],
            [
             0.8888888888888888,
             "#fdca26"
            ],
            [
             1,
             "#f0f921"
            ]
           ]
          },
          "colorway": [
           "#636efa",
           "#EF553B",
           "#00cc96",
           "#ab63fa",
           "#FFA15A",
           "#19d3f3",
           "#FF6692",
           "#B6E880",
           "#FF97FF",
           "#FECB52"
          ],
          "font": {
           "color": "#2a3f5f"
          },
          "geo": {
           "bgcolor": "white",
           "lakecolor": "white",
           "landcolor": "white",
           "showlakes": true,
           "showland": true,
           "subunitcolor": "#C8D4E3"
          },
          "hoverlabel": {
           "align": "left"
          },
          "hovermode": "closest",
          "mapbox": {
           "style": "light"
          },
          "paper_bgcolor": "white",
          "plot_bgcolor": "white",
          "polar": {
           "angularaxis": {
            "gridcolor": "#EBF0F8",
            "linecolor": "#EBF0F8",
            "ticks": ""
           },
           "bgcolor": "white",
           "radialaxis": {
            "gridcolor": "#EBF0F8",
            "linecolor": "#EBF0F8",
            "ticks": ""
           }
          },
          "scene": {
           "xaxis": {
            "backgroundcolor": "white",
            "gridcolor": "#DFE8F3",
            "gridwidth": 2,
            "linecolor": "#EBF0F8",
            "showbackground": true,
            "ticks": "",
            "zerolinecolor": "#EBF0F8"
           },
           "yaxis": {
            "backgroundcolor": "white",
            "gridcolor": "#DFE8F3",
            "gridwidth": 2,
            "linecolor": "#EBF0F8",
            "showbackground": true,
            "ticks": "",
            "zerolinecolor": "#EBF0F8"
           },
           "zaxis": {
            "backgroundcolor": "white",
            "gridcolor": "#DFE8F3",
            "gridwidth": 2,
            "linecolor": "#EBF0F8",
            "showbackground": true,
            "ticks": "",
            "zerolinecolor": "#EBF0F8"
           }
          },
          "shapedefaults": {
           "line": {
            "color": "#2a3f5f"
           }
          },
          "ternary": {
           "aaxis": {
            "gridcolor": "#DFE8F3",
            "linecolor": "#A2B1C6",
            "ticks": ""
           },
           "baxis": {
            "gridcolor": "#DFE8F3",
            "linecolor": "#A2B1C6",
            "ticks": ""
           },
           "bgcolor": "white",
           "caxis": {
            "gridcolor": "#DFE8F3",
            "linecolor": "#A2B1C6",
            "ticks": ""
           }
          },
          "title": {
           "x": 0.05
          },
          "xaxis": {
           "automargin": true,
           "gridcolor": "#EBF0F8",
           "linecolor": "#EBF0F8",
           "ticks": "",
           "title": {
            "standoff": 15
           },
           "zerolinecolor": "#EBF0F8",
           "zerolinewidth": 2
          },
          "yaxis": {
           "automargin": true,
           "gridcolor": "#EBF0F8",
           "linecolor": "#EBF0F8",
           "ticks": "",
           "title": {
            "standoff": 15
           },
           "zerolinecolor": "#EBF0F8",
           "zerolinewidth": 2
          }
         }
        },
        "xaxis": {
         "anchor": "y",
         "domain": [
          0,
          1
         ],
         "title": {
          "text": "timestamp"
         }
        },
        "yaxis": {
         "anchor": "x",
         "domain": [
          0,
          1
         ],
         "title": {
          "text": "value"
         }
        }
       }
      }
     },
     "metadata": {},
     "output_type": "display_data"
    }
   ],
   "source": [
    "px.line(ts_df.loc[window, imputed_columns+[original_col]].reset_index(), x=\"timestamp\", y=imputed_columns+[original_col])"
   ]
  }
 ],
 "metadata": {
  "kernelspec": {
   "display_name": "Python 3 (ipykernel)",
   "language": "python",
   "name": "python3"
  },
  "language_info": {
   "codemirror_mode": {
    "name": "ipython",
    "version": 3
   },
   "file_extension": ".py",
   "mimetype": "text/x-python",
   "name": "python",
   "nbconvert_exporter": "python",
   "pygments_lexer": "ipython3",
   "version": "3.9.0"
  }
 },
 "nbformat": 4,
 "nbformat_minor": 5
}
