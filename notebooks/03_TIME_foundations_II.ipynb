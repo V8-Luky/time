{
 "cells": [
  {
   "cell_type": "markdown",
   "source": [
    "# TIME Foundations II"
   ],
   "metadata": {},
   "id": "5bdbf6d7f65dab37"
  },
  {
   "cell_type": "code",
   "source": [
    "import numpy as np\n",
    "import pandas as pd\n",
    "import scipy.stats as stats\n",
    "from statsmodels.graphics.tsaplots import plot_acf\n",
    "\n",
    "from utils import get_figure, time_plot, stationarity_tests\n",
    "from data import get_electrocardiogram, get_apple_5y, get_france_death_rate_20y, get_switzerland_temperature"
   ],
   "metadata": {},
   "id": "ba2e42f348030e02",
   "outputs": [],
   "execution_count": null
  },
  {
   "cell_type": "markdown",
   "source": [
    "## Stationarity"
   ],
   "metadata": {},
   "id": "51ea1b8ad76e9482"
  },
  {
   "cell_type": "markdown",
   "source": [
    "### Strict Stationarity"
   ],
   "metadata": {},
   "id": "87eba4657812ce76"
  },
  {
   "cell_type": "code",
   "source": [
    "np.random.seed(42)\n",
    "n = 400\n",
    "data = np.random.normal(0, 1, n)\n",
    "time_plot(\n",
    "    x=np.arange(n),\n",
    "    y=data,\n",
    "    title='Strict Stationarity: Gaussian White Noise $W_t \\sim \\mathcal{N}(0, 1)$',\n",
    "    ylabel='$w_t$',\n",
    "    with_acf=True,\n",
    "    nlags=100,\n",
    ")\n",
    "stationarity_tests(data)"
   ],
   "metadata": {},
   "id": "4f9e9d2e41449256",
   "outputs": [],
   "execution_count": null
  },
  {
   "cell_type": "markdown",
   "source": [
    "### Weak Stationarity"
   ],
   "metadata": {},
   "id": "79a12f74e99aa3e6"
  },
  {
   "cell_type": "code",
   "source": [
    "np.random.seed(42)\n",
    "n = 400\n",
    "weak_stationary_series = np.zeros(n)\n",
    "w = np.random.normal(0, 1, n)\n",
    "weak_stationary_series[0] = w[0]\n",
    "for t in range(1, n):\n",
    "    weak_stationary_series[t] = 0.8 * weak_stationary_series[t - 1] + w[t]\n",
    "time_plot(\n",
    "    x=np.arange(n),\n",
    "    y=weak_stationary_series,\n",
    "    title='Weak Stationarity: $x_t=0.8x_{t-1}+w_t$ with $w_t \\sim \\mathcal{N}(0, 1)$',\n",
    "    with_acf=True,\n",
    "    nlags=100,\n",
    ")\n",
    "stationarity_tests(weak_stationary_series)"
   ],
   "metadata": {},
   "id": "2f8583d569ea10f9",
   "outputs": [],
   "execution_count": null
  },
  {
   "cell_type": "markdown",
   "source": [
    "## Visual inspection with correlogram"
   ],
   "metadata": {},
   "id": "aa7f3b4975d2dc9a"
  },
  {
   "cell_type": "code",
   "source": [
    "data = get_electrocardiogram()\n",
    "data = data.iloc[:6*360]\n",
    "time_plot(\n",
    "    x=data['time'],\n",
    "    y=data['ecg'],\n",
    "    title=f'Electrocardiogram (lead MLII) - 6 seconds',\n",
    "    xlabel='Time in s',\n",
    "    ylabel='ECG in mV',\n",
    "    with_acf=True,\n",
    "    nlags=100,\n",
    ")\n",
    "stationarity_tests(data['ecg'])"
   ],
   "metadata": {},
   "id": "b49758f9937c9d2f",
   "outputs": [],
   "execution_count": null
  },
  {
   "cell_type": "code",
   "source": [
    "data = get_apple_5y()\n",
    "time_plot(\n",
    "    x=data.index,\n",
    "    y=data['Close'],\n",
    "    title='Apple Inc. (AAPL) Closing Prices - Last 5 Years',\n",
    "    xlabel='Date',\n",
    "    ylabel='Closing Price (USD)',\n",
    "    with_acf=True,\n",
    "    nlags=100,\n",
    ")\n",
    "stationarity_tests(data['Close'])"
   ],
   "metadata": {},
   "id": "a996e4615d8eb508",
   "outputs": [],
   "execution_count": null
  },
  {
   "cell_type": "code",
   "source": [
    "data = get_france_death_rate_20y()\n",
    "time_plot(\n",
    "    x=data['time'],\n",
    "    y=data['value'],\n",
    "    title='Monthly Death Rates Over the Last 20 Years in France',\n",
    "    xlabel='Year',\n",
    "    ylabel='Monthly Death Rate',\n",
    "    with_acf=True,\n",
    "    nlags=100,\n",
    ")\n",
    "stationarity_tests(data['value'])"
   ],
   "metadata": {},
   "id": "ee4e1d86f63aea2d",
   "outputs": [],
   "execution_count": null
  },
  {
   "cell_type": "code",
   "source": [
    "data = get_switzerland_temperature()\n",
    "time_plot(\n",
    "    x=data['dt'],\n",
    "    y=data['AverageTemperature'],\n",
    "    title=f'Monthly Average Temperature in Switzerland',\n",
    "    xlabel='Year',\n",
    "    ylabel='Average Temperature (°C)',\n",
    "    with_acf=True,\n",
    "    nlags=100,\n",
    ")\n",
    "stationarity_tests(data['AverageTemperature'])"
   ],
   "metadata": {},
   "id": "331bf213ddcb39b5",
   "outputs": [],
   "execution_count": null
  },
  {
   "cell_type": "markdown",
   "source": [
    "## Non-linear transforms"
   ],
   "metadata": {},
   "id": "6dd0446e01c2cd10"
  },
  {
   "cell_type": "code",
   "source": [
    "np.random.seed(42)\n",
    "n = 400\n",
    "samples = np.arange(1, n+1)\n",
    "trend  = samples/10\n",
    "seasonal = 2 + np.sin(2 * np.pi * samples / 50)\n",
    "noise = np.random.normal(0, 1, n)\n",
    "nonlinear_series = trend * seasonal + noise\n",
    "fig, (ax1, ax2) = get_figure(ncols=2)\n",
    "time_plot(\n",
    "    x=samples,\n",
    "    y=nonlinear_series,\n",
    "    title='$x_t = \\\\frac{t}{10}\\\\left(2 + sin\\\\left(\\\\frac{2\\pi t}{50}\\\\right)\\\\right) + w_t$ with $w_t \\sim \\mathcal{N}(0, 1)$',\n",
    "    ax=ax1,\n",
    ")\n",
    "transformed_series = np.log(nonlinear_series)\n",
    "time_plot(\n",
    "    x=samples,\n",
    "    y=transformed_series,\n",
    "    title='$y_t = log(x_t)$',\n",
    "    ylabel='$y_t$',\n",
    "    ax=ax2\n",
    ")"
   ],
   "metadata": {},
   "id": "676a7fb4626c3adb",
   "outputs": [],
   "execution_count": null
  },
  {
   "cell_type": "code",
   "source": [
    "data = get_france_death_rate_20y()\n",
    "transformed_data = data.copy()\n",
    "transformed_data['value'], lmbda = stats.boxcox(data['value'])\n",
    "fig, (ax1, ax2) = get_figure(ncols=2)\n",
    "time_plot(\n",
    "    x=data['time'],\n",
    "    y=data['value'],\n",
    "    title='Monthly Death Rates in France',\n",
    "    xlabel='Year',\n",
    "    ylabel='Monthly Death Rate',\n",
    "    ax=ax1,\n",
    ")\n",
    "time_plot(\n",
    "    x=transformed_data['time'],\n",
    "    y=transformed_data['value'],\n",
    "    title=f'Box-Cox-transformed ($\\\\lambda={float(lmbda):.2f}$) Monthly Death Rates in France',\n",
    "    xlabel='Year',\n",
    "    ylabel='Transformed Monthly Death Rate',\n",
    "    ax=ax2,\n",
    ")\n",
    "fig.tight_layout()"
   ],
   "metadata": {},
   "id": "efd49a37f5bd5d0",
   "outputs": [],
   "execution_count": null
  },
  {
   "cell_type": "markdown",
   "source": [
    "## Differencing"
   ],
   "metadata": {},
   "id": "580b9dfd064dbaa2"
  },
  {
   "cell_type": "code",
   "source": [
    "data = get_apple_5y()\n",
    "fig, (ax1, ax2) = get_figure(ncols=2)\n",
    "time_plot(\n",
    "    x=data.index,\n",
    "    y=data['Close'],\n",
    "    title='Apple Inc. (AAPL) Closing Prices - Last 5 Years',\n",
    "    xlabel='Date',\n",
    "    ylabel='Closing Price (USD)',\n",
    "    ax=ax1,\n",
    ")\n",
    "stationarity_tests(data['Close'])\n",
    "differenced_data = data['Close'].diff().dropna()\n",
    "time_plot(\n",
    "    x=differenced_data.index,\n",
    "    y=differenced_data,\n",
    "    title='$\\\\nabla x_t$: Closing price change',\n",
    "    xlabel='Date',\n",
    "    ylabel='$\\\\nabla x_t$',\n",
    "    ax=ax2,\n",
    ")\n",
    "stationarity_tests(differenced_data)\n",
    "fig.tight_layout()"
   ],
   "metadata": {},
   "id": "39f3305964d452b2",
   "outputs": [],
   "execution_count": null
  },
  {
   "cell_type": "code",
   "source": [
    "data = get_switzerland_temperature()\n",
    "fig, (ax1, ax2) = get_figure(ncols=2)\n",
    "time_plot(\n",
    "    x=data['dt'],\n",
    "    y=data['AverageTemperature'],\n",
    "    title=f'Monthly Average Temperature in Switzerland',\n",
    "    xlabel='Year',\n",
    "    ylabel='Average Temperature (°C)',\n",
    "    ax=ax1\n",
    ")\n",
    "time_plot(\n",
    "    x=data['dt'],\n",
    "    y=data['AverageTemperature'].diff(periods=12),\n",
    "    title='$\\\\nabla_{12} x_t$',\n",
    "    xlabel='Year',\n",
    "    ylabel='$\\\\nabla_{12} x_t$',\n",
    "    ax=ax2\n",
    ")"
   ],
   "metadata": {},
   "id": "ea91e85d9aff7fc",
   "outputs": [],
   "execution_count": null
  },
  {
   "cell_type": "code",
   "source": [
    "np.random.seed(42)\n",
    "n = 200\n",
    "t = np.arange(n)\n",
    "trend = 0.1 * t**2 + 2 * t\n",
    "noise = np.random.normal(0, 10, n)\n",
    "\n",
    "y = pd.Series(trend + noise)            # Time series with quadratic trend\n",
    "y_diff1 = y.diff().dropna()             # First-order differencing\n",
    "y_diff2 = y.diff().diff().dropna()      # Second-order differencing\n",
    "\n",
    "fig, (ax1, ax2, ax3) = get_figure(nrows=3, figsize=(12, 8))\n",
    "time_plot(\n",
    "    x=y.index,\n",
    "    y=y,\n",
    "    title='$x_t = 2t + t^2/10 + w_t$ with $w_t \\sim \\mathcal{N}(0,10)$',\n",
    "    ax=ax1,\n",
    ")\n",
    "stationarity_tests(y)\n",
    "time_plot(\n",
    "    x=y_diff1.index,\n",
    "    y=y_diff1,\n",
    "    title='First order differencing: $\\\\nabla x_t$',\n",
    "    ylabel='$\\\\nabla x_t$',\n",
    "    ax=ax2,\n",
    ")\n",
    "stationarity_tests(y_diff1)\n",
    "time_plot(\n",
    "    x=y_diff2.index,\n",
    "    y=y_diff2,\n",
    "    title='Second order differencing: $\\\\nabla^2 x_t$',\n",
    "    ylabel='$\\\\nabla^2 x_t$',\n",
    "    ax=ax3,\n",
    ")\n",
    "stationarity_tests(y_diff2)\n",
    "fig.tight_layout()"
   ],
   "metadata": {},
   "id": "6356b6752cf83554",
   "outputs": [],
   "execution_count": null
  },
  {
   "cell_type": "markdown",
   "source": [
    "## Exercise"
   ],
   "metadata": {},
   "id": "549174d2cec66587"
  },
  {
   "cell_type": "code",
   "source": [
    "fig, [ax] = get_figure()\n",
    "acf = np.array([1] + [0] * 40)\n",
    "ax.stem(range(41), acf, basefmt=\" \")\n",
    "ax.set_title(\"Theoretical ACF of $X_t = t + W_t$\")\n",
    "ax.set_xlabel(\"Lag\")\n",
    "ax.set_ylabel(\"ACF\")\n",
    "fig.tight_layout()"
   ],
   "metadata": {},
   "id": "48f605c4fdb963d7",
   "outputs": [],
   "execution_count": null
  },
  {
   "cell_type": "code",
   "source": [
    "np.random.seed(42)\n",
    "n = 1000\n",
    "t = np.arange(n)\n",
    "time_series = t + np.random.normal(loc=0, scale=1, size=n)\n",
    "fig, [ax] = get_figure()\n",
    "plot_acf(time_series, lags=40, ax=ax)\n",
    "ax.set_title(\"ACF of $X_t = t + W_t$ from a realization with 1000 samples\")\n",
    "fig.tight_layout()"
   ],
   "metadata": {},
   "id": "1bc62000d448d8bd",
   "outputs": [],
   "execution_count": null
  },
  {
   "cell_type": "code",
   "source": [],
   "metadata": {},
   "id": "b4ae3b9cbaeef802",
   "outputs": [],
   "execution_count": null
  }
 ],
 "metadata": {
  "kernelspec": {
   "display_name": "Python 3",
   "language": "python",
   "name": "python3"
  },
  "language_info": {
   "codemirror_mode": {
    "name": "ipython",
    "version": 2
   },
   "file_extension": ".py",
   "mimetype": "text/x-python",
   "name": "python",
   "nbconvert_exporter": "python",
   "pygments_lexer": "ipython2",
   "version": "2.7.6"
  }
 },
 "nbformat": 4,
 "nbformat_minor": 5
}
