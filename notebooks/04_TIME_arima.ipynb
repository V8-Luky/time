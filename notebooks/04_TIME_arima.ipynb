{
 "cells": [
  {
   "cell_type": "markdown",
   "source": [
    "# TIME ARIMA"
   ],
   "metadata": {},
   "id": "71f337e5db82dea4"
  },
  {
   "cell_type": "code",
   "source": [
    "import itertools\n",
    "\n",
    "import numpy as np\n",
    "from statsmodels.tsa.arima.model import ARIMA\n",
    "\n",
    "from utils import time_plot, plot_arma_process, stationarity_tests, get_figure, acf_plot, pacf_plot\n",
    "from data import get_apple_5y, get_switzerland_temperature"
   ],
   "metadata": {},
   "id": "2db889b8a6fbabd5",
   "outputs": [],
   "execution_count": null
  },
  {
   "cell_type": "markdown",
   "source": [
    "## Autoregressive process"
   ],
   "metadata": {},
   "id": "71001bcb17d4a907"
  },
  {
   "cell_type": "code",
   "source": [
    "np.random.seed(42)\n",
    "# AR coeffs Note: coefficients are in the form of the characteristic polynomial\n",
    "# first coefficient for the zero-lag term\n",
    "ar_parameters = [\n",
    "    ([1, 1/7], '$x_t = -\\\\frac{1}{7}x_{t-1}+w_t$'),\n",
    "    ([1, -3/2, 1/2], '$x_t = \\\\frac{3}{2}x_{t-1}-\\\\frac{1}{2}x_{t-2}+w_t$'),\n",
    "    ([1, -5/6, -1/6, 1/6], '$x_t = \\\\frac{5}{6}x_{t-1}+\\\\frac{1}{6}x_{t-2}-\\\\frac{1}{6}x_{t-3}+w_t$'),\n",
    "    ([1, 0, -5/4, 0, 1/4], '$x_t = \\\\frac{5}{4}x_{t-2}-\\\\frac{1}{4}x_{t-4}+w_t$'),\n",
    "]\n",
    "for ar_coeffs, formula in ar_parameters:\n",
    "    plot_arma_process(ar_coeffs, [1], formula, acf_or_pacf=True)"
   ],
   "metadata": {},
   "id": "b1b965acb4e38379",
   "outputs": [],
   "execution_count": null
  },
  {
   "cell_type": "markdown",
   "source": [
    "### Partial Autocorrelation Function (PACF)"
   ],
   "metadata": {},
   "id": "8e3690b1f76f5daf"
  },
  {
   "cell_type": "code",
   "source": [
    "np.random.seed(42)\n",
    "for ar_coeffs, formula in ar_parameters:\n",
    "    plot_arma_process(ar_coeffs, [1], formula, acf_or_pacf=False)"
   ],
   "metadata": {},
   "id": "a88a15a90f18cf92",
   "outputs": [],
   "execution_count": null
  },
  {
   "cell_type": "markdown",
   "source": [
    "## Moving Average process"
   ],
   "metadata": {},
   "id": "937e7755c962082c"
  },
  {
   "cell_type": "code",
   "source": [
    "np.random.seed(42)\n",
    "# MA coeffs Note: coefficients are in the form of the characteristic polynomial\n",
    "# first coefficient for the zero-lag term\n",
    "ma_parameters = [\n",
    "    ([1, -1/2], '$x_t = w_t-\\\\frac{1}{2}w_{t-1}$'),\n",
    "    ([1, -1, -3/4], '$x_t = w_t-w_{t-1}-\\\\frac{3}{4}w_{t-2}$'),\n",
    "    ([1, -1/2, -1/9, 1/18], '$x_t = w_t-\\\\frac{1}{2}w_{t-1}-\\\\frac{1}{9}w_{t-2}+\\\\frac{1}{18}w_{t-3}$'),\n",
    "    ([1, -1, -3, 1, 2], '$x_t = w_t-w_{t-1}-3w_{t-2}+w_{t-3}+2w_{t-4}$'),\n",
    "]\n",
    "for ma_coeffs, formula in ma_parameters:\n",
    "    plot_arma_process([1], ma_coeffs, formula, acf_or_pacf=True)"
   ],
   "metadata": {},
   "id": "591cecda35a16513",
   "outputs": [],
   "execution_count": null
  },
  {
   "cell_type": "markdown",
   "source": [
    "### Partial Autocorrelation Function (PACF)"
   ],
   "metadata": {},
   "id": "d2970d882580072c"
  },
  {
   "cell_type": "code",
   "source": [
    "np.random.seed(42)\n",
    "for ma_coeffs, formula in ma_parameters:\n",
    "    plot_arma_process([1], ma_coeffs, formula, acf_or_pacf=False)"
   ],
   "metadata": {},
   "id": "7bb526fbcf471fc2",
   "outputs": [],
   "execution_count": null
  },
  {
   "cell_type": "markdown",
   "source": [
    "## ARMA process"
   ],
   "metadata": {},
   "id": "bfbe80e739104751"
  },
  {
   "cell_type": "code",
   "source": [
    "np.random.seed(42)\n",
    "nsamples = 1000\n",
    "arma_parameters = list(itertools.product(ar_parameters, ma_parameters))\n",
    "for (ar_coeffs, ar_formula), (ma_coeffs, ma_formula) in arma_parameters:\n",
    "    formula = f'${ar_formula.strip(\"$\").split(\"w_t\")[0]}{ma_formula.strip(\"$\").split(\"=\")[1]}$'\n",
    "    plot_arma_process(ar_coeffs, ma_coeffs, formula, acf_or_pacf=True)"
   ],
   "metadata": {},
   "id": "838a8691e0ba1c78",
   "outputs": [],
   "execution_count": null
  },
  {
   "cell_type": "markdown",
   "source": [
    "### Partial Autocorrelation Function (PACF)"
   ],
   "metadata": {},
   "id": "4526109423191b84"
  },
  {
   "cell_type": "code",
   "source": [
    "np.random.seed(42)\n",
    "for (ar_coeffs, ar_formula), (ma_coeffs, ma_formula) in arma_parameters:\n",
    "    formula = f'${ar_formula.strip(\"$\").split(\"w_t\")[0]}{ma_formula.strip(\"$\").split(\"=\")[1]}$'\n",
    "    plot_arma_process(ar_coeffs, ma_coeffs, formula, acf_or_pacf=False)"
   ],
   "metadata": {},
   "id": "e32f9d932162017a",
   "outputs": [],
   "execution_count": null
  },
  {
   "cell_type": "markdown",
   "source": [
    "## Example: Apple closing prices\n",
    "### Stationarity"
   ],
   "metadata": {},
   "id": "173cb7a8c3d51bdd"
  },
  {
   "cell_type": "code",
   "source": [
    "data = get_apple_5y()\n",
    "data = data.resample('W').mean().ffill()\n",
    "differenced_data = data['Close'].diff().dropna()\n",
    "stationarity_tests(differenced_data)\n",
    "fig, [ax1, ax2] = get_figure(ncols=2)\n",
    "time_plot(\n",
    "    x=data.index,\n",
    "    y=data['Close'],\n",
    "    title='Weekly average of Apple Closing Prices - Last 5 Years',\n",
    "    xlabel='Date',\n",
    "    ylabel='Closing Price (USD)',\n",
    "    ax=ax1,\n",
    ")\n",
    "time_plot(\n",
    "    x=differenced_data.index,\n",
    "    y=differenced_data,\n",
    "    title='Differenced data',\n",
    "    ylabel='$\\\\nabla x_t$',\n",
    "    ax=ax2,\n",
    ")"
   ],
   "metadata": {},
   "id": "be813de97a47194e",
   "outputs": [],
   "execution_count": null
  },
  {
   "cell_type": "markdown",
   "source": [
    "### ACF and PACF"
   ],
   "metadata": {},
   "id": "73f847e3957f15d9"
  },
  {
   "cell_type": "code",
   "source": [
    "fig, [ax1, ax2] = get_figure(ncols=2)\n",
    "acf_plot(differenced_data, 30, ax1, title=\"Differenced data\")\n",
    "pacf_plot(differenced_data, 30, ax2, title=\"Differenced data\")"
   ],
   "metadata": {},
   "id": "ee97dddb26566b2",
   "outputs": [],
   "execution_count": null
  },
  {
   "cell_type": "markdown",
   "source": [
    "### Fit ARIMA model"
   ],
   "metadata": {},
   "id": "66ed052634f2ca46"
  },
  {
   "cell_type": "code",
   "source": [
    "model = ARIMA(data['Close'], order=(0,1,1))\n",
    "model_fit = model.fit()\n",
    "print(model_fit.summary())\n",
    "forecast_steps = 26\n",
    "forecast = model_fit.forecast(steps=forecast_steps)\n",
    "\n",
    "fig, ax = time_plot(\n",
    "    x=data.index,\n",
    "    y=data['Close'],\n",
    "    title='Forecast of Monthly Average Apple Closing Prices',\n",
    "    xlabel='Date',\n",
    "    ylabel='Closing Price (USD)',\n",
    "    return_fig=True,\n",
    ")\n",
    "ax.plot(forecast.index, forecast, label=\"ARIMA(0,1,1)\", color='red')\n",
    "ax.legend()"
   ],
   "metadata": {},
   "id": "a5ba13aac621dbb3",
   "outputs": [],
   "execution_count": null
  },
  {
   "cell_type": "markdown",
   "source": [
    "## Example Swiss temperatures\n",
    "### Stationarity"
   ],
   "metadata": {},
   "id": "cc1a748f03fef90a"
  },
  {
   "cell_type": "code",
   "source": [
    "data = get_switzerland_temperature()\n",
    "data = data.set_index('dt')\n",
    "data = data.asfreq('ME')\n",
    "differenced_data = data['AverageTemperature'].diff(12).dropna()\n",
    "stationarity_tests(differenced_data)\n",
    "fig, [ax1, ax2] = get_figure(ncols=2)\n",
    "time_plot(\n",
    "    x=data.index,\n",
    "    y=data['AverageTemperature'],\n",
    "    title='Monthly Average Temperature in Switzerland',\n",
    "    xlabel='Year',\n",
    "    ylabel='Average Temperature (°C)',\n",
    "    ax=ax1,\n",
    ")\n",
    "time_plot(\n",
    "    x=differenced_data.index,\n",
    "    y=differenced_data,\n",
    "    title='Differenced data',\n",
    "    ylabel='$\\\\nabla x_t$',\n",
    "    ax=ax2,\n",
    ")"
   ],
   "metadata": {},
   "id": "4e1da790f6b2d75a",
   "outputs": [],
   "execution_count": null
  },
  {
   "cell_type": "markdown",
   "source": [
    "### ACF and PACF"
   ],
   "metadata": {},
   "id": "d6a9d4e245e57748"
  },
  {
   "cell_type": "code",
   "source": [
    "fig, [ax1, ax2] = get_figure(ncols=2)\n",
    "acf_plot(differenced_data, 30, ax1, title=\"Differenced data\")\n",
    "pacf_plot(differenced_data, 30, ax2, title=\"Differenced data\")"
   ],
   "metadata": {},
   "id": "3d9c90f5aa4432c5",
   "outputs": [],
   "execution_count": null
  },
  {
   "cell_type": "markdown",
   "source": [
    "### Fit ARIMA model"
   ],
   "metadata": {},
   "id": "42008a2d77f4ef01"
  },
  {
   "cell_type": "code",
   "source": [
    "model = ARIMA(\n",
    "    data['AverageTemperature'], \n",
    "    order=(0,0,0),\n",
    "    seasonal_order=(1,1,0,12),\n",
    ")\n",
    "model_fit = model.fit()\n",
    "print(model_fit.summary())\n",
    "forecast_steps = 26\n",
    "forecast = model_fit.forecast(steps=forecast_steps)\n",
    "\n",
    "fig, ax = time_plot(\n",
    "    x=data.index,\n",
    "    y=data['AverageTemperature'],\n",
    "    title='Forecast of Monthly Average Temperature in Switzerland',\n",
    "    xlabel='Year',\n",
    "    ylabel='Average Temperature (°C)',\n",
    "    return_fig=True,\n",
    ")\n",
    "ax.plot(forecast.index, forecast, label=\"ARIMA(0,0,0)(1,1,0)12\", color='red')\n",
    "ax.legend()"
   ],
   "metadata": {},
   "id": "8c1c0f89aaa21131",
   "outputs": [],
   "execution_count": null
  },
  {
   "cell_type": "code",
   "source": [],
   "metadata": {},
   "id": "80f4bfc35420093a",
   "outputs": [],
   "execution_count": null
  }
 ],
 "metadata": {
  "kernelspec": {
   "display_name": "Python 3",
   "language": "python",
   "name": "python3"
  },
  "language_info": {
   "codemirror_mode": {
    "name": "ipython",
    "version": 2
   },
   "file_extension": ".py",
   "mimetype": "text/x-python",
   "name": "python",
   "nbconvert_exporter": "python",
   "pygments_lexer": "ipython2",
   "version": "2.7.6"
  }
 },
 "nbformat": 4,
 "nbformat_minor": 5
}
